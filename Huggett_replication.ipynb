{
 "cells": [
  {
   "cell_type": "code",
   "execution_count": 12,
   "metadata": {},
   "outputs": [],
   "source": [
    "using LinearAlgebra, Interpolations, Plots\n",
    "using HA_solver"
   ]
  },
  {
   "cell_type": "markdown",
   "metadata": {},
   "source": [
    "# Using HA_solver for Huggett model\n",
    "Here is a quick demostration of HA_solver, with only implemented (so far hopefully) model: Hugget heterogenous agents with endowments model.\n",
    "Unfortunately, tuples are fater than sturctures in Julia. That is why I used tuples for writingdown parameters, thus they need to be write down in the set order (or it will throw error or sth worse). In future we can try to use Parameters.jl ...\n",
    "For now, ehere is a plain notebook with finding q\n"
   ]
  },
  {
   "cell_type": "code",
   "execution_count": 13,
   "metadata": {},
   "outputs": [
    {
     "data": {
      "text/plain": [
       "(100, [-1.999, -1.9887000000000001, -1.978091, -1.96716373, -1.9559086419, -1.944315901157, -1.93237537819171, -1.920076639537461, -1.9074089387235849, -1.8943612068852924  …  2.5674937076275306, 2.7147885188563565, 2.866502174422047, 3.0227672396547085, 3.18372025684435, 3.349501864549681, 3.5202569204861716, 3.696134628100757, 3.87728866694378, 4.063877326952094], -2.0)"
      ]
     },
     "execution_count": 13,
     "metadata": {},
     "output_type": "execute_result"
    }
   ],
   "source": [
    "P = [0.925 0.075\n",
    "    0.5 0.5]\n",
    "β = 0.993 \n",
    "σ = 1.5\n",
    "e = [1.,.1]\n",
    "a_n =100\n",
    "Δ =0.01\n",
    "g = 0.03\n",
    "lb = 0.8 #q lower bond for bisection\n",
    "ub = 1.15 #q upper bound for bisection \n",
    "a_min = -2.0 #TODO I need to define a_min twice  \n",
    "Params = (β,σ, e, P, a_min, 0.8, 1.15)\n",
    "NumParams = HA_solver.define_NumParam(a_n, Δ, g, a_min, 0.001)\n",
    "# define asset grid, it is not evenly spaced as each element is computed as $a_grid[i] = a_grid[i-1]+(1+g)^i*Δ $, \n",
    "#last value define first element of the gird to be minimal on RHS of the lowest possible point   \n"
   ]
  },
  {
   "cell_type": "code",
   "execution_count": 14,
   "metadata": {},
   "outputs": [
    {
     "name": "stdout",
     "output_type": "stream",
     "text": [
      "Iteration 2\n",
      "Iteration 3\n",
      "Iteration 4\n",
      "Iteration 5\n",
      "Iteration 6\n",
      "Iteration 7\n",
      "Iteration 8\n",
      "Iteration 9\n",
      "Iteration 10\n",
      "Iteration 11\n",
      "Iteration 12\n",
      "Iteration 13\n",
      "Iteration 14\n",
      "Iteration 15\n",
      "Iteration 16\n",
      "Iteration 17\n",
      "Iteration 18\n",
      "Iteration 19\n",
      "Iteration 20\n",
      "Iteration 21\n",
      "Iteration 22\n",
      "Iteration 23\n",
      " equilibrium q is 1.012639546394348\n",
      "DONE\n"
     ]
    }
   ],
   "source": [
    "HA_solver.Find_eq_Hugget(Params,NumParams )"
   ]
  },
  {
   "cell_type": "markdown",
   "metadata": {},
   "source": [
    "ok 1.0126 is almost 1.0124 in the paper, lest try with -4.0"
   ]
  },
  {
   "cell_type": "code",
   "execution_count": 15,
   "metadata": {},
   "outputs": [
    {
     "name": "stdout",
     "output_type": "stream",
     "text": [
      "Iteration 2\n",
      "Iteration 3\n",
      "Iteration 4\n",
      "Iteration 5\n",
      "Iteration 6\n",
      "Iteration 7\n",
      "Iteration 8\n",
      "Iteration 9\n",
      "Iteration 10\n",
      "Iteration 11\n",
      "Iteration 12\n",
      "Iteration 13\n",
      "Iteration 14\n",
      "Iteration 15\n",
      "Iteration 16\n",
      "Iteration 17\n",
      "Iteration 18\n",
      "Iteration 19\n",
      "Iteration 20\n",
      "Iteration 21\n",
      "Iteration 22\n",
      "Iteration 23\n",
      "Iteration 24\n",
      "Iteration 25\n",
      "Iteration 26\n",
      " equilibrium q is 0.9974296480417253\n",
      "DONE\n"
     ]
    }
   ],
   "source": [
    "a_min = -4.0 #TODO I need to define a_min twice  \n",
    "Params = (β,σ, e, P, a_min, 0.8, 1.15)\n",
    "NumParams = HA_solver.define_NumParam(a_n, Δ, g, a_min, 0.001)\n",
    "HA_solver.Find_eq_Hugget(Params,NumParams )"
   ]
  },
  {
   "cell_type": "markdown",
   "metadata": {},
   "source": [
    "Ok this is also close (0.9962) in the article"
   ]
  },
  {
   "cell_type": "code",
   "execution_count": 16,
   "metadata": {},
   "outputs": [
    {
     "name": "stdout",
     "output_type": "stream",
     "text": [
      "Iteration 2\n",
      "Iteration 3\n",
      "Iteration 4\n",
      "Iteration 5\n",
      "Iteration 6\n",
      "Iteration 7\n",
      "Iteration 8\n",
      "Iteration 9\n",
      "Iteration 10\n",
      "Iteration 11\n",
      "Iteration 12\n",
      "Iteration 13\n",
      "Iteration 14\n",
      "Iteration 15\n",
      "Iteration 16\n",
      "Iteration 17\n",
      "Iteration 18\n",
      "Iteration 19\n",
      "Iteration 20\n",
      "Iteration 21\n",
      "Iteration 22\n",
      "Iteration 23\n",
      "Iteration 24\n",
      "Iteration 25\n",
      "Iteration 26\n",
      "Iteration 27\n",
      "Iteration 28\n",
      "Iteration 29\n",
      "Iteration 30\n",
      "Iteration 31\n",
      " equilibrium q is 0.9948722559027374\n",
      "DONE\n"
     ]
    }
   ],
   "source": [
    "\n",
    "a_min = -6.0   \n",
    "Params = (β,σ, e, P, a_min, 0.8, 1.15)\n",
    "g=0.04\n",
    "NumParams = HA_solver.define_NumParam(a_n, Δ, g, a_min, 0.005)\n",
    "HA_solver.Find_eq_Hugget(Params,NumParams )"
   ]
  },
  {
   "cell_type": "markdown",
   "metadata": {},
   "source": [
    "For this I needed to change g to have more points on the positive side, I also add minimaly more space from a_min to the grid, \n",
    "but the resul is ok\n"
   ]
  },
  {
   "cell_type": "code",
   "execution_count": 18,
   "metadata": {},
   "outputs": [
    {
     "name": "stdout",
     "output_type": "stream",
     "text": [
      "Iteration 2\n",
      "Iteration 3\n",
      "Iteration 4\n",
      "Iteration 5\n",
      "Iteration 6\n",
      "Iteration 7\n",
      "Iteration 8\n",
      "Iteration 9\n",
      "Iteration 10\n",
      "Iteration 11\n",
      "Iteration 12\n",
      "Iteration 13\n",
      "Iteration 14\n",
      "Iteration 15\n",
      "Iteration 16\n",
      "Iteration 17\n",
      "Iteration 18\n",
      "Iteration 19\n",
      "Iteration 20\n",
      "Iteration 21\n",
      "Iteration 22\n",
      "Iteration 23\n",
      "Iteration 24\n",
      "Iteration 25\n",
      "Iteration 26\n",
      "Iteration 27\n",
      "Iteration 28\n",
      "Iteration 29\n",
      "Iteration 30\n",
      "Iteration 31\n",
      " equilibrium q is 0.9934888784773648\n",
      "DONE\n"
     ]
    }
   ],
   "source": [
    "a_min = -8.0   \n",
    "Params = (β,σ, e, P, a_min, 0.8, 1.15)\n",
    "g=0.04\n",
    "NumParams = HA_solver.define_NumParam(a_n, Δ, g, a_min, 0.005)\n",
    "HA_solver.Find_eq_Hugget(Params,NumParams )"
   ]
  },
  {
   "cell_type": "markdown",
   "metadata": {},
   "source": [
    "Thats exactly the same number"
   ]
  }
 ],
 "metadata": {
  "kernelspec": {
   "display_name": "Julia 1.5.0",
   "language": "julia",
   "name": "julia-1.5"
  },
  "language_info": {
   "file_extension": ".jl",
   "mimetype": "application/julia",
   "name": "julia",
   "version": "1.5.0"
  }
 },
 "nbformat": 4,
 "nbformat_minor": 4
}
