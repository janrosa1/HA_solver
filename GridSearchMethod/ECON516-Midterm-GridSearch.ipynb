{
 "cells": [
  {
   "cell_type": "markdown",
   "metadata": {},
   "source": [
    "# ECON 516: Replication of Huggett (1993)\n",
    "### Giulia Lo Forte - November 7, 2020\n",
    "-----"
   ]
  },
  {
   "cell_type": "markdown",
   "metadata": {},
   "source": [
    "Here you can find the code and results for the replication of Huggett (1993).\n",
    "\n",
    "I am using a grid method approach.\n",
    "It takes a lot of time to run, but the results are quite satisfying.\n",
    "\n",
    "I have noticed that Jupyter Notebook takes a little bit more time to run compared to a simple Julia file, probably due to something off in my own computer.\n",
    "Therefore, I am also attaching the same code written in a Julia file.\n",
    "\n",
    "This document is organized as follows: a brief summary of the model and its equilibrium; a brief explanation of the theoretical and computational steps to follow in order to solve the model; a comparison of the results in two different settings; a brief list of checks and graphs I have performed in smaller parts of the code.\n",
    "\n",
    "\n",
    "-------"
   ]
  },
  {
   "cell_type": "code",
   "execution_count": 1,
   "metadata": {},
   "outputs": [],
   "source": [
    "using LinearAlgebra, Random, Distributions, Statistics, Plots, BenchmarkTools, Interpolations"
   ]
  },
  {
   "cell_type": "markdown",
   "metadata": {},
   "source": [
    "----\n",
    "## Model and Equilibrium\n",
    "The model encompasses the following elements:\n",
    "- a continuum of agents with mass 1;\n",
    "- in each period, the agent is endowed with $e \\in E=\\{e_h; e_l\\}$ with $e_h > e_l$ according to a Markov Process $\\pi(e'|e)= Pr(e_{t+1}=e' | e_t = e) > 0 $ independent across agents;\n",
    "- the utility function is\n",
    "$$ E\\big[ \\sum_{t=0}^{\\infty} \\beta^t u(c_t) \\big] $$\n",
    "with $\\beta \\in (0,1) $, $u(c) = \\frac{c^{1-\\sigma}}{1-\\sigma}$ and $\\sigma >1$;\n",
    "- the budget constraint in each period is $c + a' q \\leq a+e$ with $a' \\geq \\underline{a}$ and $\\underline{a} < 0$.\n",
    "\n",
    "Define the individual state variable as $x = (a,e) \\in X$ with $X = A$x$E$, $A=[\\underline{a},\\infty)$.\n",
    "Let $q>0$ be the constant price for next period's credit.\n",
    "\n",
    "The decision problem for the individual is\n",
    "$$ v(x;q) = \\max_{(c,a') \\in \\Gamma(x;q)} u(c) + \\beta \\sum_{e'} v(a',e';q) \\pi(e'|e) $$\n",
    "where $\\Gamma(x;q) = \\{(c,a') : c+qa' \\leq a+e; c \\geq 0; a' \\geq a \\}$.\n",
    "\n",
    "\n",
    "Let $\\overline{a}$ be an endogenously determined level of credit balance that individual agents never overtake, then $S=[\\underline{a},\\overline{a}]$x$E$ and $\\beta_S$ is the the corresponding Borel $\\sigma$-algebra.\n",
    "$\\forall B \\in \\beta_S$, $\\psi(B)$ is the mass of agents whose individual state vector lies in $B$.\n",
    "\n",
    "Now define the transition probability $P: S$x$\\beta_S \\rightarrow [0,1]$ where $P(x,B)$ is the probability that an agent with state $x$ will have a state vector lying in $B$ in the next period."
   ]
  },
  {
   "cell_type": "markdown",
   "metadata": {},
   "source": [
    "#### Definition\n",
    "A *stationary equilibrium* is $c(x)$, $a(x)$, $q$, and $\\psi$ such that:\n",
    "- $c(x)$ and $a(x)$ are optimal decision rules, given $q$;\n",
    "- markets clear: $\\int_S c(x) d\\psi = \\int_S e d\\psi$ and $\\int_S a(x) d \\psi = 0$;\n",
    "- $\\psi$ is stationary: $\\psi(B)=\\int_S P(x,B) d \\psi \\quad \\forall B \\in \\beta_S$."
   ]
  },
  {
   "cell_type": "markdown",
   "metadata": {},
   "source": [
    "#### Theorem 1\n",
    "Define $T: C(X) \\rightarrow C(X)$, with $C(X)$ being the space of bounded, continuous, real-valued functions on $X$, as:\n",
    "$$ (Tv)(x;q) = \\max_{(c,a') \\in \\Gamma(x;q)} u(c)+\\beta \\sum_{e'} v(a',e';q) \\pi(e'|e) $$\n",
    "\n",
    "For $q>0$ and $\\underline{a} + e_l + \\underline{a}q < 0$ there exists a unique colution $v(x;q) \\in C(X)$ and $T^n v_0$ converges uniformly to $v$ from any starting point $v_0$."
   ]
  },
  {
   "cell_type": "markdown",
   "metadata": {},
   "source": [
    "#### Theorem 2\n",
    "Define $W: M(S) \\rightarrow M(S)$, with $M(S)$ being the space of probability measures $(S,\\beta_S)$, as\n",
    "$$ (W\\psi)(B) = \\int_S P(s,B) d \\psi \\quad \\forall B \\in \\beta_S$$\n",
    "\n",
    "If the conditions for Theorem 1 are satisfied, $\\beta < q$, $\\pi(e_h|e_h) \\geq \\pi(e_h|e_l)$, then there exists a unique stationary probability measure $\\psi$ and $W^n\\psi_0$ converges weakly to $\\psi$.\n"
   ]
  },
  {
   "cell_type": "markdown",
   "metadata": {},
   "source": [
    "-----\n",
    "\n",
    "## Calibration\n",
    "Calibration is performed in order to match the variability of labour earnings (as measured in Kydland (1984)) and the average duration of unemployment (as measured in the Handbook of Labor Statistic).\n",
    "\n",
    "The author uses the following setting:\n",
    "- $e_h = 1.0$, $e_l = 0.1$, $\\pi(e_h|e_h) = 0.925$, $\\pi(e_h|e_l) = 0.5$;\n",
    "- 6 model periods in one year, therefore the standard deviation is 20\\% and the average duration of $e_l$ is 2 model periods;\n",
    "- $\\beta=0.9932$;\n",
    "- $\\sigma = 1.5$;\n",
    "- $\\underline{a} \\in \\{ -2, -4, -6, -8 \\}$."
   ]
  },
  {
   "cell_type": "markdown",
   "metadata": {},
   "source": [
    "----\n",
    "\n",
    "## Computation\n",
    "The computation procedure can be broken down in three steps.\n",
    "I am going to write a separate code for each one of the steps, and then combine them together to find the solution of the model.\n"
   ]
  },
  {
   "cell_type": "markdown",
   "metadata": {},
   "source": [
    "#### Step 1\n",
    "Given $q$, compute $a(x;q)$ by iterating\n",
    "$$ (Tv)(x;q) = \\max_{(c,a') \\in \\Gamma} u(c) + \\beta \\sum_{e'} v(a',e';q) \\pi(e'|e) $$\n",
    "from an arbitrary, concave, bounded, differentiable function $v_0$.\n",
    "The FOC of the problem in $Tv_0$ is\n",
    "$$ u'(a+e-a'q)q \\geq \\beta \\sum_{e'} v'_0(a',e')\\pi(e'|e) $$\n",
    "The solution to this FOC is labelled $a_1(x;q)$. The FOC in $T^2v_0$ is the same but with $Tv'_0(x) = u'(a+e-a_1(x;q)q)$ in place of $v'_0(x)$. The solution is now labelled $a_2(x;q)$, and iteration continues until convergence of the functions $a$.\n",
    "\n",
    "On a computer, we need to perform some changes:\n",
    "1. compute $u'(a+e-a'q)$ and $v'_0(a,e)$ on finite grids on $X$x$A$ and $X$, using linear interpolation between gridpoints; in practice, for $A$ we use 150-350 evenly spaced gridpoints, with gridsize being 0.03-0.1 units of credit balances;\n",
    "2. solve for $a_1(a,e)$ on gridpoints using the FOC;\n",
    "3. repeat until convergence."
   ]
  },
  {
   "cell_type": "markdown",
   "metadata": {},
   "source": [
    "**What I am doing in practice:**\n",
    "\n",
    "I have chosen to employ a grid search in `step1`. In each point of the grid `A` in which consumption is weakly positive, I compute the value function `V` and then find the value of $a'$ that corresponds to the maximum value function attainable by the individual starting from a given point in the grid.\n",
    "When consumption is negative, I replace the value function with $-\\infty$.\n",
    "\n",
    "I then repeat the process until convergence of the maximum value function, that is convergence of the policy function."
   ]
  },
  {
   "cell_type": "code",
   "execution_count": 2,
   "metadata": {},
   "outputs": [
    {
     "data": {
      "text/plain": [
       "step1 (generic function with 1 method)"
      ]
     },
     "execution_count": 2,
     "metadata": {},
     "output_type": "execute_result"
    }
   ],
   "source": [
    "# Function for step 1: for a given q, find the optimal policy a'\n",
    "# Leave q generic as a guess (q>1)\n",
    "function step1(A, E, Π, q, β, σ; v_guess = 0.0, maxT = 600, tol = 0.01)\n",
    "    \n",
    "    a_size = length(A)\n",
    "    e_size = size(E)[1]\n",
    "    \n",
    "    v0 = v_guess .* ones(a_size, e_size)\n",
    "    v_update = zeros(a_size, e_size)\n",
    "    pol_func = zeros(a_size, e_size)\n",
    "    \n",
    "    # Define the utility function\n",
    "    u(c) = (c.^(1-σ)) ./ (1 - σ) # consider putting this outside the function for more flexibility of the code!\n",
    "    \n",
    "    # Iteration of value function\n",
    "    normdiff = Inf\n",
    "    t = 1\n",
    "    \n",
    "    while normdiff > tol && t <= maxT\n",
    "        \n",
    "        # Do linear interpolation of the value function on knots (A,E)\n",
    "        v_interpol = LinearInterpolation((A, E), v0)\n",
    "        \n",
    "        # Replace new value function with solution\n",
    "        for a = 1:a_size\n",
    "            for e = 1:e_size\n",
    "                \n",
    "                # Generate value function V\n",
    "                # If c <= 0, set value function to -∞\n",
    "                V(x) = ((E[e] + A[a] - q*x) <= 0) ? -Inf :\n",
    "                   u(E[e] + A[a] - q*x) + β*(v_interpol(x, E[1])* Π[e,1] + v_interpol(x, E[2])* Π[e,2])\n",
    "                \n",
    "                # Find the maximum\n",
    "                aux = findmax(V.(A))      # (maximum, index)\n",
    "                v_update[a,e] = aux[1]    # actual maximum value\n",
    "                pol_func[a,e] = A[aux[2]] # policy function a'\n",
    "                \n",
    "            end\n",
    "        end\n",
    "        \n",
    "        t += 1\n",
    "        normdiff = maximum(abs.(v_update - v0))\n",
    "        \n",
    "        # v0 = v_update  # this is mutable!\n",
    "        v0 = copy(v_update)\n",
    "        \n",
    "    end\n",
    "    \n",
    "    return pol_func\n",
    "    \n",
    "end"
   ]
  },
  {
   "cell_type": "markdown",
   "metadata": {},
   "source": [
    "#### Step 2\n",
    "Given $a(x;q)$, iterate on $\\psi_{n+1}(B) = \\int_S P(x,B) d \\psi_n $ from an arbitrary $\\psi_0 \\in M(S)$.\n",
    "Then use $\\psi$ to compute $\\int_S a(x;q) d \\psi$ and obtain $q$.\n",
    "\n",
    "On a computer, define the following function on gridpoints using interpolation for in-between gridpoints:\n",
    "$$ F_0(a,e) = \\psi_0 \\big(\\{ x: x_1 \\leq a, x_2 =e \\} \\big) $$\n",
    "\n",
    "Then iterate on \n",
    "$$ F_{t+1}(a',e') = \\sum_e \\pi(e'|e)F_t(a^{-1}(^{.},e)(a'),e) $$\n",
    "on gridpoints $(a',e')$.\n",
    "Define $a^{-1}(^{.},e)(\\underline{a})$ as the maximum $a$ such that $\\underline{a}$ is chosen when the state is $(a,e)$.\n",
    "Iterate until $F_t$ converges."
   ]
  },
  {
   "cell_type": "markdown",
   "metadata": {},
   "source": [
    "**What I am doing in practice:**\n",
    "\n",
    "I first define function `pol_inv` which computes the inverse of the policy function.\n",
    "I compute it as the element in the grid of `A` such that `pol_func(A, E)` is the closest to $a'$.\n",
    "\n",
    "However, note some adjustments:\n",
    "1. if $a'$ is smaller than all the values of the policy function, then we set $a$ to $\\underline{a}$;\n",
    "2. if $e'$ is the best shock and $a'$ is bigger than any value of the optimal policy function, then we set $a$ to the endogenous $\\overline{a}$ corresponding to the intersection with the 45° line.\n",
    "\n",
    "Once I have defined the inverse of the policy function, I generate the function `step2` which finds the stationary distribution $\\Psi$.\n",
    "As stated above, the code computes the updated distribution using the initial guess distribution, the inverse of the policy function, and the transition probabilities.\n",
    "The code then iterates over the updated distributions until they converge to the same value.\n",
    "\n",
    "For the initial guess distribution, note that $\\Psi$ is the cumulative distribution over any $(a, e)$.\n",
    "Therefore, the initial guess distribution must reach value $1$ over all the grid points for $a$ and $e$.\n",
    "I am assuming that individuals split equally across the two values of the exogenous state variable $e$, and then they distribute uniformly across the values of $a$ for a given $e$.\n",
    "In practice, the initial guess cumulative distribution function is given by a range going from $0.0$ to $0.5$ with as many steps as the number of gridpoints preceding the endogenous $\\underline{a}$ for each value of $e$.\n",
    "Summing across the two values of $e$ then gives $1$."
   ]
  },
  {
   "cell_type": "code",
   "execution_count": 3,
   "metadata": {},
   "outputs": [
    {
     "data": {
      "text/plain": [
       "pol_inv (generic function with 1 method)"
      ]
     },
     "execution_count": 3,
     "metadata": {},
     "output_type": "execute_result"
    }
   ],
   "source": [
    "# Define the function a^{-1}\n",
    "function pol_inv(A, pol_func, aprime, eprime)\n",
    "     \n",
    "    # if a' < minimum value of policy function, then a must be a_lowerbar\n",
    "    if minimum(pol_func[:, eprime]) > A[aprime]\n",
    "        \n",
    "        return 1\n",
    "    \n",
    "    # when e'=2, be careful to distinguish pre and post cross with 45° line (endogenous a_UpperBar)   \n",
    "    #elseif eprime == 2 && minimum(pol_func[:, eprime]) <= A[aprime]\n",
    "    elseif eprime == 2\n",
    "        \n",
    "        return min(findlast(pol_func[:, eprime] .<= A[aprime]), \n",
    "            findfirst((pol_func[:, eprime] - A) .< 0.01))\n",
    "    \n",
    "    # in any other case, find element of A such that policy function is closest to a'    \n",
    "    else\n",
    "        \n",
    "        return findlast(pol_func[:, eprime] .<= A[aprime])\n",
    "        \n",
    "    end   \n",
    "    \n",
    "end"
   ]
  },
  {
   "cell_type": "code",
   "execution_count": 4,
   "metadata": {},
   "outputs": [
    {
     "data": {
      "text/plain": [
       "step2 (generic function with 1 method)"
      ]
     },
     "execution_count": 4,
     "metadata": {},
     "output_type": "execute_result"
    }
   ],
   "source": [
    "# Define function for step2: loop to the stationary distribution\n",
    "function step2(A, E, Π, pol_func; tol = 0.01, maxT = 600)\n",
    "    \n",
    "    # retrieve dimensions\n",
    "    a_size = length(A)\n",
    "    e_size = size(E)[1]\n",
    "    \n",
    "    # Find endogenous position where a' = a\n",
    "    aBar = findlast((pol_func[:,2] - A) .< tol)\n",
    "    cut = max(aBar, 2)           # if aBar = 1 then range will not work\n",
    "    \n",
    "    aux1 = range(zero(eltype(A)), one(eltype(A))/e_size, length = cut)\n",
    "    aux2 = ones(eltype(A), a_size - cut)/e_size\n",
    "    aux = [aux1; aux2]           # 350x1\n",
    "    F0 = repeat(aux, 1, e_size)  # 350x2\n",
    "    \n",
    "    F_update = copy(F0)\n",
    "    \n",
    "    # Iteration of distribution\n",
    "    normdiff = Inf\n",
    "    t = 1\n",
    "    \n",
    "    while normdiff > tol && t <= maxT\n",
    "        \n",
    "        for a = 1:a_size\n",
    "            for e = 1:e_size\n",
    "                     \n",
    "                F_update[a,e] = Π[1, e] * F0[pol_inv(A, pol_func, a, 1), 1] + \n",
    "                          Π[2, e] * F0[pol_inv(A, pol_func, a, 2), 2]\n",
    "                \n",
    "            end\n",
    "        end       \n",
    "        \n",
    "        t += 1\n",
    "        normdiff = maximum(abs.(F_update - F0))\n",
    "        \n",
    "        F0 = copy(F_update)\n",
    "        \n",
    "    end\n",
    "    \n",
    "    \n",
    "    return F_update\n",
    "    \n",
    "end"
   ]
  },
  {
   "cell_type": "markdown",
   "metadata": {},
   "source": [
    "#### Step 3\n",
    "Update $q$ and repeat the first two steps until market clearing is approximately completed.\n",
    "\n",
    "Choose the initial $q$ as the midpoint of the set of candidate prices.\n",
    "The new value is then increased if there is excess demand for credit, decreased if there is excess supply.\n",
    "\n",
    "The criterion used for market clearing is that excess demand is within $0.0025$ units of zero."
   ]
  },
  {
   "cell_type": "markdown",
   "metadata": {},
   "source": [
    "**What I am doing in practice:**\n",
    "\n",
    "First, define function `mktclearing` that computes the demand for assets $\\int_S a(x) d \\psi$ using the gridpoints, the policy function, and the stationary distribution as inputs.\n",
    "Recall that, for market clearing, we only need $\\int_S a(x) d \\psi = 0$.\n",
    "\n",
    "Then, define the function `step3` that, starting from a guess initial value of price $q$, solves for the previous two steps and iterates up until the market for assets sums to zero.\n",
    "I try not to have a \"jumpy\" update in prices by using the following updating procedure:\n",
    "- if there is excess demand, the new price is equal to the old price plus a fraction of the tolerance level to determine that there is no excess demand;\n",
    "- if there is excess supply, the new price is equal to the old price diminished by the tolerance level."
   ]
  },
  {
   "cell_type": "code",
   "execution_count": 5,
   "metadata": {},
   "outputs": [
    {
     "data": {
      "text/plain": [
       "mktclearing (generic function with 1 method)"
      ]
     },
     "execution_count": 5,
     "metadata": {},
     "output_type": "execute_result"
    }
   ],
   "source": [
    "# Define the function for market clearing\n",
    "function mktclearing(A, E, pol_func, F_update)\n",
    "    \n",
    "    # retrieve dimensions\n",
    "    a_size = length(A)\n",
    "    e_size = size(E)[1]\n",
    "    \n",
    "    # initialize market for update\n",
    "    market = 0.0\n",
    "    \n",
    "    for a = 2:a_size\n",
    "        for e = 1:e_size\n",
    "            \n",
    "            market += pol_func[a, e] * (F_update[a, e] - F_update[a-1, e])\n",
    "            \n",
    "        end\n",
    "    end\n",
    "    \n",
    "    return market\n",
    "    \n",
    "end"
   ]
  },
  {
   "cell_type": "code",
   "execution_count": 6,
   "metadata": {},
   "outputs": [
    {
     "data": {
      "text/plain": [
       "step3 (generic function with 1 method)"
      ]
     },
     "execution_count": 6,
     "metadata": {},
     "output_type": "execute_result"
    }
   ],
   "source": [
    "# Define the function for step3 (price iteration)\n",
    "function step3(A, E, Π, q0, β, σ; maxT = 100, tol_iterations = 0.01, tol_market = 0.0025, tol_q = 0.001, weight = 0.5)\n",
    "    \n",
    "    @assert q0 > β\n",
    "    \n",
    "    q = q0\n",
    "    solStep1 = step1(A, E, Π, q, β, σ; tol = tol_iterations)\n",
    "    solStep2 = step2(A, E, Π, solStep1; tol = tol_iterations)\n",
    "     \n",
    "    # Start price iteration\n",
    "    normdiff = Inf\n",
    "    t = 1\n",
    "    \n",
    "    while normdiff > tol_q && t <= maxT\n",
    "        \n",
    "        # solve step1\n",
    "        solStep1 = step1(A, E, Π, q, β, σ; tol = tol_iterations)\n",
    "                \n",
    "        # solve step2\n",
    "        solStep2 = step2(A, E, Π, solStep1; tol = tol_iterations)\n",
    "        \n",
    "        # compute market clearing\n",
    "        market = mktclearing(A, E, solStep1, solStep2)\n",
    "        \n",
    "        \n",
    "        # update q based on market clearing\n",
    "        \n",
    "        # increase guess if market > 0 (but just by a little bit)\n",
    "        if market > 0 && abs(market) > tol_market  \n",
    "            q = q + (1 - weight) * tol_market\n",
    "        \n",
    "        # decrease guess if market < 0 (but just by a little bit)\n",
    "        elseif market < 0 && abs(market) > tol_market\n",
    "            q = q - (1 - weight) * tol_market\n",
    "        \n",
    "        # if abs(market) < tol_market, then no need to update q    \n",
    "        else \n",
    "            q = q\n",
    "        end\n",
    "        \n",
    "        t = t + 1\n",
    "        normdiff = abs(q - q0)\n",
    "        \n",
    "        q0 = q\n",
    "        \n",
    "    end\n",
    "    \n",
    "    return (q = q, policy = solStep1, Ψ = solStep2)\n",
    "    \n",
    "end"
   ]
  },
  {
   "cell_type": "markdown",
   "metadata": {},
   "source": [
    "----\n",
    "## Results\n",
    "### Relative risk aversion $\\sigma = 1.5$\n",
    "Let's solve the model with $\\sigma = 1.5$ and considering all the possible values of $\\underline{a}$ in the set $\\{-2, -4, -6, -8\\}$.\n",
    "\n",
    "The initial guess is $q=1.1$.\n",
    "The grid for $A$ is given by $350$ points, from $\\underline{a}$ to $10$. Then the solver algorithm will find the endogenous $\\overline{a}$.\n",
    "\n",
    "Results are reported in the table below."
   ]
  },
  {
   "cell_type": "code",
   "execution_count": null,
   "metadata": {},
   "outputs": [],
   "source": [
    "# Do computations over a set of lower bounds with σ = 1.5\n",
    "\n",
    "# Parameters\n",
    "σ = 1.5\n",
    "β = 0.9932\n",
    "BoundSet = (-2.0, -4.0, -6.0, -8.0)\n",
    "\n",
    "# Exogenous state variable grid\n",
    "eH = 1.0\n",
    "eL = 0.1\n",
    "E = [eL; eH]     \n",
    "\n",
    "# Transition matrix: Pr(j|i) = Π(i,j) (columns sum to 1)\n",
    "πHH = 0.925 # e_H | e_H\n",
    "πHL = 0.5   # e_H | e_L\n",
    "Π = [1 - πHL  πHL\n",
    "    1 - πHH πHH]\n",
    "\n",
    "# Guess\n",
    "q0 = 1.1\n",
    "\n",
    "# Start loop over lower bound\n",
    "for a_lb in BoundSet\n",
    "    \n",
    "    # Generate grid points for endogenous state variable\n",
    "    a_max = 5\n",
    "    a_size = 350\n",
    "    A = range(a_lb, a_max, length = a_size)\n",
    "    A = [A; ];\n",
    "    \n",
    "    (q, policy, Ψ) = step3(A, E, Π, q0, β, σ)\n",
    "    \n",
    "\n",
    "end"
   ]
  },
  {
   "cell_type": "markdown",
   "metadata": {},
   "source": [
    "The following table reports the results obtained by this algorithm and a comparison with the original results of Huggett (1993):\n",
    "\n",
    "| Credit limit | Price $q$ | Original result |\n",
    "|:------------ | --------- |:---------------:|\n",
    "|    -2.0      |   1.0125  |     1.0124      |\n",
    "|    -4.0      |   0.9975  |     0.9962      |\n",
    "|    -6.0      |   0.9950  |     0.9944      |\n",
    "|    -8.0      |   0.9925  |     0.9935      |"
   ]
  },
  {
   "cell_type": "markdown",
   "metadata": {},
   "source": [
    "### Relative risk aversion $\\sigma = 3.0$\n",
    "Now I solve the model with $\\sigma = 3$ and considering all the possible values of $\\underline{a}$ in the set $\\{-2, -4, -6, -8\\}$.\n",
    "\n",
    "I keep the same initial conditions as before: the initial guess is $q=1.1$, and the grid for $A$ is given by $350$ points, from $\\underline{a}$ to $10$.\n",
    "Then the solver algorithm will find the endogenous $\\overline{a}$.\n",
    "\n",
    "Results are reported in the table below."
   ]
  },
  {
   "cell_type": "code",
   "execution_count": null,
   "metadata": {},
   "outputs": [],
   "source": [
    "# Do computations over a set of lower bounds with σ = 3\n",
    "\n",
    "# Parameters\n",
    "σ = 3.0\n",
    "β = 0.9932\n",
    "BoundSet = (-2.0, -4.0, -6.0, -8.0)\n",
    "\n",
    "# Exogenous state variable grid\n",
    "eH = 1.0\n",
    "eL = 0.1\n",
    "E = [eL; eH]     \n",
    "\n",
    "# Transition matrix: Pr(j|i) = Π(i,j) (columns sum to 1)\n",
    "πHH = 0.925 # e_H | e_H\n",
    "πHL = 0.5   # e_H | e_L\n",
    "Π = [1 - πHL  πHL\n",
    "    1 - πHH πHH]\n",
    "\n",
    "# Guess\n",
    "q0 = 1.1\n",
    "\n",
    "# Start loop over lower bound\n",
    "for a_lb in BoundSet\n",
    "    \n",
    "    # Generate grid points for endogenous state variable\n",
    "    a_max = 5\n",
    "    a_size = 350\n",
    "    A = range(a_lb, a_max, length = a_size)\n",
    "    A = [A; ];\n",
    "    \n",
    "    (q, policy, Ψ) = step3(A, E, Π, q0, β, σ)\n",
    "    \n",
    "\n",
    "end"
   ]
  },
  {
   "cell_type": "markdown",
   "metadata": {},
   "source": [
    "The following table reports the results obtained in this algorithm and compares them with the original results of Huggett (1993):\n",
    "\n",
    "| Credit limit | Price $q$ | Original result |\n",
    "|:------------ | --------- |:---------------:|\n",
    "|    -2.0      |   1.0450  |     1.0448      |\n",
    "|    -4.0      |   1.0050  |     1.0045      |\n",
    "|    -6.0      |   0.9975  |     0.9970      |\n",
    "|    -8.0      |   0.9925  |     0.9940      |"
   ]
  },
  {
   "cell_type": "markdown",
   "metadata": {},
   "source": [
    "---------------------\n",
    "---------------------\n",
    "## Checks and Graphs\n",
    "While I was writing the code, I have run some checks along the way to see if each small piece of the code was working as expected."
   ]
  },
  {
   "cell_type": "markdown",
   "metadata": {},
   "source": [
    "First, set some of the parameters and initial conditions:"
   ]
  },
  {
   "cell_type": "code",
   "execution_count": 9,
   "metadata": {},
   "outputs": [],
   "source": [
    "# Set parameters\n",
    "β = 0.9932\n",
    "σ = 1.5\n",
    "a_lb = -2.0;"
   ]
  },
  {
   "cell_type": "code",
   "execution_count": 10,
   "metadata": {},
   "outputs": [
    {
     "data": {
      "text/plain": [
       "2×2 Array{Float64,2}:\n",
       " 0.5    0.5\n",
       " 0.075  0.925"
      ]
     },
     "execution_count": 10,
     "metadata": {},
     "output_type": "execute_result"
    }
   ],
   "source": [
    "# Generate grid points for exogenous state variable\n",
    "eH = 1.0\n",
    "eL = 0.1\n",
    "E = [eL; eH]     \n",
    "πHH = 0.925 # e_H | e_H\n",
    "πHL = 0.5   # e_H | e_L\n",
    "# Transition matrix: Pr(j|i) = Π(i,j) (columns sum to 1)\n",
    "Π = [1 - πHL  πHL\n",
    "    1 - πHH πHH]"
   ]
  },
  {
   "cell_type": "code",
   "execution_count": null,
   "metadata": {},
   "outputs": [],
   "source": [
    "# Generate grid points for endogenous state variable\n",
    "a_max = 10\n",
    "a_size = 350\n",
    "A = range(a_lb, a_max, length = a_size)  \n",
    "A = [A; ];"
   ]
  },
  {
   "cell_type": "markdown",
   "metadata": {},
   "source": [
    "### Checks for Step1"
   ]
  },
  {
   "cell_type": "code",
   "execution_count": 12,
   "metadata": {},
   "outputs": [
    {
     "data": {
      "text/plain": [
       "Du (generic function with 1 method)"
      ]
     },
     "execution_count": 12,
     "metadata": {},
     "output_type": "execute_result"
    }
   ],
   "source": [
    "# Define the utility function and its derivative\n",
    "u(c) = c.^(1-σ) ./ (1 - σ)\n",
    "Du(u) = c -> ForwardDiff.derivative(u, c)"
   ]
  },
  {
   "cell_type": "code",
   "execution_count": 13,
   "metadata": {},
   "outputs": [],
   "source": [
    "e_size = size(E)[1]\n",
    "# Intial guess of v\n",
    "v_guess = 0.0\n",
    "v0 = v_guess .* ones(a_size, e_size)\n",
    "\n",
    "# Matrices where to store update and policy function\n",
    "v_update = zeros(a_size, e_size)\n",
    "pol_func = zeros(a_size, e_size); # a_size x size(E): 350x2"
   ]
  },
  {
   "cell_type": "code",
   "execution_count": 14,
   "metadata": {},
   "outputs": [
    {
     "data": {
      "text/plain": [
       "350×2 Array{Float64,2}:\n",
       " -2.0      -1.82808\n",
       " -2.0      -1.82808\n",
       " -2.0      -1.7937\n",
       " -2.0      -1.75931\n",
       " -2.0      -1.75931\n",
       " -2.0      -1.72493\n",
       " -1.96562  -1.69054\n",
       " -1.96562  -1.69054\n",
       " -1.96562  -1.65616\n",
       " -1.93123  -1.62178\n",
       " -1.93123  -1.62178\n",
       " -1.89685  -1.58739\n",
       " -1.89685  -1.55301\n",
       "  ⋮        \n",
       "  6.90544   7.59312\n",
       "  6.93983   7.62751\n",
       "  6.93983   7.66189\n",
       "  6.97421   7.66189\n",
       "  7.0086    7.69628\n",
       "  7.04298   7.73066\n",
       "  7.07736   7.76504\n",
       "  7.11175   7.79943\n",
       "  7.11175   7.83381\n",
       "  7.14613   7.86819\n",
       "  7.18052   7.90258\n",
       "  7.2149    7.90258"
      ]
     },
     "execution_count": 14,
     "metadata": {},
     "output_type": "execute_result"
    }
   ],
   "source": [
    "# Check that Step1 works\n",
    "q = 1.1\n",
    "solStep1 = step1(A, E, Π, q, β, σ) # 350x2 matrix"
   ]
  },
  {
   "cell_type": "markdown",
   "metadata": {},
   "source": [
    "### Checks for Step2"
   ]
  },
  {
   "cell_type": "code",
   "execution_count": 15,
   "metadata": {},
   "outputs": [
    {
     "data": {
      "text/plain": [
       "65"
      ]
     },
     "execution_count": 15,
     "metadata": {},
     "output_type": "execute_result"
    }
   ],
   "source": [
    "# Briefly check that pol_inv works\n",
    "pol_inv(A, solStep1, 14, 2)\n",
    "pol_inv(A, solStep1, 37, 1)"
   ]
  },
  {
   "cell_type": "code",
   "execution_count": 16,
   "metadata": {},
   "outputs": [
    {
     "data": {
      "text/plain": [
       "350×2 Array{Float64,2}:\n",
       " 0.0         0.0\n",
       " 0.00143266  0.00143266\n",
       " 0.00286533  0.00286533\n",
       " 0.00429799  0.00429799\n",
       " 0.00573066  0.00573066\n",
       " 0.00716332  0.00716332\n",
       " 0.00859599  0.00859599\n",
       " 0.0100287   0.0100287\n",
       " 0.0114613   0.0114613\n",
       " 0.012894    0.012894\n",
       " 0.0143266   0.0143266\n",
       " 0.0157593   0.0157593\n",
       " 0.017192    0.017192\n",
       " ⋮           \n",
       " 0.484241    0.484241\n",
       " 0.485673    0.485673\n",
       " 0.487106    0.487106\n",
       " 0.488539    0.488539\n",
       " 0.489971    0.489971\n",
       " 0.491404    0.491404\n",
       " 0.492837    0.492837\n",
       " 0.494269    0.494269\n",
       " 0.495702    0.495702\n",
       " 0.497135    0.497135\n",
       " 0.498567    0.498567\n",
       " 0.5         0.5"
      ]
     },
     "execution_count": 16,
     "metadata": {},
     "output_type": "execute_result"
    }
   ],
   "source": [
    "# Check what F0 is\n",
    "tol = 0.01\n",
    "a_size = length(A)\n",
    "e_size = size(E)[1]\n",
    "    \n",
    "# Find endogenous position where a' = a\n",
    "aBar = findlast((solStep1[:,2] - A) .< tol)\n",
    "cut = max(aBar, 2)           # if aBar = 1 then range will not work\n",
    "    \n",
    "aux1 = range(zero(eltype(A)), one(eltype(A))/e_size, length = cut)\n",
    "aux2 = ones(eltype(A), a_size - cut)/e_size  # can be empty\n",
    "aux = [aux1; aux2]           # 350x1\n",
    "F0 = repeat(aux, 1, e_size)  # 350x2"
   ]
  },
  {
   "cell_type": "code",
   "execution_count": 17,
   "metadata": {},
   "outputs": [
    {
     "data": {
      "text/plain": [
       "350×2 Array{Float64,2}:\n",
       " 0.00845739  0.0315834\n",
       " 0.00899785  0.0321238\n",
       " 0.0094932   0.0326192\n",
       " 0.0108208   0.0339468\n",
       " 0.0118355   0.0349615\n",
       " 0.012096    0.0358911\n",
       " 0.0122379   0.0366257\n",
       " 0.012573    0.0389833\n",
       " 0.0128391   0.0404892\n",
       " 0.0132844   0.0439521\n",
       " 0.0135591   0.0460716\n",
       " 0.0142069   0.0527921\n",
       " 0.015033    0.0609509\n",
       " ⋮           \n",
       " 0.0199605   0.097115\n",
       " 0.0199605   0.097115\n",
       " 0.0199605   0.097115\n",
       " 0.0199605   0.097115\n",
       " 0.0199605   0.097115\n",
       " 0.0199605   0.097115\n",
       " 0.0199605   0.097115\n",
       " 0.0199605   0.097115\n",
       " 0.0199605   0.097115\n",
       " 0.0199605   0.097115\n",
       " 0.0199605   0.097115\n",
       " 0.0199605   0.097115"
      ]
     },
     "execution_count": 17,
     "metadata": {},
     "output_type": "execute_result"
    }
   ],
   "source": [
    "# Run step2 to check it works\n",
    "Ψ = step2(A, E, Π, solStep1)"
   ]
  },
  {
   "cell_type": "markdown",
   "metadata": {},
   "source": [
    "### Checks for Step3"
   ]
  },
  {
   "cell_type": "code",
   "execution_count": 18,
   "metadata": {},
   "outputs": [
    {
     "data": {
      "text/plain": [
       "(q = 1.010000000000002, policy = [-2.0 -1.656160458452722; -2.0 -1.6217765042979944; … ; 8.693409742120345 9.51862464183381; 8.727793696275072 9.553008595988539], Ψ = [0.0033878443899294074 0.018243057371691223; 0.0037279484659432727 0.01858316144770509; … ; 0.0426087459426575 0.2835743217507522; 0.0426087459426575 0.2835743217507522])"
      ]
     },
     "execution_count": 18,
     "metadata": {},
     "output_type": "execute_result"
    }
   ],
   "source": [
    "# Test if step3 works\n",
    "q0 = 1.1\n",
    "σ = 1.5\n",
    "a_lb = -2.0\n",
    "(q, policy, Ψ) = step3(A, E, Π, q0, β, σ)"
   ]
  },
  {
   "cell_type": "markdown",
   "metadata": {},
   "source": [
    "### Plots"
   ]
  },
  {
   "cell_type": "code",
   "execution_count": 19,
   "metadata": {},
   "outputs": [
    {
     "data": {
      "image/svg+xml": [
       "<?xml version=\"1.0\" encoding=\"utf-8\"?>\n",
       "<svg xmlns=\"http://www.w3.org/2000/svg\" xmlns:xlink=\"http://www.w3.org/1999/xlink\" width=\"600\" height=\"400\" viewBox=\"0 0 2400 1600\">\n",
       "<defs>\n",
       "  <clipPath id=\"clip950\">\n",
       "    <rect x=\"0\" y=\"0\" width=\"2400\" height=\"1600\"/>\n",
       "  </clipPath>\n",
       "</defs>\n",
       "<path clip-path=\"url(#clip950)\" d=\"\n",
       "M0 1600 L2400 1600 L2400 0 L0 0  Z\n",
       "  \" fill=\"#ffffff\" fill-rule=\"evenodd\" fill-opacity=\"1\"/>\n",
       "<defs>\n",
       "  <clipPath id=\"clip951\">\n",
       "    <rect x=\"480\" y=\"0\" width=\"1681\" height=\"1600\"/>\n",
       "  </clipPath>\n",
       "</defs>\n",
       "<path clip-path=\"url(#clip950)\" d=\"\n",
       "M142.455 1486.45 L2352.76 1486.45 L2352.76 123.472 L142.455 123.472  Z\n",
       "  \" fill=\"#ffffff\" fill-rule=\"evenodd\" fill-opacity=\"1\"/>\n",
       "<defs>\n",
       "  <clipPath id=\"clip952\">\n",
       "    <rect x=\"142\" y=\"123\" width=\"2211\" height=\"1364\"/>\n",
       "  </clipPath>\n",
       "</defs>\n",
       "<polyline clip-path=\"url(#clip952)\" style=\"stroke:#000000; stroke-width:2; stroke-opacity:0.1; fill:none\" points=\"\n",
       "  205.01,1486.45 205.01,123.472 \n",
       "  \"/>\n",
       "<polyline clip-path=\"url(#clip952)\" style=\"stroke:#000000; stroke-width:2; stroke-opacity:0.1; fill:none\" points=\"\n",
       "  766.531,1486.45 766.531,123.472 \n",
       "  \"/>\n",
       "<polyline clip-path=\"url(#clip952)\" style=\"stroke:#000000; stroke-width:2; stroke-opacity:0.1; fill:none\" points=\"\n",
       "  1328.05,1486.45 1328.05,123.472 \n",
       "  \"/>\n",
       "<polyline clip-path=\"url(#clip952)\" style=\"stroke:#000000; stroke-width:2; stroke-opacity:0.1; fill:none\" points=\"\n",
       "  1889.57,1486.45 1889.57,123.472 \n",
       "  \"/>\n",
       "<polyline clip-path=\"url(#clip952)\" style=\"stroke:#000000; stroke-width:2; stroke-opacity:0.1; fill:none\" points=\"\n",
       "  142.455,1447.87 2352.76,1447.87 \n",
       "  \"/>\n",
       "<polyline clip-path=\"url(#clip952)\" style=\"stroke:#000000; stroke-width:2; stroke-opacity:0.1; fill:none\" points=\"\n",
       "  142.455,1101.61 2352.76,1101.61 \n",
       "  \"/>\n",
       "<polyline clip-path=\"url(#clip952)\" style=\"stroke:#000000; stroke-width:2; stroke-opacity:0.1; fill:none\" points=\"\n",
       "  142.455,755.353 2352.76,755.353 \n",
       "  \"/>\n",
       "<polyline clip-path=\"url(#clip952)\" style=\"stroke:#000000; stroke-width:2; stroke-opacity:0.1; fill:none\" points=\"\n",
       "  142.455,409.092 2352.76,409.092 \n",
       "  \"/>\n",
       "<polyline clip-path=\"url(#clip950)\" style=\"stroke:#000000; stroke-width:4; stroke-opacity:1; fill:none\" points=\"\n",
       "  142.455,1486.45 2352.76,1486.45 \n",
       "  \"/>\n",
       "<polyline clip-path=\"url(#clip950)\" style=\"stroke:#000000; stroke-width:4; stroke-opacity:1; fill:none\" points=\"\n",
       "  142.455,1486.45 142.455,123.472 \n",
       "  \"/>\n",
       "<polyline clip-path=\"url(#clip950)\" style=\"stroke:#000000; stroke-width:4; stroke-opacity:1; fill:none\" points=\"\n",
       "  205.01,1486.45 205.01,1470.09 \n",
       "  \"/>\n",
       "<polyline clip-path=\"url(#clip950)\" style=\"stroke:#000000; stroke-width:4; stroke-opacity:1; fill:none\" points=\"\n",
       "  766.531,1486.45 766.531,1470.09 \n",
       "  \"/>\n",
       "<polyline clip-path=\"url(#clip950)\" style=\"stroke:#000000; stroke-width:4; stroke-opacity:1; fill:none\" points=\"\n",
       "  1328.05,1486.45 1328.05,1470.09 \n",
       "  \"/>\n",
       "<polyline clip-path=\"url(#clip950)\" style=\"stroke:#000000; stroke-width:4; stroke-opacity:1; fill:none\" points=\"\n",
       "  1889.57,1486.45 1889.57,1470.09 \n",
       "  \"/>\n",
       "<polyline clip-path=\"url(#clip950)\" style=\"stroke:#000000; stroke-width:4; stroke-opacity:1; fill:none\" points=\"\n",
       "  142.455,1447.87 168.978,1447.87 \n",
       "  \"/>\n",
       "<polyline clip-path=\"url(#clip950)\" style=\"stroke:#000000; stroke-width:4; stroke-opacity:1; fill:none\" points=\"\n",
       "  142.455,1101.61 168.978,1101.61 \n",
       "  \"/>\n",
       "<polyline clip-path=\"url(#clip950)\" style=\"stroke:#000000; stroke-width:4; stroke-opacity:1; fill:none\" points=\"\n",
       "  142.455,755.353 168.978,755.353 \n",
       "  \"/>\n",
       "<polyline clip-path=\"url(#clip950)\" style=\"stroke:#000000; stroke-width:4; stroke-opacity:1; fill:none\" points=\"\n",
       "  142.455,409.092 168.978,409.092 \n",
       "  \"/>\n",
       "<path clip-path=\"url(#clip950)\" d=\"M 0 0 M177.464 1523.09 L207.14 1523.09 L207.14 1527.03 L177.464 1527.03 L177.464 1523.09 Z\" fill=\"#000000\" fill-rule=\"evenodd\" fill-opacity=\"1\" /><path clip-path=\"url(#clip950)\" d=\"M 0 0 M216.237 1535.98 L232.557 1535.98 L232.557 1539.92 L210.612 1539.92 L210.612 1535.98 Q213.274 1533.23 217.858 1528.6 Q222.464 1523.95 223.645 1522.61 Q225.89 1520.08 226.77 1518.35 Q227.672 1516.59 227.672 1514.9 Q227.672 1512.14 225.728 1510.41 Q223.807 1508.67 220.705 1508.67 Q218.506 1508.67 216.052 1509.43 Q213.622 1510.2 210.844 1511.75 L210.844 1507.03 Q213.668 1505.89 216.122 1505.31 Q218.575 1504.73 220.612 1504.73 Q225.983 1504.73 229.177 1507.42 Q232.371 1510.11 232.371 1514.6 Q232.371 1516.73 231.561 1518.65 Q230.774 1520.54 228.668 1523.14 Q228.089 1523.81 224.987 1527.03 Q221.885 1530.22 216.237 1535.98 Z\" fill=\"#000000\" fill-rule=\"evenodd\" fill-opacity=\"1\" /><path clip-path=\"url(#clip950)\" d=\"M 0 0 M738.8 1523.09 L768.476 1523.09 L768.476 1527.03 L738.8 1527.03 L738.8 1523.09 Z\" fill=\"#000000\" fill-rule=\"evenodd\" fill-opacity=\"1\" /><path clip-path=\"url(#clip950)\" d=\"M 0 0 M774.356 1535.98 L781.994 1535.98 L781.994 1509.62 L773.684 1511.29 L773.684 1507.03 L781.948 1505.36 L786.624 1505.36 L786.624 1535.98 L794.263 1535.98 L794.263 1539.92 L774.356 1539.92 L774.356 1535.98 Z\" fill=\"#000000\" fill-rule=\"evenodd\" fill-opacity=\"1\" /><path clip-path=\"url(#clip950)\" d=\"M 0 0 M1328.05 1508.44 Q1324.44 1508.44 1322.61 1512 Q1320.81 1515.55 1320.81 1522.67 Q1320.81 1529.78 1322.61 1533.35 Q1324.44 1536.89 1328.05 1536.89 Q1331.69 1536.89 1333.49 1533.35 Q1335.32 1529.78 1335.32 1522.67 Q1335.32 1515.55 1333.49 1512 Q1331.69 1508.44 1328.05 1508.44 M1328.05 1504.73 Q1333.86 1504.73 1336.92 1509.34 Q1340 1513.92 1340 1522.67 Q1340 1531.4 1336.92 1536.01 Q1333.86 1540.59 1328.05 1540.59 Q1322.24 1540.59 1319.16 1536.01 Q1316.11 1531.4 1316.11 1522.67 Q1316.11 1513.92 1319.16 1509.34 Q1322.24 1504.73 1328.05 1504.73 Z\" fill=\"#000000\" fill-rule=\"evenodd\" fill-opacity=\"1\" /><path clip-path=\"url(#clip950)\" d=\"M 0 0 M1879.96 1535.98 L1887.59 1535.98 L1887.59 1509.62 L1879.28 1511.29 L1879.28 1507.03 L1887.55 1505.36 L1892.22 1505.36 L1892.22 1535.98 L1899.86 1535.98 L1899.86 1539.92 L1879.96 1539.92 L1879.96 1535.98 Z\" fill=\"#000000\" fill-rule=\"evenodd\" fill-opacity=\"1\" /><path clip-path=\"url(#clip950)\" d=\"M 0 0 M63.3625 1448.32 L93.0383 1448.32 L93.0383 1452.26 L63.3625 1452.26 L63.3625 1448.32 Z\" fill=\"#000000\" fill-rule=\"evenodd\" fill-opacity=\"1\" /><path clip-path=\"url(#clip950)\" d=\"M 0 0 M102.135 1461.22 L118.455 1461.22 L118.455 1465.15 L96.5105 1465.15 L96.5105 1461.22 Q99.1725 1458.46 103.756 1453.83 Q108.362 1449.18 109.543 1447.84 Q111.788 1445.32 112.668 1443.58 Q113.571 1441.82 113.571 1440.13 Q113.571 1437.38 111.626 1435.64 Q109.705 1433.9 106.603 1433.9 Q104.404 1433.9 101.95 1434.67 Q99.5197 1435.43 96.7419 1436.98 L96.7419 1432.26 Q99.566 1431.13 102.02 1430.55 Q104.473 1429.97 106.51 1429.97 Q111.881 1429.97 115.075 1432.65 Q118.27 1435.34 118.27 1439.83 Q118.27 1441.96 117.459 1443.88 Q116.672 1445.78 114.566 1448.37 Q113.987 1449.04 110.885 1452.26 Q107.784 1455.45 102.135 1461.22 Z\" fill=\"#000000\" fill-rule=\"evenodd\" fill-opacity=\"1\" /><path clip-path=\"url(#clip950)\" d=\"M 0 0 M62.9921 1102.06 L92.6679 1102.06 L92.6679 1106 L62.9921 1106 L62.9921 1102.06 Z\" fill=\"#000000\" fill-rule=\"evenodd\" fill-opacity=\"1\" /><path clip-path=\"url(#clip950)\" d=\"M 0 0 M98.5475 1114.96 L106.186 1114.96 L106.186 1088.59 L97.8762 1090.26 L97.8762 1086 L106.14 1084.33 L110.816 1084.33 L110.816 1114.96 L118.455 1114.96 L118.455 1118.89 L98.5475 1118.89 L98.5475 1114.96 Z\" fill=\"#000000\" fill-rule=\"evenodd\" fill-opacity=\"1\" /><path clip-path=\"url(#clip950)\" d=\"M 0 0 M106.51 741.151 Q102.899 741.151 101.071 744.716 Q99.2651 748.258 99.2651 755.387 Q99.2651 762.494 101.071 766.058 Q102.899 769.6 106.51 769.6 Q110.145 769.6 111.95 766.058 Q113.779 762.494 113.779 755.387 Q113.779 748.258 111.95 744.716 Q110.145 741.151 106.51 741.151 M106.51 737.448 Q112.321 737.448 115.376 742.054 Q118.455 746.637 118.455 755.387 Q118.455 764.114 115.376 768.72 Q112.321 773.304 106.51 773.304 Q100.7 773.304 97.6216 768.72 Q94.566 764.114 94.566 755.387 Q94.566 746.637 97.6216 742.054 Q100.7 737.448 106.51 737.448 Z\" fill=\"#000000\" fill-rule=\"evenodd\" fill-opacity=\"1\" /><path clip-path=\"url(#clip950)\" d=\"M 0 0 M98.5475 422.437 L106.186 422.437 L106.186 396.071 L97.8762 397.738 L97.8762 393.479 L106.14 391.812 L110.816 391.812 L110.816 422.437 L118.455 422.437 L118.455 426.372 L98.5475 426.372 L98.5475 422.437 Z\" fill=\"#000000\" fill-rule=\"evenodd\" fill-opacity=\"1\" /><path clip-path=\"url(#clip950)\" d=\"M 0 0 M992.925 18.8205 L992.925 41.5461 L1003.21 41.5461 Q1008.93 41.5461 1012.05 38.5889 Q1015.16 35.6318 1015.16 30.163 Q1015.16 24.7348 1012.05 21.7777 Q1008.93 18.8205 1003.21 18.8205 L992.925 18.8205 M984.742 12.096 L1003.21 12.096 Q1013.38 12.096 1018.57 16.714 Q1023.79 21.2916 1023.79 30.163 Q1023.79 39.1155 1018.57 43.6931 Q1013.38 48.2706 1003.21 48.2706 L992.925 48.2706 L992.925 72.576 L984.742 72.576 L984.742 12.096 Z\" fill=\"#000000\" fill-rule=\"evenodd\" fill-opacity=\"1\" /><path clip-path=\"url(#clip950)\" d=\"M 0 0 M1046.23 32.4315 Q1040.24 32.4315 1036.76 37.1306 Q1033.27 41.7891 1033.27 49.9314 Q1033.27 58.0738 1036.72 62.7728 Q1040.2 67.4314 1046.23 67.4314 Q1052.19 67.4314 1055.67 62.7323 Q1059.16 58.0333 1059.16 49.9314 Q1059.16 41.8701 1055.67 37.1711 Q1052.19 32.4315 1046.23 32.4315 M1046.23 26.1121 Q1055.96 26.1121 1061.51 32.4315 Q1067.06 38.7509 1067.06 49.9314 Q1067.06 61.0714 1061.51 67.4314 Q1055.96 73.7508 1046.23 73.7508 Q1036.47 73.7508 1030.92 67.4314 Q1025.41 61.0714 1025.41 49.9314 Q1025.41 38.7509 1030.92 32.4315 Q1036.47 26.1121 1046.23 26.1121 Z\" fill=\"#000000\" fill-rule=\"evenodd\" fill-opacity=\"1\" /><path clip-path=\"url(#clip950)\" d=\"M 0 0 M1074.87 9.54393 L1082.33 9.54393 L1082.33 72.576 L1074.87 72.576 L1074.87 9.54393 Z\" fill=\"#000000\" fill-rule=\"evenodd\" fill-opacity=\"1\" /><path clip-path=\"url(#clip950)\" d=\"M 0 0 M1090.15 27.2059 L1097.6 27.2059 L1097.6 72.576 L1090.15 72.576 L1090.15 27.2059 M1090.15 9.54393 L1097.6 9.54393 L1097.6 18.9825 L1090.15 18.9825 L1090.15 9.54393 Z\" fill=\"#000000\" fill-rule=\"evenodd\" fill-opacity=\"1\" /><path clip-path=\"url(#clip950)\" d=\"M 0 0 M1138.07 28.9478 L1138.07 35.9153 Q1134.91 34.1734 1131.71 33.3227 Q1128.55 32.4315 1125.31 32.4315 Q1118.06 32.4315 1114.05 37.0496 Q1110.04 41.6271 1110.04 49.9314 Q1110.04 58.2358 1114.05 62.8538 Q1118.06 67.4314 1125.31 67.4314 Q1128.55 67.4314 1131.71 66.5807 Q1134.91 65.6895 1138.07 63.9476 L1138.07 70.8341 Q1134.95 72.2924 1131.59 73.0216 Q1128.27 73.7508 1124.5 73.7508 Q1114.25 73.7508 1108.21 67.3098 Q1102.18 60.8689 1102.18 49.9314 Q1102.18 38.832 1108.25 32.472 Q1114.37 26.1121 1124.98 26.1121 Q1128.43 26.1121 1131.71 26.8413 Q1134.99 27.5299 1138.07 28.9478 Z\" fill=\"#000000\" fill-rule=\"evenodd\" fill-opacity=\"1\" /><path clip-path=\"url(#clip950)\" d=\"M 0 0 M1164.76 76.7889 Q1161.6 84.8907 1158.61 87.3618 Q1155.61 89.8329 1150.59 89.8329 L1144.63 89.8329 L1144.63 83.5945 L1149.01 83.5945 Q1152.09 83.5945 1153.79 82.1361 Q1155.49 80.6778 1157.55 75.2496 L1158.89 71.8468 L1140.54 27.2059 L1148.44 27.2059 L1162.62 62.6918 L1176.8 27.2059 L1184.69 27.2059 L1164.76 76.7889 Z\" fill=\"#000000\" fill-rule=\"evenodd\" fill-opacity=\"1\" /><path clip-path=\"url(#clip950)\" d=\"M 0 0 M1241.85 9.54393 L1241.85 15.7418 L1234.72 15.7418 Q1230.71 15.7418 1229.13 17.3622 Q1227.59 18.9825 1227.59 23.1955 L1227.59 27.2059 L1239.87 27.2059 L1239.87 32.9987 L1227.59 32.9987 L1227.59 72.576 L1220.1 72.576 L1220.1 32.9987 L1212.97 32.9987 L1212.97 27.2059 L1220.1 27.2059 L1220.1 24.0462 Q1220.1 16.471 1223.62 13.0277 Q1227.15 9.54393 1234.8 9.54393 L1241.85 9.54393 Z\" fill=\"#000000\" fill-rule=\"evenodd\" fill-opacity=\"1\" /><path clip-path=\"url(#clip950)\" d=\"M 0 0 M1248.9 54.671 L1248.9 27.2059 L1256.36 27.2059 L1256.36 54.3874 Q1256.36 60.8284 1258.87 64.0691 Q1261.38 67.2693 1266.4 67.2693 Q1272.44 67.2693 1275.92 63.421 Q1279.45 59.5726 1279.45 52.9291 L1279.45 27.2059 L1286.9 27.2059 L1286.9 72.576 L1279.45 72.576 L1279.45 65.6084 Q1276.73 69.7404 1273.13 71.7658 Q1269.56 73.7508 1264.82 73.7508 Q1257 73.7508 1252.95 68.8897 Q1248.9 64.0286 1248.9 54.671 M1267.66 26.1121 L1267.66 26.1121 Z\" fill=\"#000000\" fill-rule=\"evenodd\" fill-opacity=\"1\" /><path clip-path=\"url(#clip950)\" d=\"M 0 0 M1332.43 45.1919 L1332.43 72.576 L1324.98 72.576 L1324.98 45.4349 Q1324.98 38.994 1322.47 35.7938 Q1319.95 32.5936 1314.93 32.5936 Q1308.9 32.5936 1305.41 36.4419 Q1301.93 40.2903 1301.93 46.9338 L1301.93 72.576 L1294.43 72.576 L1294.43 27.2059 L1301.93 27.2059 L1301.93 34.2544 Q1304.6 30.163 1308.21 28.1376 Q1311.85 26.1121 1316.59 26.1121 Q1324.41 26.1121 1328.42 30.9732 Q1332.43 35.7938 1332.43 45.1919 Z\" fill=\"#000000\" fill-rule=\"evenodd\" fill-opacity=\"1\" /><path clip-path=\"url(#clip950)\" d=\"M 0 0 M1372.9 28.9478 L1372.9 35.9153 Q1369.74 34.1734 1366.54 33.3227 Q1363.38 32.4315 1360.14 32.4315 Q1352.89 32.4315 1348.88 37.0496 Q1344.87 41.6271 1344.87 49.9314 Q1344.87 58.2358 1348.88 62.8538 Q1352.89 67.4314 1360.14 67.4314 Q1363.38 67.4314 1366.54 66.5807 Q1369.74 65.6895 1372.9 63.9476 L1372.9 70.8341 Q1369.78 72.2924 1366.42 73.0216 Q1363.1 73.7508 1359.33 73.7508 Q1349.08 73.7508 1343.04 67.3098 Q1337.01 60.8689 1337.01 49.9314 Q1337.01 38.832 1343.09 32.472 Q1349.2 26.1121 1359.82 26.1121 Q1363.26 26.1121 1366.54 26.8413 Q1369.82 27.5299 1372.9 28.9478 Z\" fill=\"#000000\" fill-rule=\"evenodd\" fill-opacity=\"1\" /><path clip-path=\"url(#clip950)\" d=\"M 0 0 M1388.09 14.324 L1388.09 27.2059 L1403.44 27.2059 L1403.44 32.9987 L1388.09 32.9987 L1388.09 57.6282 Q1388.09 63.1779 1389.59 64.7578 Q1391.13 66.3376 1395.79 66.3376 L1403.44 66.3376 L1403.44 72.576 L1395.79 72.576 Q1387.16 72.576 1383.88 69.3758 Q1380.6 66.1351 1380.6 57.6282 L1380.6 32.9987 L1375.13 32.9987 L1375.13 27.2059 L1380.6 27.2059 L1380.6 14.324 L1388.09 14.324 Z\" fill=\"#000000\" fill-rule=\"evenodd\" fill-opacity=\"1\" /><path clip-path=\"url(#clip950)\" d=\"M 0 0 M1411.26 27.2059 L1418.72 27.2059 L1418.72 72.576 L1411.26 72.576 L1411.26 27.2059 M1411.26 9.54393 L1418.72 9.54393 L1418.72 18.9825 L1411.26 18.9825 L1411.26 9.54393 Z\" fill=\"#000000\" fill-rule=\"evenodd\" fill-opacity=\"1\" /><path clip-path=\"url(#clip950)\" d=\"M 0 0 M1444.11 32.4315 Q1438.12 32.4315 1434.64 37.1306 Q1431.15 41.7891 1431.15 49.9314 Q1431.15 58.0738 1434.6 62.7728 Q1438.08 67.4314 1444.11 67.4314 Q1450.07 67.4314 1453.55 62.7323 Q1457.04 58.0333 1457.04 49.9314 Q1457.04 41.8701 1453.55 37.1711 Q1450.07 32.4315 1444.11 32.4315 M1444.11 26.1121 Q1453.84 26.1121 1459.39 32.4315 Q1464.94 38.7509 1464.94 49.9314 Q1464.94 61.0714 1459.39 67.4314 Q1453.84 73.7508 1444.11 73.7508 Q1434.35 73.7508 1428.8 67.4314 Q1423.29 61.0714 1423.29 49.9314 Q1423.29 38.7509 1428.8 32.4315 Q1434.35 26.1121 1444.11 26.1121 Z\" fill=\"#000000\" fill-rule=\"evenodd\" fill-opacity=\"1\" /><path clip-path=\"url(#clip950)\" d=\"M 0 0 M1510.47 45.1919 L1510.47 72.576 L1503.01 72.576 L1503.01 45.4349 Q1503.01 38.994 1500.5 35.7938 Q1497.99 32.5936 1492.97 32.5936 Q1486.93 32.5936 1483.45 36.4419 Q1479.97 40.2903 1479.97 46.9338 L1479.97 72.576 L1472.47 72.576 L1472.47 27.2059 L1479.97 27.2059 L1479.97 34.2544 Q1482.64 30.163 1486.24 28.1376 Q1489.89 26.1121 1494.63 26.1121 Q1502.45 26.1121 1506.46 30.9732 Q1510.47 35.7938 1510.47 45.1919 Z\" fill=\"#000000\" fill-rule=\"evenodd\" fill-opacity=\"1\" /><polyline clip-path=\"url(#clip952)\" style=\"stroke:#009af9; stroke-width:8; stroke-opacity:1; fill:none\" points=\"\n",
       "  205.01,1447.87 224.318,1447.87 243.625,1447.87 262.932,1447.87 282.24,1435.97 301.547,1435.97 320.854,1424.06 340.162,1424.06 359.469,1412.16 378.776,1400.25 \n",
       "  398.084,1400.25 417.391,1388.34 436.698,1388.34 456.006,1376.44 475.313,1376.44 494.62,1364.53 513.927,1364.53 533.235,1352.63 552.542,1340.72 571.849,1328.82 \n",
       "  591.157,1328.82 610.464,1316.91 629.771,1305 649.079,1305 668.386,1293.1 687.693,1281.19 707.001,1269.29 726.308,1269.29 745.615,1257.38 764.923,1245.47 \n",
       "  784.23,1233.57 803.537,1221.66 822.844,1221.66 842.152,1209.76 861.459,1197.85 880.766,1197.85 900.074,1185.95 919.381,1174.04 938.688,1162.13 957.996,1150.23 \n",
       "  977.303,1150.23 996.61,1138.32 1015.92,1126.42 1035.22,1114.51 1054.53,1102.6 1073.84,1102.6 1093.15,1090.7 1112.45,1078.79 1131.76,1066.89 1151.07,1054.98 \n",
       "  1170.38,1054.98 1189.68,1043.08 1208.99,1031.17 1228.3,1019.26 1247.61,1007.36 1266.91,995.453 1286.22,995.453 1305.53,983.547 1324.83,971.641 1344.14,959.735 \n",
       "  1363.45,947.83 1382.76,935.924 1402.06,935.924 1421.37,924.018 1440.68,912.112 1459.99,900.206 1479.29,888.301 1498.6,876.395 1517.91,864.489 1537.22,852.583 \n",
       "  1556.52,852.583 1575.83,840.677 1595.14,828.772 1614.44,816.866 1633.75,804.96 1653.06,793.054 1672.37,781.148 1691.67,781.148 1710.98,769.243 1730.29,757.337 \n",
       "  1749.6,745.431 1768.9,733.525 1788.21,721.619 1807.52,709.714 1826.82,697.808 1846.13,685.902 1865.44,673.996 1884.75,673.996 1904.05,662.09 1923.36,650.185 \n",
       "  1942.67,638.279 1961.98,626.373 1981.28,614.467 2000.59,602.561 2019.9,590.656 2039.21,578.75 2058.51,578.75 2077.82,566.844 2097.13,554.938 2116.43,543.032 \n",
       "  2135.74,531.127 2155.05,519.221 2174.36,507.315 2193.66,495.409 2212.97,483.503 2232.28,483.503 2251.59,471.598 2270.89,459.692 2290.2,447.786 \n",
       "  \"/>\n",
       "<polyline clip-path=\"url(#clip952)\" style=\"stroke:#e26f46; stroke-width:8; stroke-opacity:1; fill:none\" points=\"\n",
       "  205.01,1328.82 224.318,1316.91 243.625,1305 262.932,1305 282.24,1293.1 301.547,1281.19 320.854,1269.29 340.162,1257.38 359.469,1245.47 378.776,1233.57 \n",
       "  398.084,1233.57 417.391,1221.66 436.698,1209.76 456.006,1197.85 475.313,1185.95 494.62,1185.95 513.927,1174.04 533.235,1162.13 552.542,1150.23 571.849,1138.32 \n",
       "  591.157,1126.42 610.464,1126.42 629.771,1114.51 649.079,1102.6 668.386,1090.7 687.693,1078.79 707.001,1066.89 726.308,1054.98 745.615,1043.08 764.923,1031.17 \n",
       "  784.23,1031.17 803.537,1019.26 822.844,1007.36 842.152,995.453 861.459,983.547 880.766,971.641 900.074,959.735 919.381,947.83 938.688,947.83 957.996,935.924 \n",
       "  977.303,924.018 996.61,912.112 1015.92,900.206 1035.22,888.301 1054.53,876.395 1073.84,864.489 1093.15,852.583 1112.45,840.677 1131.76,840.677 1151.07,828.772 \n",
       "  1170.38,816.866 1189.68,804.96 1208.99,793.054 1228.3,781.148 1247.61,769.243 1266.91,757.337 1286.22,745.431 1305.53,733.525 1324.83,721.619 1344.14,709.714 \n",
       "  1363.45,709.714 1382.76,697.808 1402.06,685.902 1421.37,673.996 1440.68,662.09 1459.99,650.185 1479.29,638.279 1498.6,626.373 1517.91,614.467 1537.22,602.561 \n",
       "  1556.52,590.656 1575.83,578.75 1595.14,578.75 1614.44,566.844 1633.75,554.938 1653.06,543.032 1672.37,531.127 1691.67,519.221 1710.98,507.315 1730.29,495.409 \n",
       "  1749.6,483.503 1768.9,471.598 1788.21,459.692 1807.52,447.786 1826.82,435.88 1846.13,423.974 1865.44,412.069 1884.75,400.163 1904.05,400.163 1923.36,388.257 \n",
       "  1942.67,376.351 1961.98,364.445 1981.28,352.54 2000.59,340.634 2019.9,328.728 2039.21,316.822 2058.51,316.822 2077.82,304.916 2097.13,293.011 2116.43,281.105 \n",
       "  2135.74,269.199 2155.05,257.293 2174.36,245.387 2193.66,233.482 2212.97,221.576 2232.28,209.67 2251.59,197.764 2270.89,185.859 2290.2,173.953 \n",
       "  \"/>\n",
       "<polyline clip-path=\"url(#clip952)\" style=\"stroke:#3da44d; stroke-width:8; stroke-opacity:1; fill:none\" points=\"\n",
       "  205.01,1447.87 224.318,1435.97 243.625,1424.06 262.932,1412.16 282.24,1400.25 301.547,1388.34 320.854,1376.44 340.162,1364.53 359.469,1352.63 378.776,1340.72 \n",
       "  398.084,1328.82 417.391,1316.91 436.698,1305 456.006,1293.1 475.313,1281.19 494.62,1269.29 513.927,1257.38 533.235,1245.47 552.542,1233.57 571.849,1221.66 \n",
       "  591.157,1209.76 610.464,1197.85 629.771,1185.95 649.079,1174.04 668.386,1162.13 687.693,1150.23 707.001,1138.32 726.308,1126.42 745.615,1114.51 764.923,1102.6 \n",
       "  784.23,1090.7 803.537,1078.79 822.844,1066.89 842.152,1054.98 861.459,1043.08 880.766,1031.17 900.074,1019.26 919.381,1007.36 938.688,995.453 957.996,983.547 \n",
       "  977.303,971.641 996.61,959.735 1015.92,947.83 1035.22,935.924 1054.53,924.018 1073.84,912.112 1093.15,900.206 1112.45,888.301 1131.76,876.395 1151.07,864.489 \n",
       "  1170.38,852.583 1189.68,840.677 1208.99,828.772 1228.3,816.866 1247.61,804.96 1266.91,793.054 1286.22,781.148 1305.53,769.243 1324.83,757.337 1344.14,745.431 \n",
       "  1363.45,733.525 1382.76,721.619 1402.06,709.714 1421.37,697.808 1440.68,685.902 1459.99,673.996 1479.29,662.09 1498.6,650.185 1517.91,638.279 1537.22,626.373 \n",
       "  1556.52,614.467 1575.83,602.561 1595.14,590.656 1614.44,578.75 1633.75,566.844 1653.06,554.938 1672.37,543.032 1691.67,531.127 1710.98,519.221 1730.29,507.315 \n",
       "  1749.6,495.409 1768.9,483.503 1788.21,471.598 1807.52,459.692 1826.82,447.786 1846.13,435.88 1865.44,423.974 1884.75,412.069 1904.05,400.163 1923.36,388.257 \n",
       "  1942.67,376.351 1961.98,364.445 1981.28,352.54 2000.59,340.634 2019.9,328.728 2039.21,316.822 2058.51,304.916 2077.82,293.011 2097.13,281.105 2116.43,269.199 \n",
       "  2135.74,257.293 2155.05,245.387 2174.36,233.482 2193.66,221.576 2212.97,209.67 2232.28,197.764 2251.59,185.859 2270.89,173.953 2290.2,162.047 \n",
       "  \"/>\n",
       "<path clip-path=\"url(#clip950)\" d=\"\n",
       "M216.131 410.825 L532.114 410.825 L532.114 168.905 L216.131 168.905  Z\n",
       "  \" fill=\"#ffffff\" fill-rule=\"evenodd\" fill-opacity=\"1\"/>\n",
       "<polyline clip-path=\"url(#clip950)\" style=\"stroke:#000000; stroke-width:4; stroke-opacity:1; fill:none\" points=\"\n",
       "  216.131,410.825 532.114,410.825 532.114,168.905 216.131,168.905 216.131,410.825 \n",
       "  \"/>\n",
       "<polyline clip-path=\"url(#clip950)\" style=\"stroke:#009af9; stroke-width:4; stroke-opacity:1; fill:none\" points=\"\n",
       "  240.69,229.385 388.044,229.385 \n",
       "  \"/>\n",
       "<path clip-path=\"url(#clip950)\" d=\"M 0 0 M436.63 232.637 L436.63 234.72 L417.047 234.72 Q417.325 239.118 419.686 241.433 Q422.07 243.725 426.306 243.725 Q428.76 243.725 431.052 243.123 Q433.366 242.521 435.635 241.317 L435.635 245.345 Q433.343 246.317 430.936 246.827 Q428.529 247.336 426.052 247.336 Q419.848 247.336 416.214 243.725 Q412.603 240.114 412.603 233.956 Q412.603 227.591 416.029 223.864 Q419.478 220.114 425.311 220.114 Q430.542 220.114 433.575 223.493 Q436.63 226.85 436.63 232.637 M432.371 231.387 Q432.325 227.892 430.404 225.808 Q428.505 223.725 425.357 223.725 Q421.792 223.725 419.64 225.739 Q417.51 227.753 417.186 231.41 L432.371 231.387 Z\" fill=\"#000000\" fill-rule=\"evenodd\" fill-opacity=\"1\" /><path clip-path=\"url(#clip950)\" d=\"M 0 0 M441.283 212.105 L445.959 212.105 L445.959 242.729 L462.788 242.729 L462.788 246.665 L441.283 246.665 L441.283 212.105 Z\" fill=\"#000000\" fill-rule=\"evenodd\" fill-opacity=\"1\" /><polyline clip-path=\"url(#clip950)\" style=\"stroke:#e26f46; stroke-width:4; stroke-opacity:1; fill:none\" points=\"\n",
       "  240.69,289.865 388.044,289.865 \n",
       "  \"/>\n",
       "<path clip-path=\"url(#clip950)\" d=\"M 0 0 M436.63 293.117 L436.63 295.2 L417.047 295.2 Q417.325 299.598 419.686 301.913 Q422.07 304.205 426.306 304.205 Q428.76 304.205 431.052 303.603 Q433.366 303.001 435.635 301.797 L435.635 305.825 Q433.343 306.797 430.936 307.307 Q428.529 307.816 426.052 307.816 Q419.848 307.816 416.214 304.205 Q412.603 300.594 412.603 294.436 Q412.603 288.071 416.029 284.344 Q419.478 280.594 425.311 280.594 Q430.542 280.594 433.575 283.973 Q436.63 287.33 436.63 293.117 M432.371 291.867 Q432.325 288.372 430.404 286.288 Q428.505 284.205 425.357 284.205 Q421.792 284.205 419.64 286.219 Q417.51 288.233 417.186 291.89 L432.371 291.867 Z\" fill=\"#000000\" fill-rule=\"evenodd\" fill-opacity=\"1\" /><path clip-path=\"url(#clip950)\" d=\"M 0 0 M441.283 272.585 L445.959 272.585 L445.959 286.751 L462.95 286.751 L462.95 272.585 L467.626 272.585 L467.626 307.145 L462.95 307.145 L462.95 290.686 L445.959 290.686 L445.959 307.145 L441.283 307.145 L441.283 272.585 Z\" fill=\"#000000\" fill-rule=\"evenodd\" fill-opacity=\"1\" /><polyline clip-path=\"url(#clip950)\" style=\"stroke:#3da44d; stroke-width:4; stroke-opacity:1; fill:none\" points=\"\n",
       "  240.69,350.345 388.044,350.345 \n",
       "  \"/>\n",
       "<path clip-path=\"url(#clip950)\" d=\"M 0 0 M428.204 337.139 L416.399 355.588 L428.204 355.588 L428.204 337.139 M426.978 333.065 L432.857 333.065 L432.857 355.588 L437.788 355.588 L437.788 359.477 L432.857 359.477 L432.857 367.625 L428.204 367.625 L428.204 359.477 L412.603 359.477 L412.603 354.963 L426.978 333.065 Z\" fill=\"#000000\" fill-rule=\"evenodd\" fill-opacity=\"1\" /><path clip-path=\"url(#clip950)\" d=\"M 0 0 M442.903 333.065 L461.26 333.065 L461.26 337 L447.186 337 L447.186 345.472 Q448.204 345.125 449.223 344.963 Q450.241 344.778 451.26 344.778 Q457.047 344.778 460.427 347.949 Q463.806 351.12 463.806 356.537 Q463.806 362.115 460.334 365.217 Q456.862 368.296 450.542 368.296 Q448.366 368.296 446.098 367.926 Q443.853 367.555 441.445 366.814 L441.445 362.115 Q443.528 363.25 445.751 363.805 Q447.973 364.361 450.45 364.361 Q454.454 364.361 456.792 362.254 Q459.13 360.148 459.13 356.537 Q459.13 352.926 456.792 350.819 Q454.454 348.713 450.45 348.713 Q448.575 348.713 446.7 349.129 Q444.848 349.546 442.903 350.426 L442.903 333.065 Z\" fill=\"#000000\" fill-rule=\"evenodd\" fill-opacity=\"1\" /><path clip-path=\"url(#clip950)\" d=\"M 0 0 M475.658 335.426 Q473.806 335.426 472.533 336.722 Q471.26 337.995 471.26 339.847 Q471.26 341.676 472.533 342.949 Q473.806 344.199 475.658 344.199 Q477.51 344.199 478.783 342.949 Q480.056 341.676 480.056 339.847 Q480.056 338.018 478.76 336.722 Q477.487 335.426 475.658 335.426 M475.658 332.44 Q477.139 332.44 478.505 333.018 Q479.871 333.574 480.866 334.639 Q481.931 335.68 482.463 337 Q482.996 338.319 482.996 339.847 Q482.996 342.903 480.843 345.032 Q478.713 347.139 475.612 347.139 Q472.487 347.139 470.403 345.055 Q468.32 342.972 468.32 339.847 Q468.32 336.745 470.45 334.592 Q472.579 332.44 475.658 332.44 Z\" fill=\"#000000\" fill-rule=\"evenodd\" fill-opacity=\"1\" /></svg>\n"
      ]
     },
     "execution_count": 19,
     "metadata": {},
     "output_type": "execute_result"
    }
   ],
   "source": [
    "# Plot policy functions to check what is happening\n",
    "\n",
    "# Find endogenous a upper bar (use aUB+20 in graphs to see the intersection)\n",
    "aUB = findfirst(policy[:,2] - A[:] .<= 0.001)  \n",
    "\n",
    "# Unconstrained plot\n",
    "p1 = plot(A, [policy A], linewidth = 2, title = \"Policy function\", label = [\"eL\" \"eH\" \"45°\"], legend =:topleft)\n",
    "\n",
    "# Constrained to endogenous a_UpperBar\n",
    "p1B = plot(A[1:aUB+20], [policy[1:aUB+20,:] A[1:aUB+20]], linewidth = 2, \n",
    "    title = \"Policy function\", label = [\"eL\" \"eH\" \"45°\"], legend =:topleft)"
   ]
  },
  {
   "cell_type": "code",
   "execution_count": 20,
   "metadata": {},
   "outputs": [
    {
     "data": {
      "image/svg+xml": [
       "<?xml version=\"1.0\" encoding=\"utf-8\"?>\n",
       "<svg xmlns=\"http://www.w3.org/2000/svg\" xmlns:xlink=\"http://www.w3.org/1999/xlink\" width=\"600\" height=\"400\" viewBox=\"0 0 2400 1600\">\n",
       "<defs>\n",
       "  <clipPath id=\"clip990\">\n",
       "    <rect x=\"0\" y=\"0\" width=\"2400\" height=\"1600\"/>\n",
       "  </clipPath>\n",
       "</defs>\n",
       "<path clip-path=\"url(#clip990)\" d=\"\n",
       "M0 1600 L2400 1600 L2400 0 L0 0  Z\n",
       "  \" fill=\"#ffffff\" fill-rule=\"evenodd\" fill-opacity=\"1\"/>\n",
       "<defs>\n",
       "  <clipPath id=\"clip991\">\n",
       "    <rect x=\"480\" y=\"0\" width=\"1681\" height=\"1600\"/>\n",
       "  </clipPath>\n",
       "</defs>\n",
       "<path clip-path=\"url(#clip990)\" d=\"\n",
       "M174.862 1486.45 L2352.76 1486.45 L2352.76 123.472 L174.862 123.472  Z\n",
       "  \" fill=\"#ffffff\" fill-rule=\"evenodd\" fill-opacity=\"1\"/>\n",
       "<defs>\n",
       "  <clipPath id=\"clip992\">\n",
       "    <rect x=\"174\" y=\"123\" width=\"2179\" height=\"1364\"/>\n",
       "  </clipPath>\n",
       "</defs>\n",
       "<polyline clip-path=\"url(#clip992)\" style=\"stroke:#000000; stroke-width:2; stroke-opacity:0.1; fill:none\" points=\"\n",
       "  236.501,1486.45 236.501,123.472 \n",
       "  \"/>\n",
       "<polyline clip-path=\"url(#clip992)\" style=\"stroke:#000000; stroke-width:2; stroke-opacity:0.1; fill:none\" points=\"\n",
       "  789.789,1486.45 789.789,123.472 \n",
       "  \"/>\n",
       "<polyline clip-path=\"url(#clip992)\" style=\"stroke:#000000; stroke-width:2; stroke-opacity:0.1; fill:none\" points=\"\n",
       "  1343.08,1486.45 1343.08,123.472 \n",
       "  \"/>\n",
       "<polyline clip-path=\"url(#clip992)\" style=\"stroke:#000000; stroke-width:2; stroke-opacity:0.1; fill:none\" points=\"\n",
       "  1896.36,1486.45 1896.36,123.472 \n",
       "  \"/>\n",
       "<polyline clip-path=\"url(#clip992)\" style=\"stroke:#000000; stroke-width:2; stroke-opacity:0.1; fill:none\" points=\"\n",
       "  174.862,1463.42 2352.76,1463.42 \n",
       "  \"/>\n",
       "<polyline clip-path=\"url(#clip992)\" style=\"stroke:#000000; stroke-width:2; stroke-opacity:0.1; fill:none\" points=\"\n",
       "  174.862,1233.96 2352.76,1233.96 \n",
       "  \"/>\n",
       "<polyline clip-path=\"url(#clip992)\" style=\"stroke:#000000; stroke-width:2; stroke-opacity:0.1; fill:none\" points=\"\n",
       "  174.862,1004.5 2352.76,1004.5 \n",
       "  \"/>\n",
       "<polyline clip-path=\"url(#clip992)\" style=\"stroke:#000000; stroke-width:2; stroke-opacity:0.1; fill:none\" points=\"\n",
       "  174.862,775.044 2352.76,775.044 \n",
       "  \"/>\n",
       "<polyline clip-path=\"url(#clip992)\" style=\"stroke:#000000; stroke-width:2; stroke-opacity:0.1; fill:none\" points=\"\n",
       "  174.862,545.585 2352.76,545.585 \n",
       "  \"/>\n",
       "<polyline clip-path=\"url(#clip992)\" style=\"stroke:#000000; stroke-width:2; stroke-opacity:0.1; fill:none\" points=\"\n",
       "  174.862,316.126 2352.76,316.126 \n",
       "  \"/>\n",
       "<polyline clip-path=\"url(#clip990)\" style=\"stroke:#000000; stroke-width:4; stroke-opacity:1; fill:none\" points=\"\n",
       "  174.862,1486.45 2352.76,1486.45 \n",
       "  \"/>\n",
       "<polyline clip-path=\"url(#clip990)\" style=\"stroke:#000000; stroke-width:4; stroke-opacity:1; fill:none\" points=\"\n",
       "  174.862,1486.45 174.862,123.472 \n",
       "  \"/>\n",
       "<polyline clip-path=\"url(#clip990)\" style=\"stroke:#000000; stroke-width:4; stroke-opacity:1; fill:none\" points=\"\n",
       "  236.501,1486.45 236.501,1470.09 \n",
       "  \"/>\n",
       "<polyline clip-path=\"url(#clip990)\" style=\"stroke:#000000; stroke-width:4; stroke-opacity:1; fill:none\" points=\"\n",
       "  789.789,1486.45 789.789,1470.09 \n",
       "  \"/>\n",
       "<polyline clip-path=\"url(#clip990)\" style=\"stroke:#000000; stroke-width:4; stroke-opacity:1; fill:none\" points=\"\n",
       "  1343.08,1486.45 1343.08,1470.09 \n",
       "  \"/>\n",
       "<polyline clip-path=\"url(#clip990)\" style=\"stroke:#000000; stroke-width:4; stroke-opacity:1; fill:none\" points=\"\n",
       "  1896.36,1486.45 1896.36,1470.09 \n",
       "  \"/>\n",
       "<polyline clip-path=\"url(#clip990)\" style=\"stroke:#000000; stroke-width:4; stroke-opacity:1; fill:none\" points=\"\n",
       "  174.862,1463.42 200.997,1463.42 \n",
       "  \"/>\n",
       "<polyline clip-path=\"url(#clip990)\" style=\"stroke:#000000; stroke-width:4; stroke-opacity:1; fill:none\" points=\"\n",
       "  174.862,1233.96 200.997,1233.96 \n",
       "  \"/>\n",
       "<polyline clip-path=\"url(#clip990)\" style=\"stroke:#000000; stroke-width:4; stroke-opacity:1; fill:none\" points=\"\n",
       "  174.862,1004.5 200.997,1004.5 \n",
       "  \"/>\n",
       "<polyline clip-path=\"url(#clip990)\" style=\"stroke:#000000; stroke-width:4; stroke-opacity:1; fill:none\" points=\"\n",
       "  174.862,775.044 200.997,775.044 \n",
       "  \"/>\n",
       "<polyline clip-path=\"url(#clip990)\" style=\"stroke:#000000; stroke-width:4; stroke-opacity:1; fill:none\" points=\"\n",
       "  174.862,545.585 200.997,545.585 \n",
       "  \"/>\n",
       "<polyline clip-path=\"url(#clip990)\" style=\"stroke:#000000; stroke-width:4; stroke-opacity:1; fill:none\" points=\"\n",
       "  174.862,316.126 200.997,316.126 \n",
       "  \"/>\n",
       "<path clip-path=\"url(#clip990)\" d=\"M 0 0 M208.954 1523.09 L238.63 1523.09 L238.63 1527.03 L208.954 1527.03 L208.954 1523.09 Z\" fill=\"#000000\" fill-rule=\"evenodd\" fill-opacity=\"1\" /><path clip-path=\"url(#clip990)\" d=\"M 0 0 M247.727 1535.98 L264.047 1535.98 L264.047 1539.92 L242.102 1539.92 L242.102 1535.98 Q244.764 1533.23 249.348 1528.6 Q253.954 1523.95 255.135 1522.61 Q257.38 1520.08 258.26 1518.35 Q259.162 1516.59 259.162 1514.9 Q259.162 1512.14 257.218 1510.41 Q255.297 1508.67 252.195 1508.67 Q249.996 1508.67 247.542 1509.43 Q245.112 1510.2 242.334 1511.75 L242.334 1507.03 Q245.158 1505.89 247.612 1505.31 Q250.065 1504.73 252.102 1504.73 Q257.473 1504.73 260.667 1507.42 Q263.861 1510.11 263.861 1514.6 Q263.861 1516.73 263.051 1518.65 Q262.264 1520.54 260.158 1523.14 Q259.579 1523.81 256.477 1527.03 Q253.375 1530.22 247.727 1535.98 Z\" fill=\"#000000\" fill-rule=\"evenodd\" fill-opacity=\"1\" /><path clip-path=\"url(#clip990)\" d=\"M 0 0 M762.057 1523.09 L791.733 1523.09 L791.733 1527.03 L762.057 1527.03 L762.057 1523.09 Z\" fill=\"#000000\" fill-rule=\"evenodd\" fill-opacity=\"1\" /><path clip-path=\"url(#clip990)\" d=\"M 0 0 M797.613 1535.98 L805.251 1535.98 L805.251 1509.62 L796.941 1511.29 L796.941 1507.03 L805.205 1505.36 L809.881 1505.36 L809.881 1535.98 L817.52 1535.98 L817.52 1539.92 L797.613 1539.92 L797.613 1535.98 Z\" fill=\"#000000\" fill-rule=\"evenodd\" fill-opacity=\"1\" /><path clip-path=\"url(#clip990)\" d=\"M 0 0 M1343.08 1508.44 Q1339.47 1508.44 1337.64 1512 Q1335.83 1515.55 1335.83 1522.67 Q1335.83 1529.78 1337.64 1533.35 Q1339.47 1536.89 1343.08 1536.89 Q1346.71 1536.89 1348.52 1533.35 Q1350.35 1529.78 1350.35 1522.67 Q1350.35 1515.55 1348.52 1512 Q1346.71 1508.44 1343.08 1508.44 M1343.08 1504.73 Q1348.89 1504.73 1351.94 1509.34 Q1355.02 1513.92 1355.02 1522.67 Q1355.02 1531.4 1351.94 1536.01 Q1348.89 1540.59 1343.08 1540.59 Q1337.27 1540.59 1334.19 1536.01 Q1331.13 1531.4 1331.13 1522.67 Q1331.13 1513.92 1334.19 1509.34 Q1337.27 1504.73 1343.08 1504.73 Z\" fill=\"#000000\" fill-rule=\"evenodd\" fill-opacity=\"1\" /><path clip-path=\"url(#clip990)\" d=\"M 0 0 M1886.75 1535.98 L1894.39 1535.98 L1894.39 1509.62 L1886.08 1511.29 L1886.08 1507.03 L1894.34 1505.36 L1899.02 1505.36 L1899.02 1535.98 L1906.65 1535.98 L1906.65 1539.92 L1886.75 1539.92 L1886.75 1535.98 Z\" fill=\"#000000\" fill-rule=\"evenodd\" fill-opacity=\"1\" /><path clip-path=\"url(#clip990)\" d=\"M 0 0 M74.9365 1449.22 Q71.3254 1449.22 69.4967 1452.78 Q67.6912 1456.33 67.6912 1463.46 Q67.6912 1470.56 69.4967 1474.13 Q71.3254 1477.67 74.9365 1477.67 Q78.5707 1477.67 80.3763 1474.13 Q82.205 1470.56 82.205 1463.46 Q82.205 1456.33 80.3763 1452.78 Q78.5707 1449.22 74.9365 1449.22 M74.9365 1445.52 Q80.7467 1445.52 83.8022 1450.12 Q86.8809 1454.71 86.8809 1463.46 Q86.8809 1472.18 83.8022 1476.79 Q80.7467 1481.37 74.9365 1481.37 Q69.1264 1481.37 66.0477 1476.79 Q62.9921 1472.18 62.9921 1463.46 Q62.9921 1454.71 66.0477 1450.12 Q69.1264 1445.52 74.9365 1445.52 Z\" fill=\"#000000\" fill-rule=\"evenodd\" fill-opacity=\"1\" /><path clip-path=\"url(#clip990)\" d=\"M 0 0 M91.9503 1474.82 L96.8345 1474.82 L96.8345 1480.7 L91.9503 1480.7 L91.9503 1474.82 Z\" fill=\"#000000\" fill-rule=\"evenodd\" fill-opacity=\"1\" /><path clip-path=\"url(#clip990)\" d=\"M 0 0 M111.904 1449.22 Q108.293 1449.22 106.464 1452.78 Q104.659 1456.33 104.659 1463.46 Q104.659 1470.56 106.464 1474.13 Q108.293 1477.67 111.904 1477.67 Q115.538 1477.67 117.344 1474.13 Q119.172 1470.56 119.172 1463.46 Q119.172 1456.33 117.344 1452.78 Q115.538 1449.22 111.904 1449.22 M111.904 1445.52 Q117.714 1445.52 120.77 1450.12 Q123.848 1454.71 123.848 1463.46 Q123.848 1472.18 120.77 1476.79 Q117.714 1481.37 111.904 1481.37 Q106.094 1481.37 103.015 1476.79 Q99.9595 1472.18 99.9595 1463.46 Q99.9595 1454.71 103.015 1450.12 Q106.094 1445.52 111.904 1445.52 Z\" fill=\"#000000\" fill-rule=\"evenodd\" fill-opacity=\"1\" /><path clip-path=\"url(#clip990)\" d=\"M 0 0 M138.918 1449.22 Q135.307 1449.22 133.478 1452.78 Q131.672 1456.33 131.672 1463.46 Q131.672 1470.56 133.478 1474.13 Q135.307 1477.67 138.918 1477.67 Q142.552 1477.67 144.357 1474.13 Q146.186 1470.56 146.186 1463.46 Q146.186 1456.33 144.357 1452.78 Q142.552 1449.22 138.918 1449.22 M138.918 1445.52 Q144.728 1445.52 147.783 1450.12 Q150.862 1454.71 150.862 1463.46 Q150.862 1472.18 147.783 1476.79 Q144.728 1481.37 138.918 1481.37 Q133.107 1481.37 130.029 1476.79 Q126.973 1472.18 126.973 1463.46 Q126.973 1454.71 130.029 1450.12 Q133.107 1445.52 138.918 1445.52 Z\" fill=\"#000000\" fill-rule=\"evenodd\" fill-opacity=\"1\" /><path clip-path=\"url(#clip990)\" d=\"M 0 0 M75.9319 1219.76 Q72.3208 1219.76 70.4921 1223.32 Q68.6865 1226.87 68.6865 1234 Q68.6865 1241.1 70.4921 1244.67 Q72.3208 1248.21 75.9319 1248.21 Q79.5661 1248.21 81.3717 1244.67 Q83.2004 1241.1 83.2004 1234 Q83.2004 1226.87 81.3717 1223.32 Q79.5661 1219.76 75.9319 1219.76 M75.9319 1216.06 Q81.742 1216.06 84.7976 1220.66 Q87.8763 1225.25 87.8763 1234 Q87.8763 1242.72 84.7976 1247.33 Q81.742 1251.91 75.9319 1251.91 Q70.1217 1251.91 67.043 1247.33 Q63.9875 1242.72 63.9875 1234 Q63.9875 1225.25 67.043 1220.66 Q70.1217 1216.06 75.9319 1216.06 Z\" fill=\"#000000\" fill-rule=\"evenodd\" fill-opacity=\"1\" /><path clip-path=\"url(#clip990)\" d=\"M 0 0 M92.9457 1245.36 L97.8299 1245.36 L97.8299 1251.24 L92.9457 1251.24 L92.9457 1245.36 Z\" fill=\"#000000\" fill-rule=\"evenodd\" fill-opacity=\"1\" /><path clip-path=\"url(#clip990)\" d=\"M 0 0 M112.899 1219.76 Q109.288 1219.76 107.459 1223.32 Q105.654 1226.87 105.654 1234 Q105.654 1241.1 107.459 1244.67 Q109.288 1248.21 112.899 1248.21 Q116.534 1248.21 118.339 1244.67 Q120.168 1241.1 120.168 1234 Q120.168 1226.87 118.339 1223.32 Q116.534 1219.76 112.899 1219.76 M112.899 1216.06 Q118.709 1216.06 121.765 1220.66 Q124.844 1225.25 124.844 1234 Q124.844 1242.72 121.765 1247.33 Q118.709 1251.91 112.899 1251.91 Q107.089 1251.91 104.01 1247.33 Q100.955 1242.72 100.955 1234 Q100.955 1225.25 104.01 1220.66 Q107.089 1216.06 112.899 1216.06 Z\" fill=\"#000000\" fill-rule=\"evenodd\" fill-opacity=\"1\" /><path clip-path=\"url(#clip990)\" d=\"M 0 0 M129.959 1216.68 L148.316 1216.68 L148.316 1220.62 L134.242 1220.62 L134.242 1229.09 Q135.26 1228.74 136.279 1228.58 Q137.297 1228.39 138.316 1228.39 Q144.103 1228.39 147.482 1231.57 Q150.862 1234.74 150.862 1240.15 Q150.862 1245.73 147.39 1248.83 Q143.918 1251.91 137.598 1251.91 Q135.422 1251.91 133.154 1251.54 Q130.908 1251.17 128.501 1250.43 L128.501 1245.73 Q130.584 1246.87 132.807 1247.42 Q135.029 1247.98 137.506 1247.98 Q141.51 1247.98 143.848 1245.87 Q146.186 1243.76 146.186 1240.15 Q146.186 1236.54 143.848 1234.44 Q141.51 1232.33 137.506 1232.33 Q135.631 1232.33 133.756 1232.75 Q131.904 1233.16 129.959 1234.04 L129.959 1216.68 Z\" fill=\"#000000\" fill-rule=\"evenodd\" fill-opacity=\"1\" /><path clip-path=\"url(#clip990)\" d=\"M 0 0 M76.1634 990.301 Q72.5523 990.301 70.7236 993.866 Q68.918 997.408 68.918 1004.54 Q68.918 1011.64 70.7236 1015.21 Q72.5523 1018.75 76.1634 1018.75 Q79.7976 1018.75 81.6031 1015.21 Q83.4318 1011.64 83.4318 1004.54 Q83.4318 997.408 81.6031 993.866 Q79.7976 990.301 76.1634 990.301 M76.1634 986.598 Q81.9735 986.598 85.029 991.204 Q88.1077 995.787 88.1077 1004.54 Q88.1077 1013.26 85.029 1017.87 Q81.9735 1022.45 76.1634 1022.45 Q70.3532 1022.45 67.2745 1017.87 Q64.219 1013.26 64.219 1004.54 Q64.219 995.787 67.2745 991.204 Q70.3532 986.598 76.1634 986.598 Z\" fill=\"#000000\" fill-rule=\"evenodd\" fill-opacity=\"1\" /><path clip-path=\"url(#clip990)\" d=\"M 0 0 M93.1771 1015.9 L98.0614 1015.9 L98.0614 1021.78 L93.1771 1021.78 L93.1771 1015.9 Z\" fill=\"#000000\" fill-rule=\"evenodd\" fill-opacity=\"1\" /><path clip-path=\"url(#clip990)\" d=\"M 0 0 M103.941 1017.85 L111.58 1017.85 L111.58 991.482 L103.27 993.148 L103.27 988.889 L111.534 987.223 L116.209 987.223 L116.209 1017.85 L123.848 1017.85 L123.848 1021.78 L103.941 1021.78 L103.941 1017.85 Z\" fill=\"#000000\" fill-rule=\"evenodd\" fill-opacity=\"1\" /><path clip-path=\"url(#clip990)\" d=\"M 0 0 M138.918 990.301 Q135.307 990.301 133.478 993.866 Q131.672 997.408 131.672 1004.54 Q131.672 1011.64 133.478 1015.21 Q135.307 1018.75 138.918 1018.75 Q142.552 1018.75 144.357 1015.21 Q146.186 1011.64 146.186 1004.54 Q146.186 997.408 144.357 993.866 Q142.552 990.301 138.918 990.301 M138.918 986.598 Q144.728 986.598 147.783 991.204 Q150.862 995.787 150.862 1004.54 Q150.862 1013.26 147.783 1017.87 Q144.728 1022.45 138.918 1022.45 Q133.107 1022.45 130.029 1017.87 Q126.973 1013.26 126.973 1004.54 Q126.973 995.787 130.029 991.204 Q133.107 986.598 138.918 986.598 Z\" fill=\"#000000\" fill-rule=\"evenodd\" fill-opacity=\"1\" /><path clip-path=\"url(#clip990)\" d=\"M 0 0 M77.1587 760.842 Q73.5476 760.842 71.7189 764.407 Q69.9134 767.949 69.9134 775.078 Q69.9134 782.185 71.7189 785.749 Q73.5476 789.291 77.1587 789.291 Q80.793 789.291 82.5985 785.749 Q84.4272 782.185 84.4272 775.078 Q84.4272 767.949 82.5985 764.407 Q80.793 760.842 77.1587 760.842 M77.1587 757.139 Q82.9689 757.139 86.0244 761.745 Q89.1031 766.328 89.1031 775.078 Q89.1031 783.805 86.0244 788.412 Q82.9689 792.995 77.1587 792.995 Q71.3486 792.995 68.2699 788.412 Q65.2143 783.805 65.2143 775.078 Q65.2143 766.328 68.2699 761.745 Q71.3486 757.139 77.1587 757.139 Z\" fill=\"#000000\" fill-rule=\"evenodd\" fill-opacity=\"1\" /><path clip-path=\"url(#clip990)\" d=\"M 0 0 M94.1725 786.444 L99.0567 786.444 L99.0567 792.324 L94.1725 792.324 L94.1725 786.444 Z\" fill=\"#000000\" fill-rule=\"evenodd\" fill-opacity=\"1\" /><path clip-path=\"url(#clip990)\" d=\"M 0 0 M104.936 788.388 L112.575 788.388 L112.575 762.023 L104.265 763.689 L104.265 759.43 L112.529 757.764 L117.205 757.764 L117.205 788.388 L124.844 788.388 L124.844 792.324 L104.936 792.324 L104.936 788.388 Z\" fill=\"#000000\" fill-rule=\"evenodd\" fill-opacity=\"1\" /><path clip-path=\"url(#clip990)\" d=\"M 0 0 M129.959 757.764 L148.316 757.764 L148.316 761.699 L134.242 761.699 L134.242 770.171 Q135.26 769.824 136.279 769.662 Q137.297 769.476 138.316 769.476 Q144.103 769.476 147.482 772.648 Q150.862 775.819 150.862 781.236 Q150.862 786.814 147.39 789.916 Q143.918 792.995 137.598 792.995 Q135.422 792.995 133.154 792.624 Q130.908 792.254 128.501 791.513 L128.501 786.814 Q130.584 787.949 132.807 788.504 Q135.029 789.06 137.506 789.06 Q141.51 789.06 143.848 786.953 Q146.186 784.847 146.186 781.236 Q146.186 777.625 143.848 775.518 Q141.51 773.412 137.506 773.412 Q135.631 773.412 133.756 773.828 Q131.904 774.245 129.959 775.125 L129.959 757.764 Z\" fill=\"#000000\" fill-rule=\"evenodd\" fill-opacity=\"1\" /><path clip-path=\"url(#clip990)\" d=\"M 0 0 M76.5337 531.383 Q72.9226 531.383 71.0939 534.948 Q69.2884 538.49 69.2884 545.619 Q69.2884 552.726 71.0939 556.29 Q72.9226 559.832 76.5337 559.832 Q80.168 559.832 81.9735 556.29 Q83.8022 552.726 83.8022 545.619 Q83.8022 538.49 81.9735 534.948 Q80.168 531.383 76.5337 531.383 M76.5337 527.68 Q82.3439 527.68 85.3994 532.286 Q88.4781 536.869 88.4781 545.619 Q88.4781 554.346 85.3994 558.953 Q82.3439 563.536 76.5337 563.536 Q70.7236 563.536 67.6449 558.953 Q64.5893 554.346 64.5893 545.619 Q64.5893 536.869 67.6449 532.286 Q70.7236 527.68 76.5337 527.68 Z\" fill=\"#000000\" fill-rule=\"evenodd\" fill-opacity=\"1\" /><path clip-path=\"url(#clip990)\" d=\"M 0 0 M93.5475 556.985 L98.4318 556.985 L98.4318 562.865 L93.5475 562.865 L93.5475 556.985 Z\" fill=\"#000000\" fill-rule=\"evenodd\" fill-opacity=\"1\" /><path clip-path=\"url(#clip990)\" d=\"M 0 0 M107.529 558.929 L123.848 558.929 L123.848 562.865 L101.904 562.865 L101.904 558.929 Q104.566 556.175 109.149 551.545 Q113.756 546.892 114.936 545.55 Q117.182 543.027 118.061 541.291 Q118.964 539.531 118.964 537.842 Q118.964 535.087 117.02 533.351 Q115.098 531.615 111.996 531.615 Q109.797 531.615 107.344 532.379 Q104.913 533.142 102.135 534.693 L102.135 529.971 Q104.959 528.837 107.413 528.258 Q109.867 527.68 111.904 527.68 Q117.274 527.68 120.469 530.365 Q123.663 533.05 123.663 537.541 Q123.663 539.67 122.853 541.591 Q122.066 543.49 119.959 546.082 Q119.381 546.753 116.279 549.971 Q113.177 553.165 107.529 558.929 Z\" fill=\"#000000\" fill-rule=\"evenodd\" fill-opacity=\"1\" /><path clip-path=\"url(#clip990)\" d=\"M 0 0 M138.918 531.383 Q135.307 531.383 133.478 534.948 Q131.672 538.49 131.672 545.619 Q131.672 552.726 133.478 556.29 Q135.307 559.832 138.918 559.832 Q142.552 559.832 144.357 556.29 Q146.186 552.726 146.186 545.619 Q146.186 538.49 144.357 534.948 Q142.552 531.383 138.918 531.383 M138.918 527.68 Q144.728 527.68 147.783 532.286 Q150.862 536.869 150.862 545.619 Q150.862 554.346 147.783 558.953 Q144.728 563.536 138.918 563.536 Q133.107 563.536 130.029 558.953 Q126.973 554.346 126.973 545.619 Q126.973 536.869 130.029 532.286 Q133.107 527.68 138.918 527.68 Z\" fill=\"#000000\" fill-rule=\"evenodd\" fill-opacity=\"1\" /><path clip-path=\"url(#clip990)\" d=\"M 0 0 M77.5291 301.924 Q73.918 301.924 72.0893 305.489 Q70.2838 309.031 70.2838 316.16 Q70.2838 323.267 72.0893 326.831 Q73.918 330.373 77.5291 330.373 Q81.1633 330.373 82.9689 326.831 Q84.7976 323.267 84.7976 316.16 Q84.7976 309.031 82.9689 305.489 Q81.1633 301.924 77.5291 301.924 M77.5291 298.221 Q83.3392 298.221 86.3948 302.827 Q89.4735 307.41 89.4735 316.16 Q89.4735 324.887 86.3948 329.494 Q83.3392 334.077 77.5291 334.077 Q71.7189 334.077 68.6402 329.494 Q65.5847 324.887 65.5847 316.16 Q65.5847 307.41 68.6402 302.827 Q71.7189 298.221 77.5291 298.221 Z\" fill=\"#000000\" fill-rule=\"evenodd\" fill-opacity=\"1\" /><path clip-path=\"url(#clip990)\" d=\"M 0 0 M94.5429 327.526 L99.4271 327.526 L99.4271 333.406 L94.5429 333.406 L94.5429 327.526 Z\" fill=\"#000000\" fill-rule=\"evenodd\" fill-opacity=\"1\" /><path clip-path=\"url(#clip990)\" d=\"M 0 0 M108.524 329.47 L124.844 329.47 L124.844 333.406 L102.899 333.406 L102.899 329.47 Q105.561 326.716 110.145 322.086 Q114.751 317.433 115.932 316.091 Q118.177 313.568 119.057 311.832 Q119.959 310.072 119.959 308.383 Q119.959 305.628 118.015 303.892 Q116.094 302.156 112.992 302.156 Q110.793 302.156 108.339 302.92 Q105.909 303.683 103.131 305.234 L103.131 300.512 Q105.955 299.378 108.409 298.799 Q110.862 298.221 112.899 298.221 Q118.27 298.221 121.464 300.906 Q124.658 303.591 124.658 308.082 Q124.658 310.211 123.848 312.132 Q123.061 314.031 120.955 316.623 Q120.376 317.294 117.274 320.512 Q114.172 323.706 108.524 329.47 Z\" fill=\"#000000\" fill-rule=\"evenodd\" fill-opacity=\"1\" /><path clip-path=\"url(#clip990)\" d=\"M 0 0 M129.959 298.846 L148.316 298.846 L148.316 302.781 L134.242 302.781 L134.242 311.253 Q135.26 310.906 136.279 310.744 Q137.297 310.558 138.316 310.558 Q144.103 310.558 147.482 313.73 Q150.862 316.901 150.862 322.318 Q150.862 327.896 147.39 330.998 Q143.918 334.077 137.598 334.077 Q135.422 334.077 133.154 333.706 Q130.908 333.336 128.501 332.595 L128.501 327.896 Q130.584 329.031 132.807 329.586 Q135.029 330.142 137.506 330.142 Q141.51 330.142 143.848 328.035 Q146.186 325.929 146.186 322.318 Q146.186 318.707 143.848 316.6 Q141.51 314.494 137.506 314.494 Q135.631 314.494 133.756 314.91 Q131.904 315.327 129.959 316.207 L129.959 298.846 Z\" fill=\"#000000\" fill-rule=\"evenodd\" fill-opacity=\"1\" /><path clip-path=\"url(#clip990)\" d=\"M 0 0 M895.42 14.0809 L895.42 22.0612 Q890.761 19.8332 886.629 18.7395 Q882.497 17.6457 878.649 17.6457 Q871.965 17.6457 868.319 20.2383 Q864.714 22.8309 864.714 27.611 Q864.714 31.6214 867.104 33.6873 Q869.534 35.7128 876.259 36.9686 L881.201 37.9813 Q890.356 39.7232 894.691 44.1387 Q899.066 48.5136 899.066 55.8863 Q899.066 64.6767 893.151 69.2137 Q887.277 73.7508 875.894 73.7508 Q871.6 73.7508 866.739 72.7785 Q861.919 71.8063 856.734 69.9024 L856.734 61.4765 Q861.716 64.2716 866.496 65.6895 Q871.276 67.1073 875.894 67.1073 Q882.902 67.1073 886.71 64.3527 Q890.518 61.598 890.518 56.4939 Q890.518 52.0379 887.764 49.5264 Q885.049 47.0148 878.811 45.759 L873.828 44.7868 Q864.673 42.9639 860.582 39.075 Q856.491 35.1862 856.491 28.2591 Q856.491 20.2383 862.121 15.6203 Q867.793 11.0023 877.717 11.0023 Q881.971 11.0023 886.386 11.7719 Q890.802 12.5416 895.42 14.0809 Z\" fill=\"#000000\" fill-rule=\"evenodd\" fill-opacity=\"1\" /><path clip-path=\"url(#clip990)\" d=\"M 0 0 M914.256 14.324 L914.256 27.2059 L929.609 27.2059 L929.609 32.9987 L914.256 32.9987 L914.256 57.6282 Q914.256 63.1779 915.755 64.7578 Q917.295 66.3376 921.953 66.3376 L929.609 66.3376 L929.609 72.576 L921.953 72.576 Q913.325 72.576 910.044 69.3758 Q906.762 66.1351 906.762 57.6282 L906.762 32.9987 L901.294 32.9987 L901.294 27.2059 L906.762 27.2059 L906.762 14.324 L914.256 14.324 Z\" fill=\"#000000\" fill-rule=\"evenodd\" fill-opacity=\"1\" /><path clip-path=\"url(#clip990)\" d=\"M 0 0 M958.047 49.7694 Q949.013 49.7694 945.529 51.8354 Q942.046 53.9013 942.046 58.8839 Q942.046 62.8538 944.638 65.2034 Q947.271 67.5124 951.768 67.5124 Q957.966 67.5124 961.693 63.1374 Q965.46 58.7219 965.46 51.4303 L965.46 49.7694 L958.047 49.7694 M972.914 46.6907 L972.914 72.576 L965.46 72.576 L965.46 65.6895 Q962.908 69.8214 959.1 71.8063 Q955.292 73.7508 949.783 73.7508 Q942.815 73.7508 938.683 69.8619 Q934.592 65.9325 934.592 59.3701 Q934.592 51.7138 939.696 47.825 Q944.841 43.9361 955.009 43.9361 L965.46 43.9361 L965.46 43.2069 Q965.46 38.0623 962.057 35.2672 Q958.695 32.4315 952.578 32.4315 Q948.689 32.4315 945.003 33.3632 Q941.316 34.295 937.914 36.1584 L937.914 29.2718 Q942.005 27.692 945.853 26.9223 Q949.702 26.1121 953.348 26.1121 Q963.191 26.1121 968.052 31.2163 Q972.914 36.3204 972.914 46.6907 Z\" fill=\"#000000\" fill-rule=\"evenodd\" fill-opacity=\"1\" /><path clip-path=\"url(#clip990)\" d=\"M 0 0 M988.104 14.324 L988.104 27.2059 L1003.46 27.2059 L1003.46 32.9987 L988.104 32.9987 L988.104 57.6282 Q988.104 63.1779 989.603 64.7578 Q991.143 66.3376 995.801 66.3376 L1003.46 66.3376 L1003.46 72.576 L995.801 72.576 Q987.173 72.576 983.891 69.3758 Q980.61 66.1351 980.61 57.6282 L980.61 32.9987 L975.142 32.9987 L975.142 27.2059 L980.61 27.2059 L980.61 14.324 L988.104 14.324 Z\" fill=\"#000000\" fill-rule=\"evenodd\" fill-opacity=\"1\" /><path clip-path=\"url(#clip990)\" d=\"M 0 0 M1011.28 27.2059 L1018.73 27.2059 L1018.73 72.576 L1011.28 72.576 L1011.28 27.2059 M1011.28 9.54393 L1018.73 9.54393 L1018.73 18.9825 L1011.28 18.9825 L1011.28 9.54393 Z\" fill=\"#000000\" fill-rule=\"evenodd\" fill-opacity=\"1\" /><path clip-path=\"url(#clip990)\" d=\"M 0 0 M1044.13 32.4315 Q1038.13 32.4315 1034.65 37.1306 Q1031.17 41.7891 1031.17 49.9314 Q1031.17 58.0738 1034.61 62.7728 Q1038.09 67.4314 1044.13 67.4314 Q1050.08 67.4314 1053.57 62.7323 Q1057.05 58.0333 1057.05 49.9314 Q1057.05 41.8701 1053.57 37.1711 Q1050.08 32.4315 1044.13 32.4315 M1044.13 26.1121 Q1053.85 26.1121 1059.4 32.4315 Q1064.95 38.7509 1064.95 49.9314 Q1064.95 61.0714 1059.4 67.4314 Q1053.85 73.7508 1044.13 73.7508 Q1034.37 73.7508 1028.82 67.4314 Q1023.31 61.0714 1023.31 49.9314 Q1023.31 38.7509 1028.82 32.4315 Q1034.37 26.1121 1044.13 26.1121 Z\" fill=\"#000000\" fill-rule=\"evenodd\" fill-opacity=\"1\" /><path clip-path=\"url(#clip990)\" d=\"M 0 0 M1110.48 45.1919 L1110.48 72.576 L1103.03 72.576 L1103.03 45.4349 Q1103.03 38.994 1100.52 35.7938 Q1098.01 32.5936 1092.98 32.5936 Q1086.95 32.5936 1083.46 36.4419 Q1079.98 40.2903 1079.98 46.9338 L1079.98 72.576 L1072.48 72.576 L1072.48 27.2059 L1079.98 27.2059 L1079.98 34.2544 Q1082.65 30.163 1086.26 28.1376 Q1089.9 26.1121 1094.64 26.1121 Q1102.46 26.1121 1106.47 30.9732 Q1110.48 35.7938 1110.48 45.1919 Z\" fill=\"#000000\" fill-rule=\"evenodd\" fill-opacity=\"1\" /><path clip-path=\"url(#clip990)\" d=\"M 0 0 M1138.92 49.7694 Q1129.89 49.7694 1126.4 51.8354 Q1122.92 53.9013 1122.92 58.8839 Q1122.92 62.8538 1125.51 65.2034 Q1128.14 67.5124 1132.64 67.5124 Q1138.84 67.5124 1142.57 63.1374 Q1146.33 58.7219 1146.33 51.4303 L1146.33 49.7694 L1138.92 49.7694 M1153.79 46.6907 L1153.79 72.576 L1146.33 72.576 L1146.33 65.6895 Q1143.78 69.8214 1139.97 71.8063 Q1136.16 73.7508 1130.66 73.7508 Q1123.69 73.7508 1119.56 69.8619 Q1115.46 65.9325 1115.46 59.3701 Q1115.46 51.7138 1120.57 47.825 Q1125.71 43.9361 1135.88 43.9361 L1146.33 43.9361 L1146.33 43.2069 Q1146.33 38.0623 1142.93 35.2672 Q1139.57 32.4315 1133.45 32.4315 Q1129.56 32.4315 1125.88 33.3632 Q1122.19 34.295 1118.79 36.1584 L1118.79 29.2718 Q1122.88 27.692 1126.73 26.9223 Q1130.57 26.1121 1134.22 26.1121 Q1144.06 26.1121 1148.93 31.2163 Q1153.79 36.3204 1153.79 46.6907 Z\" fill=\"#000000\" fill-rule=\"evenodd\" fill-opacity=\"1\" /><path clip-path=\"url(#clip990)\" d=\"M 0 0 M1187.9 34.1734 Q1186.64 33.4443 1185.14 33.1202 Q1183.68 32.7556 1181.9 32.7556 Q1175.58 32.7556 1172.18 36.8875 Q1168.82 40.9789 1168.82 48.6757 L1168.82 72.576 L1161.32 72.576 L1161.32 27.2059 L1168.82 27.2059 L1168.82 34.2544 Q1171.16 30.1225 1174.93 28.1376 Q1178.7 26.1121 1184.09 26.1121 Q1184.86 26.1121 1185.79 26.2337 Q1186.72 26.3147 1187.85 26.5172 L1187.9 34.1734 Z\" fill=\"#000000\" fill-rule=\"evenodd\" fill-opacity=\"1\" /><path clip-path=\"url(#clip990)\" d=\"M 0 0 M1214.59 76.7889 Q1211.43 84.8907 1208.43 87.3618 Q1205.44 89.8329 1200.41 89.8329 L1194.46 89.8329 L1194.46 83.5945 L1198.83 83.5945 Q1201.91 83.5945 1203.61 82.1361 Q1205.31 80.6778 1207.38 75.2496 L1208.72 71.8468 L1190.37 27.2059 L1198.27 27.2059 L1212.44 62.6918 L1226.62 27.2059 L1234.52 27.2059 L1214.59 76.7889 Z\" fill=\"#000000\" fill-rule=\"evenodd\" fill-opacity=\"1\" /><path clip-path=\"url(#clip990)\" d=\"M 0 0 M1298.57 34.0924 L1298.57 9.54393 L1306.02 9.54393 L1306.02 72.576 L1298.57 72.576 L1298.57 65.7705 Q1296.22 69.8214 1292.61 71.8063 Q1289.05 73.7508 1284.02 73.7508 Q1275.8 73.7508 1270.61 67.1883 Q1265.47 60.6258 1265.47 49.9314 Q1265.47 39.2371 1270.61 32.6746 Q1275.8 26.1121 1284.02 26.1121 Q1289.05 26.1121 1292.61 28.0971 Q1296.22 30.0415 1298.57 34.0924 M1273.17 49.9314 Q1273.17 58.1548 1276.53 62.8538 Q1279.93 67.5124 1285.85 67.5124 Q1291.76 67.5124 1295.16 62.8538 Q1298.57 58.1548 1298.57 49.9314 Q1298.57 41.7081 1295.16 37.0496 Q1291.76 32.3505 1285.85 32.3505 Q1279.93 32.3505 1276.53 37.0496 Q1273.17 41.7081 1273.17 49.9314 Z\" fill=\"#000000\" fill-rule=\"evenodd\" fill-opacity=\"1\" /><path clip-path=\"url(#clip990)\" d=\"M 0 0 M1313.84 27.2059 L1321.29 27.2059 L1321.29 72.576 L1313.84 72.576 L1313.84 27.2059 M1313.84 9.54393 L1321.29 9.54393 L1321.29 18.9825 L1313.84 18.9825 L1313.84 9.54393 Z\" fill=\"#000000\" fill-rule=\"evenodd\" fill-opacity=\"1\" /><path clip-path=\"url(#clip990)\" d=\"M 0 0 M1358.03 28.5427 L1358.03 35.5912 Q1354.87 33.9709 1351.47 33.1607 Q1348.07 32.3505 1344.42 32.3505 Q1338.87 32.3505 1336.08 34.0519 Q1333.32 35.7533 1333.32 39.156 Q1333.32 41.7486 1335.31 43.2475 Q1337.29 44.7058 1343.29 46.0426 L1345.84 46.6097 Q1353.78 48.3111 1357.1 51.4303 Q1360.46 54.509 1360.46 60.0587 Q1360.46 66.3781 1355.44 70.0644 Q1350.46 73.7508 1341.71 73.7508 Q1338.06 73.7508 1334.09 73.0216 Q1330.16 72.3329 1325.79 70.9151 L1325.79 63.2184 Q1329.92 65.3654 1333.93 66.4591 Q1337.94 67.5124 1341.87 67.5124 Q1347.14 67.5124 1349.97 65.73 Q1352.81 63.9071 1352.81 60.6258 Q1352.81 57.5877 1350.74 55.9673 Q1348.72 54.3469 1341.79 52.8481 L1339.2 52.2405 Q1332.27 50.7821 1329.19 47.7845 Q1326.11 44.7463 1326.11 39.4801 Q1326.11 33.0797 1330.65 29.5959 Q1335.19 26.1121 1343.53 26.1121 Q1347.66 26.1121 1351.31 26.7198 Q1354.95 27.3274 1358.03 28.5427 Z\" fill=\"#000000\" fill-rule=\"evenodd\" fill-opacity=\"1\" /><path clip-path=\"url(#clip990)\" d=\"M 0 0 M1375.65 14.324 L1375.65 27.2059 L1391.01 27.2059 L1391.01 32.9987 L1375.65 32.9987 L1375.65 57.6282 Q1375.65 63.1779 1377.15 64.7578 Q1378.69 66.3376 1383.35 66.3376 L1391.01 66.3376 L1391.01 72.576 L1383.35 72.576 Q1374.72 72.576 1371.44 69.3758 Q1368.16 66.1351 1368.16 57.6282 L1368.16 32.9987 L1362.69 32.9987 L1362.69 27.2059 L1368.16 27.2059 L1368.16 14.324 L1375.65 14.324 Z\" fill=\"#000000\" fill-rule=\"evenodd\" fill-opacity=\"1\" /><path clip-path=\"url(#clip990)\" d=\"M 0 0 M1425.12 34.1734 Q1423.86 33.4443 1422.36 33.1202 Q1420.9 32.7556 1419.12 32.7556 Q1412.8 32.7556 1409.4 36.8875 Q1406.04 40.9789 1406.04 48.6757 L1406.04 72.576 L1398.54 72.576 L1398.54 27.2059 L1406.04 27.2059 L1406.04 34.2544 Q1408.39 30.1225 1412.15 28.1376 Q1415.92 26.1121 1421.31 26.1121 Q1422.08 26.1121 1423.01 26.2337 Q1423.94 26.3147 1425.08 26.5172 L1425.12 34.1734 Z\" fill=\"#000000\" fill-rule=\"evenodd\" fill-opacity=\"1\" /><path clip-path=\"url(#clip990)\" d=\"M 0 0 M1432.93 27.2059 L1440.39 27.2059 L1440.39 72.576 L1432.93 72.576 L1432.93 27.2059 M1432.93 9.54393 L1440.39 9.54393 L1440.39 18.9825 L1432.93 18.9825 L1432.93 9.54393 Z\" fill=\"#000000\" fill-rule=\"evenodd\" fill-opacity=\"1\" /><path clip-path=\"url(#clip990)\" d=\"M 0 0 M1480.78 49.9314 Q1480.78 41.7081 1477.37 37.0496 Q1474.01 32.3505 1468.1 32.3505 Q1462.18 32.3505 1458.78 37.0496 Q1455.42 41.7081 1455.42 49.9314 Q1455.42 58.1548 1458.78 62.8538 Q1462.18 67.5124 1468.1 67.5124 Q1474.01 67.5124 1477.37 62.8538 Q1480.78 58.1548 1480.78 49.9314 M1455.42 34.0924 Q1457.77 30.0415 1461.33 28.0971 Q1464.94 26.1121 1469.92 26.1121 Q1478.18 26.1121 1483.33 32.6746 Q1488.51 39.2371 1488.51 49.9314 Q1488.51 60.6258 1483.33 67.1883 Q1478.18 73.7508 1469.92 73.7508 Q1464.94 73.7508 1461.33 71.8063 Q1457.77 69.8214 1455.42 65.7705 L1455.42 72.576 L1447.92 72.576 L1447.92 9.54393 L1455.42 9.54393 L1455.42 34.0924 Z\" fill=\"#000000\" fill-rule=\"evenodd\" fill-opacity=\"1\" /><path clip-path=\"url(#clip990)\" d=\"M 0 0 M1495.56 54.671 L1495.56 27.2059 L1503.01 27.2059 L1503.01 54.3874 Q1503.01 60.8284 1505.53 64.0691 Q1508.04 67.2693 1513.06 67.2693 Q1519.1 67.2693 1522.58 63.421 Q1526.11 59.5726 1526.11 52.9291 L1526.11 27.2059 L1533.56 27.2059 L1533.56 72.576 L1526.11 72.576 L1526.11 65.6084 Q1523.39 69.7404 1519.79 71.7658 Q1516.22 73.7508 1511.48 73.7508 Q1503.66 73.7508 1499.61 68.8897 Q1495.56 64.0286 1495.56 54.671 M1514.32 26.1121 L1514.32 26.1121 Z\" fill=\"#000000\" fill-rule=\"evenodd\" fill-opacity=\"1\" /><path clip-path=\"url(#clip990)\" d=\"M 0 0 M1548.75 14.324 L1548.75 27.2059 L1564.1 27.2059 L1564.1 32.9987 L1548.75 32.9987 L1548.75 57.6282 Q1548.75 63.1779 1550.25 64.7578 Q1551.79 66.3376 1556.45 66.3376 L1564.1 66.3376 L1564.1 72.576 L1556.45 72.576 Q1547.82 72.576 1544.54 69.3758 Q1541.26 66.1351 1541.26 57.6282 L1541.26 32.9987 L1535.79 32.9987 L1535.79 27.2059 L1541.26 27.2059 L1541.26 14.324 L1548.75 14.324 Z\" fill=\"#000000\" fill-rule=\"evenodd\" fill-opacity=\"1\" /><path clip-path=\"url(#clip990)\" d=\"M 0 0 M1571.92 27.2059 L1579.37 27.2059 L1579.37 72.576 L1571.92 72.576 L1571.92 27.2059 M1571.92 9.54393 L1579.37 9.54393 L1579.37 18.9825 L1571.92 18.9825 L1571.92 9.54393 Z\" fill=\"#000000\" fill-rule=\"evenodd\" fill-opacity=\"1\" /><path clip-path=\"url(#clip990)\" d=\"M 0 0 M1604.77 32.4315 Q1598.78 32.4315 1595.29 37.1306 Q1591.81 41.7891 1591.81 49.9314 Q1591.81 58.0738 1595.25 62.7728 Q1598.74 67.4314 1604.77 67.4314 Q1610.73 67.4314 1614.21 62.7323 Q1617.7 58.0333 1617.7 49.9314 Q1617.7 41.8701 1614.21 37.1711 Q1610.73 32.4315 1604.77 32.4315 M1604.77 26.1121 Q1614.5 26.1121 1620.05 32.4315 Q1625.6 38.7509 1625.6 49.9314 Q1625.6 61.0714 1620.05 67.4314 Q1614.5 73.7508 1604.77 73.7508 Q1595.01 73.7508 1589.46 67.4314 Q1583.95 61.0714 1583.95 49.9314 Q1583.95 38.7509 1589.46 32.4315 Q1595.01 26.1121 1604.77 26.1121 Z\" fill=\"#000000\" fill-rule=\"evenodd\" fill-opacity=\"1\" /><path clip-path=\"url(#clip990)\" d=\"M 0 0 M1671.13 45.1919 L1671.13 72.576 L1663.67 72.576 L1663.67 45.4349 Q1663.67 38.994 1661.16 35.7938 Q1658.65 32.5936 1653.63 32.5936 Q1647.59 32.5936 1644.11 36.4419 Q1640.62 40.2903 1640.62 46.9338 L1640.62 72.576 L1633.13 72.576 L1633.13 27.2059 L1640.62 27.2059 L1640.62 34.2544 Q1643.3 30.163 1646.9 28.1376 Q1650.55 26.1121 1655.29 26.1121 Q1663.11 26.1121 1667.12 30.9732 Q1671.13 35.7938 1671.13 45.1919 Z\" fill=\"#000000\" fill-rule=\"evenodd\" fill-opacity=\"1\" /><polyline clip-path=\"url(#clip992)\" style=\"stroke:#009af9; stroke-width:8; stroke-opacity:1; fill:none\" points=\"\n",
       "  236.501,1447.87 255.525,1446.31 274.549,1444.71 293.573,1444.36 312.597,1442.81 331.622,1441.25 350.646,1439.98 369.67,1438.22 388.694,1437.59 407.719,1436.93 \n",
       "  426.743,1434.66 445.767,1433.28 464.791,1431.53 483.816,1430.32 502.84,1429 521.864,1426.94 540.888,1425.64 559.912,1424.39 578.937,1423.16 597.961,1421.22 \n",
       "  616.985,1418.96 636.009,1416.67 655.034,1414.92 674.058,1413.41 693.082,1411.18 712.106,1408.75 731.131,1407.36 750.155,1404.87 769.179,1402.55 788.203,1400.22 \n",
       "  807.227,1398.4 826.252,1396.08 845.276,1394.94 864.3,1391.13 883.324,1389.03 902.349,1387.32 921.373,1384.92 940.397,1382.65 959.421,1378.52 978.446,1375.94 \n",
       "  997.47,1374.13 1016.49,1371.97 1035.52,1368.51 1054.54,1364.78 1073.57,1363.26 1092.59,1360.65 1111.62,1357.86 1130.64,1354.05 1149.66,1352.69 1168.69,1350.53 \n",
       "  1187.71,1346.99 1206.74,1344.4 1225.76,1342.54 1244.78,1339.16 1263.81,1335.86 1282.83,1334.13 1301.86,1330.28 1320.88,1327.08 1339.91,1325.5 1358.93,1322.24 \n",
       "  1377.95,1318.96 1396.98,1317.31 1416,1312.47 1435.03,1311.21 1454.05,1307.19 1473.08,1305.82 1492.1,1299.91 1511.12,1299.18 1530.15,1296.44 1549.17,1295.74 \n",
       "  1568.2,1293.32 1587.22,1292.64 1606.25,1290.77 1625.27,1288.37 1644.29,1286.47 1663.32,1284.64 1682.34,1283.12 1701.37,1281.75 1720.39,1280.61 1739.41,1279.43 \n",
       "  1758.44,1278.41 1777.46,1277.46 1796.49,1276.55 1815.51,1275.71 1834.54,1275.21 1853.56,1274.7 1872.58,1274.18 1891.61,1273.63 1910.63,1267.88 1929.66,1267.88 \n",
       "  1948.68,1267.88 1967.71,1267.88 1986.73,1267.88 2005.75,1267.88 2024.78,1267.88 2043.8,1267.88 2062.83,1267.88 2081.85,1267.88 2100.88,1267.88 2119.9,1267.88 \n",
       "  2138.92,1267.88 2157.95,1267.88 2176.97,1267.88 2196,1267.88 2215.02,1267.88 2234.04,1267.88 2253.07,1267.88 2272.09,1267.88 2291.12,1267.88 \n",
       "  \"/>\n",
       "<polyline clip-path=\"url(#clip992)\" style=\"stroke:#e26f46; stroke-width:8; stroke-opacity:1; fill:none\" points=\"\n",
       "  236.501,1379.7 255.525,1378.14 274.549,1376.54 293.573,1376.18 312.597,1374.64 331.622,1373.07 350.646,1371.81 369.67,1370.04 388.694,1369.41 407.719,1368.76 \n",
       "  426.743,1366.48 445.767,1363.73 464.791,1360.15 483.816,1357.63 502.84,1354.96 521.864,1351.79 540.888,1348.88 559.912,1347.03 578.937,1343.17 597.961,1338.78 \n",
       "  616.985,1333.38 636.009,1328.91 655.034,1321.97 674.058,1317.78 693.082,1313.92 712.106,1308.14 731.131,1302.72 750.155,1291.34 769.179,1282.75 788.203,1276.8 \n",
       "  807.227,1271.63 826.252,1264.28 845.276,1258.3 864.3,1244.43 883.324,1234.59 902.349,1222.98 921.373,1214.37 940.397,1206.72 959.421,1190.12 978.446,1178.46 \n",
       "  997.47,1166.4 1016.49,1156.41 1035.52,1130.48 1054.54,1116.38 1073.57,1103.88 1092.59,1092.57 1111.62,1066.2 1130.64,1049.89 1149.66,1037.4 1168.69,1025.6 \n",
       "  1187.71,997.537 1206.74,969.411 1225.76,957.304 1244.78,927.249 1263.81,897.819 1282.83,885.728 1301.86,853.678 1320.88,821.382 1339.91,808.256 1358.93,773.761 \n",
       "  1377.95,738.954 1396.98,723.752 1416,667.046 1435.03,654.633 1454.05,608.296 1473.08,598.419 1492.1,557.046 1511.12,548.013 1530.15,514.211 1549.17,505.615 \n",
       "  1568.2,475.736 1587.22,467.419 1606.25,444.364 1625.27,414.765 1644.29,391.303 1663.32,368.688 1682.34,349.973 1701.37,333.118 1720.39,318.996 1739.41,304.514 \n",
       "  1758.44,291.842 1777.46,280.207 1796.49,268.98 1815.51,258.596 1834.54,252.414 1853.56,246.116 1872.58,239.673 1891.61,232.894 1910.63,162.047 1929.66,162.047 \n",
       "  1948.68,162.047 1967.71,162.047 1986.73,162.047 2005.75,162.047 2024.78,162.047 2043.8,162.047 2062.83,162.047 2081.85,162.047 2100.88,162.047 2119.9,162.047 \n",
       "  2138.92,162.047 2157.95,162.047 2176.97,162.047 2196,162.047 2215.02,162.047 2234.04,162.047 2253.07,162.047 2272.09,162.047 2291.12,162.047 \n",
       "  \"/>\n",
       "<path clip-path=\"url(#clip990)\" d=\"\n",
       "M247.458 350.345 L544.47 350.345 L544.47 168.905 L247.458 168.905  Z\n",
       "  \" fill=\"#ffffff\" fill-rule=\"evenodd\" fill-opacity=\"1\"/>\n",
       "<polyline clip-path=\"url(#clip990)\" style=\"stroke:#000000; stroke-width:4; stroke-opacity:1; fill:none\" points=\"\n",
       "  247.458,350.345 544.47,350.345 544.47,168.905 247.458,168.905 247.458,350.345 \n",
       "  \"/>\n",
       "<polyline clip-path=\"url(#clip990)\" style=\"stroke:#009af9; stroke-width:4; stroke-opacity:1; fill:none\" points=\"\n",
       "  271.657,229.385 416.85,229.385 \n",
       "  \"/>\n",
       "<path clip-path=\"url(#clip990)\" d=\"M 0 0 M465.077 232.637 L465.077 234.72 L445.493 234.72 Q445.771 239.118 448.132 241.433 Q450.517 243.725 454.753 243.725 Q457.206 243.725 459.498 243.123 Q461.813 242.521 464.081 241.317 L464.081 245.345 Q461.79 246.317 459.382 246.827 Q456.975 247.336 454.498 247.336 Q448.294 247.336 444.66 243.725 Q441.049 240.114 441.049 233.956 Q441.049 227.591 444.475 223.864 Q447.924 220.114 453.757 220.114 Q458.989 220.114 462.021 223.493 Q465.077 226.85 465.077 232.637 M460.817 231.387 Q460.771 227.892 458.85 225.808 Q456.952 223.725 453.804 223.725 Q450.239 223.725 448.086 225.739 Q445.956 227.753 445.632 231.41 L460.817 231.387 Z\" fill=\"#000000\" fill-rule=\"evenodd\" fill-opacity=\"1\" /><path clip-path=\"url(#clip990)\" d=\"M 0 0 M469.729 212.105 L474.405 212.105 L474.405 242.729 L491.234 242.729 L491.234 246.665 L469.729 246.665 L469.729 212.105 Z\" fill=\"#000000\" fill-rule=\"evenodd\" fill-opacity=\"1\" /><polyline clip-path=\"url(#clip990)\" style=\"stroke:#e26f46; stroke-width:4; stroke-opacity:1; fill:none\" points=\"\n",
       "  271.657,289.865 416.85,289.865 \n",
       "  \"/>\n",
       "<path clip-path=\"url(#clip990)\" d=\"M 0 0 M465.077 293.117 L465.077 295.2 L445.493 295.2 Q445.771 299.598 448.132 301.913 Q450.517 304.205 454.753 304.205 Q457.206 304.205 459.498 303.603 Q461.813 303.001 464.081 301.797 L464.081 305.825 Q461.79 306.797 459.382 307.307 Q456.975 307.816 454.498 307.816 Q448.294 307.816 444.66 304.205 Q441.049 300.594 441.049 294.436 Q441.049 288.071 444.475 284.344 Q447.924 280.594 453.757 280.594 Q458.989 280.594 462.021 283.973 Q465.077 287.33 465.077 293.117 M460.817 291.867 Q460.771 288.372 458.85 286.288 Q456.952 284.205 453.804 284.205 Q450.239 284.205 448.086 286.219 Q445.956 288.233 445.632 291.89 L460.817 291.867 Z\" fill=\"#000000\" fill-rule=\"evenodd\" fill-opacity=\"1\" /><path clip-path=\"url(#clip990)\" d=\"M 0 0 M469.729 272.585 L474.405 272.585 L474.405 286.751 L491.396 286.751 L491.396 272.585 L496.072 272.585 L496.072 307.145 L491.396 307.145 L491.396 290.686 L474.405 290.686 L474.405 307.145 L469.729 307.145 L469.729 272.585 Z\" fill=\"#000000\" fill-rule=\"evenodd\" fill-opacity=\"1\" /></svg>\n"
      ]
     },
     "execution_count": 20,
     "metadata": {},
     "output_type": "execute_result"
    }
   ],
   "source": [
    "# Plot distribution Ψ to check what is happening\n",
    "\n",
    "# Unconstrained\n",
    "p2 = plot(A, Ψ, linewidth = 2, title = \"Stationary distribution\", label = [\"eL\" \"eH\"], legend =:topleft)\n",
    "\n",
    "# Constrained to endogenous a_UpperBar\n",
    "p2B = plot(A[1:aUB+20], Ψ[1:aUB+20,:], linewidth = 2, \n",
    "    title = \"Stationary distribution\", label = [\"eL\" \"eH\"], legend =:topleft)"
   ]
  },
  {
   "cell_type": "code",
   "execution_count": 22,
   "metadata": {},
   "outputs": [
    {
     "data": {
      "image/svg+xml": [
       "<?xml version=\"1.0\" encoding=\"utf-8\"?>\n",
       "<svg xmlns=\"http://www.w3.org/2000/svg\" xmlns:xlink=\"http://www.w3.org/1999/xlink\" width=\"600\" height=\"400\" viewBox=\"0 0 2400 1600\">\n",
       "<defs>\n",
       "  <clipPath id=\"clip030\">\n",
       "    <rect x=\"0\" y=\"0\" width=\"2400\" height=\"1600\"/>\n",
       "  </clipPath>\n",
       "</defs>\n",
       "<path clip-path=\"url(#clip030)\" d=\"\n",
       "M0 1600 L2400 1600 L2400 0 L0 0  Z\n",
       "  \" fill=\"#ffffff\" fill-rule=\"evenodd\" fill-opacity=\"1\"/>\n",
       "<defs>\n",
       "  <clipPath id=\"clip031\">\n",
       "    <rect x=\"480\" y=\"0\" width=\"1681\" height=\"1600\"/>\n",
       "  </clipPath>\n",
       "</defs>\n",
       "<path clip-path=\"url(#clip030)\" d=\"\n",
       "M148.334 1486.45 L2352.76 1486.45 L2352.76 123.472 L148.334 123.472  Z\n",
       "  \" fill=\"#ffffff\" fill-rule=\"evenodd\" fill-opacity=\"1\"/>\n",
       "<defs>\n",
       "  <clipPath id=\"clip032\">\n",
       "    <rect x=\"148\" y=\"123\" width=\"2205\" height=\"1364\"/>\n",
       "  </clipPath>\n",
       "</defs>\n",
       "<polyline clip-path=\"url(#clip032)\" style=\"stroke:#000000; stroke-width:2; stroke-opacity:0.1; fill:none\" points=\"\n",
       "  210.724,1486.45 210.724,123.472 \n",
       "  \"/>\n",
       "<polyline clip-path=\"url(#clip032)\" style=\"stroke:#000000; stroke-width:2; stroke-opacity:0.1; fill:none\" points=\"\n",
       "  770.751,1486.45 770.751,123.472 \n",
       "  \"/>\n",
       "<polyline clip-path=\"url(#clip032)\" style=\"stroke:#000000; stroke-width:2; stroke-opacity:0.1; fill:none\" points=\"\n",
       "  1330.78,1486.45 1330.78,123.472 \n",
       "  \"/>\n",
       "<polyline clip-path=\"url(#clip032)\" style=\"stroke:#000000; stroke-width:2; stroke-opacity:0.1; fill:none\" points=\"\n",
       "  1890.81,1486.45 1890.81,123.472 \n",
       "  \"/>\n",
       "<polyline clip-path=\"url(#clip032)\" style=\"stroke:#000000; stroke-width:2; stroke-opacity:0.1; fill:none\" points=\"\n",
       "  148.334,1463.42 2352.76,1463.42 \n",
       "  \"/>\n",
       "<polyline clip-path=\"url(#clip032)\" style=\"stroke:#000000; stroke-width:2; stroke-opacity:0.1; fill:none\" points=\"\n",
       "  148.334,1164.04 2352.76,1164.04 \n",
       "  \"/>\n",
       "<polyline clip-path=\"url(#clip032)\" style=\"stroke:#000000; stroke-width:2; stroke-opacity:0.1; fill:none\" points=\"\n",
       "  148.334,864.655 2352.76,864.655 \n",
       "  \"/>\n",
       "<polyline clip-path=\"url(#clip032)\" style=\"stroke:#000000; stroke-width:2; stroke-opacity:0.1; fill:none\" points=\"\n",
       "  148.334,565.273 2352.76,565.273 \n",
       "  \"/>\n",
       "<polyline clip-path=\"url(#clip032)\" style=\"stroke:#000000; stroke-width:2; stroke-opacity:0.1; fill:none\" points=\"\n",
       "  148.334,265.89 2352.76,265.89 \n",
       "  \"/>\n",
       "<polyline clip-path=\"url(#clip030)\" style=\"stroke:#000000; stroke-width:4; stroke-opacity:1; fill:none\" points=\"\n",
       "  148.334,1486.45 2352.76,1486.45 \n",
       "  \"/>\n",
       "<polyline clip-path=\"url(#clip030)\" style=\"stroke:#000000; stroke-width:4; stroke-opacity:1; fill:none\" points=\"\n",
       "  148.334,1486.45 148.334,123.472 \n",
       "  \"/>\n",
       "<polyline clip-path=\"url(#clip030)\" style=\"stroke:#000000; stroke-width:4; stroke-opacity:1; fill:none\" points=\"\n",
       "  210.724,1486.45 210.724,1470.09 \n",
       "  \"/>\n",
       "<polyline clip-path=\"url(#clip030)\" style=\"stroke:#000000; stroke-width:4; stroke-opacity:1; fill:none\" points=\"\n",
       "  770.751,1486.45 770.751,1470.09 \n",
       "  \"/>\n",
       "<polyline clip-path=\"url(#clip030)\" style=\"stroke:#000000; stroke-width:4; stroke-opacity:1; fill:none\" points=\"\n",
       "  1330.78,1486.45 1330.78,1470.09 \n",
       "  \"/>\n",
       "<polyline clip-path=\"url(#clip030)\" style=\"stroke:#000000; stroke-width:4; stroke-opacity:1; fill:none\" points=\"\n",
       "  1890.81,1486.45 1890.81,1470.09 \n",
       "  \"/>\n",
       "<polyline clip-path=\"url(#clip030)\" style=\"stroke:#000000; stroke-width:4; stroke-opacity:1; fill:none\" points=\"\n",
       "  148.334,1463.42 174.787,1463.42 \n",
       "  \"/>\n",
       "<polyline clip-path=\"url(#clip030)\" style=\"stroke:#000000; stroke-width:4; stroke-opacity:1; fill:none\" points=\"\n",
       "  148.334,1164.04 174.787,1164.04 \n",
       "  \"/>\n",
       "<polyline clip-path=\"url(#clip030)\" style=\"stroke:#000000; stroke-width:4; stroke-opacity:1; fill:none\" points=\"\n",
       "  148.334,864.655 174.787,864.655 \n",
       "  \"/>\n",
       "<polyline clip-path=\"url(#clip030)\" style=\"stroke:#000000; stroke-width:4; stroke-opacity:1; fill:none\" points=\"\n",
       "  148.334,565.273 174.787,565.273 \n",
       "  \"/>\n",
       "<polyline clip-path=\"url(#clip030)\" style=\"stroke:#000000; stroke-width:4; stroke-opacity:1; fill:none\" points=\"\n",
       "  148.334,265.89 174.787,265.89 \n",
       "  \"/>\n",
       "<path clip-path=\"url(#clip030)\" d=\"M 0 0 M183.178 1523.09 L212.853 1523.09 L212.853 1527.03 L183.178 1527.03 L183.178 1523.09 Z\" fill=\"#000000\" fill-rule=\"evenodd\" fill-opacity=\"1\" /><path clip-path=\"url(#clip030)\" d=\"M 0 0 M221.95 1535.98 L238.27 1535.98 L238.27 1539.92 L216.325 1539.92 L216.325 1535.98 Q218.988 1533.23 223.571 1528.6 Q228.177 1523.95 229.358 1522.61 Q231.603 1520.08 232.483 1518.35 Q233.386 1516.59 233.386 1514.9 Q233.386 1512.14 231.441 1510.41 Q229.52 1508.67 226.418 1508.67 Q224.219 1508.67 221.765 1509.43 Q219.335 1510.2 216.557 1511.75 L216.557 1507.03 Q219.381 1505.89 221.835 1505.31 Q224.288 1504.73 226.325 1504.73 Q231.696 1504.73 234.89 1507.42 Q238.085 1510.11 238.085 1514.6 Q238.085 1516.73 237.274 1518.65 Q236.487 1520.54 234.381 1523.14 Q233.802 1523.81 230.7 1527.03 Q227.599 1530.22 221.95 1535.98 Z\" fill=\"#000000\" fill-rule=\"evenodd\" fill-opacity=\"1\" /><path clip-path=\"url(#clip030)\" d=\"M 0 0 M743.02 1523.09 L772.695 1523.09 L772.695 1527.03 L743.02 1527.03 L743.02 1523.09 Z\" fill=\"#000000\" fill-rule=\"evenodd\" fill-opacity=\"1\" /><path clip-path=\"url(#clip030)\" d=\"M 0 0 M778.575 1535.98 L786.214 1535.98 L786.214 1509.62 L777.904 1511.29 L777.904 1507.03 L786.168 1505.36 L790.843 1505.36 L790.843 1535.98 L798.482 1535.98 L798.482 1539.92 L778.575 1539.92 L778.575 1535.98 Z\" fill=\"#000000\" fill-rule=\"evenodd\" fill-opacity=\"1\" /><path clip-path=\"url(#clip030)\" d=\"M 0 0 M1330.78 1508.44 Q1327.17 1508.44 1325.34 1512 Q1323.53 1515.55 1323.53 1522.67 Q1323.53 1529.78 1325.34 1533.35 Q1327.17 1536.89 1330.78 1536.89 Q1334.41 1536.89 1336.22 1533.35 Q1338.05 1529.78 1338.05 1522.67 Q1338.05 1515.55 1336.22 1512 Q1334.41 1508.44 1330.78 1508.44 M1330.78 1504.73 Q1336.59 1504.73 1339.64 1509.34 Q1342.72 1513.92 1342.72 1522.67 Q1342.72 1531.4 1339.64 1536.01 Q1336.59 1540.59 1330.78 1540.59 Q1324.97 1540.59 1321.89 1536.01 Q1318.83 1531.4 1318.83 1522.67 Q1318.83 1513.92 1321.89 1509.34 Q1324.97 1504.73 1330.78 1504.73 Z\" fill=\"#000000\" fill-rule=\"evenodd\" fill-opacity=\"1\" /><path clip-path=\"url(#clip030)\" d=\"M 0 0 M1881.19 1535.98 L1888.83 1535.98 L1888.83 1509.62 L1880.52 1511.29 L1880.52 1507.03 L1888.78 1505.36 L1893.46 1505.36 L1893.46 1535.98 L1901.09 1535.98 L1901.09 1539.92 L1881.19 1539.92 L1881.19 1535.98 Z\" fill=\"#000000\" fill-rule=\"evenodd\" fill-opacity=\"1\" /><path clip-path=\"url(#clip030)\" d=\"M 0 0 M75.4226 1449.22 Q71.8115 1449.22 69.9828 1452.78 Q68.1773 1456.33 68.1773 1463.46 Q68.1773 1470.56 69.9828 1474.13 Q71.8115 1477.67 75.4226 1477.67 Q79.0569 1477.67 80.8624 1474.13 Q82.6911 1470.56 82.6911 1463.46 Q82.6911 1456.33 80.8624 1452.78 Q79.0569 1449.22 75.4226 1449.22 M75.4226 1445.52 Q81.2328 1445.52 84.2883 1450.12 Q87.367 1454.71 87.367 1463.46 Q87.367 1472.18 84.2883 1476.79 Q81.2328 1481.37 75.4226 1481.37 Q69.6125 1481.37 66.5338 1476.79 Q63.4782 1472.18 63.4782 1463.46 Q63.4782 1454.71 66.5338 1450.12 Q69.6125 1445.52 75.4226 1445.52 Z\" fill=\"#000000\" fill-rule=\"evenodd\" fill-opacity=\"1\" /><path clip-path=\"url(#clip030)\" d=\"M 0 0 M92.4364 1474.82 L97.3206 1474.82 L97.3206 1480.7 L92.4364 1480.7 L92.4364 1474.82 Z\" fill=\"#000000\" fill-rule=\"evenodd\" fill-opacity=\"1\" /><path clip-path=\"url(#clip030)\" d=\"M 0 0 M112.39 1449.22 Q108.779 1449.22 106.95 1452.78 Q105.145 1456.33 105.145 1463.46 Q105.145 1470.56 106.95 1474.13 Q108.779 1477.67 112.39 1477.67 Q116.024 1477.67 117.83 1474.13 Q119.658 1470.56 119.658 1463.46 Q119.658 1456.33 117.83 1452.78 Q116.024 1449.22 112.39 1449.22 M112.39 1445.52 Q118.2 1445.52 121.256 1450.12 Q124.334 1454.71 124.334 1463.46 Q124.334 1472.18 121.256 1476.79 Q118.2 1481.37 112.39 1481.37 Q106.58 1481.37 103.501 1476.79 Q100.446 1472.18 100.446 1463.46 Q100.446 1454.71 103.501 1450.12 Q106.58 1445.52 112.39 1445.52 Z\" fill=\"#000000\" fill-rule=\"evenodd\" fill-opacity=\"1\" /><path clip-path=\"url(#clip030)\" d=\"M 0 0 M77.0198 1149.84 Q73.4087 1149.84 71.58 1153.4 Q69.7745 1156.94 69.7745 1164.07 Q69.7745 1171.18 71.58 1174.74 Q73.4087 1178.29 77.0198 1178.29 Q80.6541 1178.29 82.4596 1174.74 Q84.2883 1171.18 84.2883 1164.07 Q84.2883 1156.94 82.4596 1153.4 Q80.6541 1149.84 77.0198 1149.84 M77.0198 1146.13 Q82.83 1146.13 85.8855 1150.74 Q88.9642 1155.32 88.9642 1164.07 Q88.9642 1172.8 85.8855 1177.41 Q82.83 1181.99 77.0198 1181.99 Q71.2097 1181.99 68.131 1177.41 Q65.0754 1172.8 65.0754 1164.07 Q65.0754 1155.32 68.131 1150.74 Q71.2097 1146.13 77.0198 1146.13 Z\" fill=\"#000000\" fill-rule=\"evenodd\" fill-opacity=\"1\" /><path clip-path=\"url(#clip030)\" d=\"M 0 0 M94.0336 1175.44 L98.9179 1175.44 L98.9179 1181.32 L94.0336 1181.32 L94.0336 1175.44 Z\" fill=\"#000000\" fill-rule=\"evenodd\" fill-opacity=\"1\" /><path clip-path=\"url(#clip030)\" d=\"M 0 0 M108.015 1177.38 L124.334 1177.38 L124.334 1181.32 L102.39 1181.32 L102.39 1177.38 Q105.052 1174.63 109.635 1170 Q114.242 1165.35 115.422 1164 Q117.668 1161.48 118.547 1159.74 Q119.45 1157.98 119.45 1156.29 Q119.45 1153.54 117.506 1151.8 Q115.584 1150.07 112.483 1150.07 Q110.284 1150.07 107.83 1150.83 Q105.399 1151.6 102.622 1153.15 L102.622 1148.42 Q105.446 1147.29 107.899 1146.71 Q110.353 1146.13 112.39 1146.13 Q117.76 1146.13 120.955 1148.82 Q124.149 1151.5 124.149 1155.99 Q124.149 1158.12 123.339 1160.04 Q122.552 1161.94 120.446 1164.54 Q119.867 1165.21 116.765 1168.42 Q113.663 1171.62 108.015 1177.38 Z\" fill=\"#000000\" fill-rule=\"evenodd\" fill-opacity=\"1\" /><path clip-path=\"url(#clip030)\" d=\"M 0 0 M74.9365 850.454 Q71.3254 850.454 69.4967 854.019 Q67.6912 857.561 67.6912 864.69 Q67.6912 871.797 69.4967 875.361 Q71.3254 878.903 74.9365 878.903 Q78.5707 878.903 80.3763 875.361 Q82.205 871.797 82.205 864.69 Q82.205 857.561 80.3763 854.019 Q78.5707 850.454 74.9365 850.454 M74.9365 846.75 Q80.7467 846.75 83.8022 851.357 Q86.8809 855.94 86.8809 864.69 Q86.8809 873.417 83.8022 878.023 Q80.7467 882.607 74.9365 882.607 Q69.1264 882.607 66.0477 878.023 Q62.9921 873.417 62.9921 864.69 Q62.9921 855.94 66.0477 851.357 Q69.1264 846.75 74.9365 846.75 Z\" fill=\"#000000\" fill-rule=\"evenodd\" fill-opacity=\"1\" /><path clip-path=\"url(#clip030)\" d=\"M 0 0 M91.9503 876.056 L96.8345 876.056 L96.8345 881.935 L91.9503 881.935 L91.9503 876.056 Z\" fill=\"#000000\" fill-rule=\"evenodd\" fill-opacity=\"1\" /><path clip-path=\"url(#clip030)\" d=\"M 0 0 M114.751 851.449 L102.946 869.898 L114.751 869.898 L114.751 851.449 M113.524 847.375 L119.404 847.375 L119.404 869.898 L124.334 869.898 L124.334 873.787 L119.404 873.787 L119.404 881.935 L114.751 881.935 L114.751 873.787 L99.1493 873.787 L99.1493 869.273 L113.524 847.375 Z\" fill=\"#000000\" fill-rule=\"evenodd\" fill-opacity=\"1\" /><path clip-path=\"url(#clip030)\" d=\"M 0 0 M75.2606 551.072 Q71.6495 551.072 69.8208 554.636 Q68.0152 558.178 68.0152 565.308 Q68.0152 572.414 69.8208 575.979 Q71.6495 579.52 75.2606 579.52 Q78.8948 579.52 80.7004 575.979 Q82.5291 572.414 82.5291 565.308 Q82.5291 558.178 80.7004 554.636 Q78.8948 551.072 75.2606 551.072 M75.2606 547.368 Q81.0707 547.368 84.1263 551.974 Q87.205 556.558 87.205 565.308 Q87.205 574.034 84.1263 578.641 Q81.0707 583.224 75.2606 583.224 Q69.4504 583.224 66.3717 578.641 Q63.3162 574.034 63.3162 565.308 Q63.3162 556.558 66.3717 551.974 Q69.4504 547.368 75.2606 547.368 Z\" fill=\"#000000\" fill-rule=\"evenodd\" fill-opacity=\"1\" /><path clip-path=\"url(#clip030)\" d=\"M 0 0 M92.2744 576.673 L97.1586 576.673 L97.1586 582.553 L92.2744 582.553 L92.2744 576.673 Z\" fill=\"#000000\" fill-rule=\"evenodd\" fill-opacity=\"1\" /><path clip-path=\"url(#clip030)\" d=\"M 0 0 M112.807 563.409 Q109.659 563.409 107.807 565.562 Q105.978 567.715 105.978 571.465 Q105.978 575.192 107.807 577.368 Q109.659 579.52 112.807 579.52 Q115.955 579.52 117.783 577.368 Q119.635 575.192 119.635 571.465 Q119.635 567.715 117.783 565.562 Q115.955 563.409 112.807 563.409 M122.089 548.757 L122.089 553.016 Q120.33 552.183 118.524 551.743 Q116.742 551.303 114.983 551.303 Q110.353 551.303 107.899 554.428 Q105.469 557.553 105.122 563.872 Q106.487 561.858 108.547 560.794 Q110.608 559.706 113.084 559.706 Q118.293 559.706 121.302 562.877 Q124.334 566.025 124.334 571.465 Q124.334 576.789 121.186 580.007 Q118.038 583.224 112.807 583.224 Q106.811 583.224 103.64 578.641 Q100.469 574.034 100.469 565.308 Q100.469 557.113 104.358 552.252 Q108.247 547.368 114.797 547.368 Q116.557 547.368 118.339 547.715 Q120.145 548.062 122.089 548.757 Z\" fill=\"#000000\" fill-rule=\"evenodd\" fill-opacity=\"1\" /><path clip-path=\"url(#clip030)\" d=\"M 0 0 M75.5152 251.689 Q71.9041 251.689 70.0754 255.254 Q68.2699 258.795 68.2699 265.925 Q68.2699 273.031 70.0754 276.596 Q71.9041 280.138 75.5152 280.138 Q79.1494 280.138 80.955 276.596 Q82.7837 273.031 82.7837 265.925 Q82.7837 258.795 80.955 255.254 Q79.1494 251.689 75.5152 251.689 M75.5152 247.985 Q81.3254 247.985 84.3809 252.592 Q87.4596 257.175 87.4596 265.925 Q87.4596 274.652 84.3809 279.258 Q81.3254 283.842 75.5152 283.842 Q69.7051 283.842 66.6264 279.258 Q63.5708 274.652 63.5708 265.925 Q63.5708 257.175 66.6264 252.592 Q69.7051 247.985 75.5152 247.985 Z\" fill=\"#000000\" fill-rule=\"evenodd\" fill-opacity=\"1\" /><path clip-path=\"url(#clip030)\" d=\"M 0 0 M92.529 277.291 L97.4132 277.291 L97.4132 283.17 L92.529 283.17 L92.529 277.291 Z\" fill=\"#000000\" fill-rule=\"evenodd\" fill-opacity=\"1\" /><path clip-path=\"url(#clip030)\" d=\"M 0 0 M112.483 266.758 Q109.149 266.758 107.228 268.541 Q105.33 270.323 105.33 273.448 Q105.33 276.573 107.228 278.355 Q109.149 280.138 112.483 280.138 Q115.816 280.138 117.737 278.355 Q119.658 276.55 119.658 273.448 Q119.658 270.323 117.737 268.541 Q115.839 266.758 112.483 266.758 M107.807 264.768 Q104.797 264.027 103.108 261.967 Q101.441 259.907 101.441 256.944 Q101.441 252.8 104.381 250.393 Q107.344 247.985 112.483 247.985 Q117.645 247.985 120.584 250.393 Q123.524 252.8 123.524 256.944 Q123.524 259.907 121.834 261.967 Q120.168 264.027 117.182 264.768 Q120.561 265.555 122.436 267.846 Q124.334 270.138 124.334 273.448 Q124.334 278.471 121.256 281.156 Q118.2 283.842 112.483 283.842 Q106.765 283.842 103.686 281.156 Q100.631 278.471 100.631 273.448 Q100.631 270.138 102.529 267.846 Q104.427 265.555 107.807 264.768 M106.094 257.383 Q106.094 260.069 107.76 261.573 Q109.45 263.078 112.483 263.078 Q115.492 263.078 117.182 261.573 Q118.895 260.069 118.895 257.383 Q118.895 254.698 117.182 253.194 Q115.492 251.689 112.483 251.689 Q109.45 251.689 107.76 253.194 Q106.094 254.698 106.094 257.383 Z\" fill=\"#000000\" fill-rule=\"evenodd\" fill-opacity=\"1\" /><path clip-path=\"url(#clip030)\" d=\"M 0 0 M882.156 14.0809 L882.156 22.0612 Q877.497 19.8332 873.365 18.7395 Q869.234 17.6457 865.385 17.6457 Q858.701 17.6457 855.055 20.2383 Q851.45 22.8309 851.45 27.611 Q851.45 31.6214 853.84 33.6873 Q856.271 35.7128 862.995 36.9686 L867.937 37.9813 Q877.092 39.7232 881.427 44.1387 Q885.802 48.5136 885.802 55.8863 Q885.802 64.6767 879.887 69.2137 Q874.014 73.7508 862.631 73.7508 Q858.337 73.7508 853.476 72.7785 Q848.655 71.8063 843.47 69.9024 L843.47 61.4765 Q848.452 64.2716 853.232 65.6895 Q858.013 67.1073 862.631 67.1073 Q869.639 67.1073 873.446 64.3527 Q877.254 61.598 877.254 56.4939 Q877.254 52.0379 874.5 49.5264 Q871.786 47.0148 865.547 45.759 L860.565 44.7868 Q851.41 42.9639 847.318 39.075 Q843.227 35.1862 843.227 28.2591 Q843.227 20.2383 848.857 15.6203 Q854.529 11.0023 864.453 11.0023 Q868.707 11.0023 873.122 11.7719 Q877.538 12.5416 882.156 14.0809 Z\" fill=\"#000000\" fill-rule=\"evenodd\" fill-opacity=\"1\" /><path clip-path=\"url(#clip030)\" d=\"M 0 0 M900.993 14.324 L900.993 27.2059 L916.346 27.2059 L916.346 32.9987 L900.993 32.9987 L900.993 57.6282 Q900.993 63.1779 902.491 64.7578 Q904.031 66.3376 908.689 66.3376 L916.346 66.3376 L916.346 72.576 L908.689 72.576 Q900.061 72.576 896.78 69.3758 Q893.498 66.1351 893.498 57.6282 L893.498 32.9987 L888.03 32.9987 L888.03 27.2059 L893.498 27.2059 L893.498 14.324 L900.993 14.324 Z\" fill=\"#000000\" fill-rule=\"evenodd\" fill-opacity=\"1\" /><path clip-path=\"url(#clip030)\" d=\"M 0 0 M944.783 49.7694 Q935.749 49.7694 932.266 51.8354 Q928.782 53.9013 928.782 58.8839 Q928.782 62.8538 931.374 65.2034 Q934.007 67.5124 938.504 67.5124 Q944.702 67.5124 948.429 63.1374 Q952.196 58.7219 952.196 51.4303 L952.196 49.7694 L944.783 49.7694 M959.65 46.6907 L959.65 72.576 L952.196 72.576 L952.196 65.6895 Q949.644 69.8214 945.836 71.8063 Q942.028 73.7508 936.519 73.7508 Q929.551 73.7508 925.42 69.8619 Q921.328 65.9325 921.328 59.3701 Q921.328 51.7138 926.432 47.825 Q931.577 43.9361 941.745 43.9361 L952.196 43.9361 L952.196 43.2069 Q952.196 38.0623 948.793 35.2672 Q945.431 32.4315 939.314 32.4315 Q935.425 32.4315 931.739 33.3632 Q928.053 34.295 924.65 36.1584 L924.65 29.2718 Q928.741 27.692 932.59 26.9223 Q936.438 26.1121 940.084 26.1121 Q949.928 26.1121 954.789 31.2163 Q959.65 36.3204 959.65 46.6907 Z\" fill=\"#000000\" fill-rule=\"evenodd\" fill-opacity=\"1\" /><path clip-path=\"url(#clip030)\" d=\"M 0 0 M974.841 14.324 L974.841 27.2059 L990.194 27.2059 L990.194 32.9987 L974.841 32.9987 L974.841 57.6282 Q974.841 63.1779 976.339 64.7578 Q977.879 66.3376 982.537 66.3376 L990.194 66.3376 L990.194 72.576 L982.537 72.576 Q973.909 72.576 970.628 69.3758 Q967.346 66.1351 967.346 57.6282 L967.346 32.9987 L961.878 32.9987 L961.878 27.2059 L967.346 27.2059 L967.346 14.324 L974.841 14.324 Z\" fill=\"#000000\" fill-rule=\"evenodd\" fill-opacity=\"1\" /><path clip-path=\"url(#clip030)\" d=\"M 0 0 M998.012 27.2059 L1005.47 27.2059 L1005.47 72.576 L998.012 72.576 L998.012 27.2059 M998.012 9.54393 L1005.47 9.54393 L1005.47 18.9825 L998.012 18.9825 L998.012 9.54393 Z\" fill=\"#000000\" fill-rule=\"evenodd\" fill-opacity=\"1\" /><path clip-path=\"url(#clip030)\" d=\"M 0 0 M1030.86 32.4315 Q1024.87 32.4315 1021.39 37.1306 Q1017.9 41.7891 1017.9 49.9314 Q1017.9 58.0738 1021.34 62.7728 Q1024.83 67.4314 1030.86 67.4314 Q1036.82 67.4314 1040.3 62.7323 Q1043.79 58.0333 1043.79 49.9314 Q1043.79 41.8701 1040.3 37.1711 Q1036.82 32.4315 1030.86 32.4315 M1030.86 26.1121 Q1040.59 26.1121 1046.14 32.4315 Q1051.69 38.7509 1051.69 49.9314 Q1051.69 61.0714 1046.14 67.4314 Q1040.59 73.7508 1030.86 73.7508 Q1021.1 73.7508 1015.55 67.4314 Q1010.04 61.0714 1010.04 49.9314 Q1010.04 38.7509 1015.55 32.4315 Q1021.1 26.1121 1030.86 26.1121 Z\" fill=\"#000000\" fill-rule=\"evenodd\" fill-opacity=\"1\" /><path clip-path=\"url(#clip030)\" d=\"M 0 0 M1097.22 45.1919 L1097.22 72.576 L1089.76 72.576 L1089.76 45.4349 Q1089.76 38.994 1087.25 35.7938 Q1084.74 32.5936 1079.72 32.5936 Q1073.68 32.5936 1070.2 36.4419 Q1066.72 40.2903 1066.72 46.9338 L1066.72 72.576 L1059.22 72.576 L1059.22 27.2059 L1066.72 27.2059 L1066.72 34.2544 Q1069.39 30.163 1072.99 28.1376 Q1076.64 26.1121 1081.38 26.1121 Q1089.2 26.1121 1093.21 30.9732 Q1097.22 35.7938 1097.22 45.1919 Z\" fill=\"#000000\" fill-rule=\"evenodd\" fill-opacity=\"1\" /><path clip-path=\"url(#clip030)\" d=\"M 0 0 M1125.66 49.7694 Q1116.62 49.7694 1113.14 51.8354 Q1109.65 53.9013 1109.65 58.8839 Q1109.65 62.8538 1112.25 65.2034 Q1114.88 67.5124 1119.38 67.5124 Q1125.57 67.5124 1129.3 63.1374 Q1133.07 58.7219 1133.07 51.4303 L1133.07 49.7694 L1125.66 49.7694 M1140.52 46.6907 L1140.52 72.576 L1133.07 72.576 L1133.07 65.6895 Q1130.52 69.8214 1126.71 71.8063 Q1122.9 73.7508 1117.39 73.7508 Q1110.42 73.7508 1106.29 69.8619 Q1102.2 65.9325 1102.2 59.3701 Q1102.2 51.7138 1107.31 47.825 Q1112.45 43.9361 1122.62 43.9361 L1133.07 43.9361 L1133.07 43.2069 Q1133.07 38.0623 1129.67 35.2672 Q1126.3 32.4315 1120.19 32.4315 Q1116.3 32.4315 1112.61 33.3632 Q1108.93 34.295 1105.52 36.1584 L1105.52 29.2718 Q1109.61 27.692 1113.46 26.9223 Q1117.31 26.1121 1120.96 26.1121 Q1130.8 26.1121 1135.66 31.2163 Q1140.52 36.3204 1140.52 46.6907 Z\" fill=\"#000000\" fill-rule=\"evenodd\" fill-opacity=\"1\" /><path clip-path=\"url(#clip030)\" d=\"M 0 0 M1174.63 34.1734 Q1173.38 33.4443 1171.88 33.1202 Q1170.42 32.7556 1168.64 32.7556 Q1162.32 32.7556 1158.91 36.8875 Q1155.55 40.9789 1155.55 48.6757 L1155.55 72.576 L1148.06 72.576 L1148.06 27.2059 L1155.55 27.2059 L1155.55 34.2544 Q1157.9 30.1225 1161.67 28.1376 Q1165.44 26.1121 1170.82 26.1121 Q1171.59 26.1121 1172.52 26.2337 Q1173.46 26.3147 1174.59 26.5172 L1174.63 34.1734 Z\" fill=\"#000000\" fill-rule=\"evenodd\" fill-opacity=\"1\" /><path clip-path=\"url(#clip030)\" d=\"M 0 0 M1201.33 76.7889 Q1198.17 84.8907 1195.17 87.3618 Q1192.17 89.8329 1187.15 89.8329 L1181.19 89.8329 L1181.19 83.5945 L1185.57 83.5945 Q1188.65 83.5945 1190.35 82.1361 Q1192.05 80.6778 1194.12 75.2496 L1195.45 71.8468 L1177.1 27.2059 L1185 27.2059 L1199.18 62.6918 L1213.36 27.2059 L1221.26 27.2059 L1201.33 76.7889 Z\" fill=\"#000000\" fill-rule=\"evenodd\" fill-opacity=\"1\" /><path clip-path=\"url(#clip030)\" d=\"M 0 0 M1285.3 34.0924 L1285.3 9.54393 L1292.76 9.54393 L1292.76 72.576 L1285.3 72.576 L1285.3 65.7705 Q1282.95 69.8214 1279.35 71.8063 Q1275.78 73.7508 1270.76 73.7508 Q1262.54 73.7508 1257.35 67.1883 Q1252.21 60.6258 1252.21 49.9314 Q1252.21 39.2371 1257.35 32.6746 Q1262.54 26.1121 1270.76 26.1121 Q1275.78 26.1121 1279.35 28.0971 Q1282.95 30.0415 1285.3 34.0924 M1259.9 49.9314 Q1259.9 58.1548 1263.26 62.8538 Q1266.67 67.5124 1272.58 67.5124 Q1278.5 67.5124 1281.9 62.8538 Q1285.3 58.1548 1285.3 49.9314 Q1285.3 41.7081 1281.9 37.0496 Q1278.5 32.3505 1272.58 32.3505 Q1266.67 32.3505 1263.26 37.0496 Q1259.9 41.7081 1259.9 49.9314 Z\" fill=\"#000000\" fill-rule=\"evenodd\" fill-opacity=\"1\" /><path clip-path=\"url(#clip030)\" d=\"M 0 0 M1300.57 27.2059 L1308.03 27.2059 L1308.03 72.576 L1300.57 72.576 L1300.57 27.2059 M1300.57 9.54393 L1308.03 9.54393 L1308.03 18.9825 L1300.57 18.9825 L1300.57 9.54393 Z\" fill=\"#000000\" fill-rule=\"evenodd\" fill-opacity=\"1\" /><path clip-path=\"url(#clip030)\" d=\"M 0 0 M1344.77 28.5427 L1344.77 35.5912 Q1341.61 33.9709 1338.21 33.1607 Q1334.8 32.3505 1331.16 32.3505 Q1325.61 32.3505 1322.81 34.0519 Q1320.06 35.7533 1320.06 39.156 Q1320.06 41.7486 1322.04 43.2475 Q1324.03 44.7058 1330.02 46.0426 L1332.58 46.6097 Q1340.52 48.3111 1343.84 51.4303 Q1347.2 54.509 1347.2 60.0587 Q1347.2 66.3781 1342.18 70.0644 Q1337.19 73.7508 1328.44 73.7508 Q1324.8 73.7508 1320.83 73.0216 Q1316.9 72.3329 1312.52 70.9151 L1312.52 63.2184 Q1316.66 65.3654 1320.67 66.4591 Q1324.68 67.5124 1328.61 67.5124 Q1333.87 67.5124 1336.71 65.73 Q1339.54 63.9071 1339.54 60.6258 Q1339.54 57.5877 1337.48 55.9673 Q1335.45 54.3469 1328.53 52.8481 L1325.93 52.2405 Q1319.01 50.7821 1315.93 47.7845 Q1312.85 44.7463 1312.85 39.4801 Q1312.85 33.0797 1317.39 29.5959 Q1321.92 26.1121 1330.27 26.1121 Q1334.4 26.1121 1338.04 26.7198 Q1341.69 27.3274 1344.77 28.5427 Z\" fill=\"#000000\" fill-rule=\"evenodd\" fill-opacity=\"1\" /><path clip-path=\"url(#clip030)\" d=\"M 0 0 M1362.39 14.324 L1362.39 27.2059 L1377.74 27.2059 L1377.74 32.9987 L1362.39 32.9987 L1362.39 57.6282 Q1362.39 63.1779 1363.89 64.7578 Q1365.43 66.3376 1370.09 66.3376 L1377.74 66.3376 L1377.74 72.576 L1370.09 72.576 Q1361.46 72.576 1358.18 69.3758 Q1354.9 66.1351 1354.9 57.6282 L1354.9 32.9987 L1349.43 32.9987 L1349.43 27.2059 L1354.9 27.2059 L1354.9 14.324 L1362.39 14.324 Z\" fill=\"#000000\" fill-rule=\"evenodd\" fill-opacity=\"1\" /><path clip-path=\"url(#clip030)\" d=\"M 0 0 M1411.85 34.1734 Q1410.6 33.4443 1409.1 33.1202 Q1407.64 32.7556 1405.86 32.7556 Q1399.54 32.7556 1396.13 36.8875 Q1392.77 40.9789 1392.77 48.6757 L1392.77 72.576 L1385.28 72.576 L1385.28 27.2059 L1392.77 27.2059 L1392.77 34.2544 Q1395.12 30.1225 1398.89 28.1376 Q1402.66 26.1121 1408.04 26.1121 Q1408.81 26.1121 1409.75 26.2337 Q1410.68 26.3147 1411.81 26.5172 L1411.85 34.1734 Z\" fill=\"#000000\" fill-rule=\"evenodd\" fill-opacity=\"1\" /><path clip-path=\"url(#clip030)\" d=\"M 0 0 M1419.67 27.2059 L1427.12 27.2059 L1427.12 72.576 L1419.67 72.576 L1419.67 27.2059 M1419.67 9.54393 L1427.12 9.54393 L1427.12 18.9825 L1419.67 18.9825 L1419.67 9.54393 Z\" fill=\"#000000\" fill-rule=\"evenodd\" fill-opacity=\"1\" /><path clip-path=\"url(#clip030)\" d=\"M 0 0 M1467.51 49.9314 Q1467.51 41.7081 1464.11 37.0496 Q1460.75 32.3505 1454.83 32.3505 Q1448.92 32.3505 1445.52 37.0496 Q1442.15 41.7081 1442.15 49.9314 Q1442.15 58.1548 1445.52 62.8538 Q1448.92 67.5124 1454.83 67.5124 Q1460.75 67.5124 1464.11 62.8538 Q1467.51 58.1548 1467.51 49.9314 M1442.15 34.0924 Q1444.5 30.0415 1448.07 28.0971 Q1451.67 26.1121 1456.66 26.1121 Q1464.92 26.1121 1470.06 32.6746 Q1475.25 39.2371 1475.25 49.9314 Q1475.25 60.6258 1470.06 67.1883 Q1464.92 73.7508 1456.66 73.7508 Q1451.67 73.7508 1448.07 71.8063 Q1444.5 69.8214 1442.15 65.7705 L1442.15 72.576 L1434.66 72.576 L1434.66 9.54393 L1442.15 9.54393 L1442.15 34.0924 Z\" fill=\"#000000\" fill-rule=\"evenodd\" fill-opacity=\"1\" /><path clip-path=\"url(#clip030)\" d=\"M 0 0 M1482.3 54.671 L1482.3 27.2059 L1489.75 27.2059 L1489.75 54.3874 Q1489.75 60.8284 1492.26 64.0691 Q1494.77 67.2693 1499.8 67.2693 Q1505.83 67.2693 1509.32 63.421 Q1512.84 59.5726 1512.84 52.9291 L1512.84 27.2059 L1520.29 27.2059 L1520.29 72.576 L1512.84 72.576 L1512.84 65.6084 Q1510.13 69.7404 1506.52 71.7658 Q1502.96 73.7508 1498.22 73.7508 Q1490.4 73.7508 1486.35 68.8897 Q1482.3 64.0286 1482.3 54.671 M1501.05 26.1121 L1501.05 26.1121 Z\" fill=\"#000000\" fill-rule=\"evenodd\" fill-opacity=\"1\" /><path clip-path=\"url(#clip030)\" d=\"M 0 0 M1535.49 14.324 L1535.49 27.2059 L1550.84 27.2059 L1550.84 32.9987 L1535.49 32.9987 L1535.49 57.6282 Q1535.49 63.1779 1536.98 64.7578 Q1538.52 66.3376 1543.18 66.3376 L1550.84 66.3376 L1550.84 72.576 L1543.18 72.576 Q1534.55 72.576 1531.27 69.3758 Q1527.99 66.1351 1527.99 57.6282 L1527.99 32.9987 L1522.52 32.9987 L1522.52 27.2059 L1527.99 27.2059 L1527.99 14.324 L1535.49 14.324 Z\" fill=\"#000000\" fill-rule=\"evenodd\" fill-opacity=\"1\" /><path clip-path=\"url(#clip030)\" d=\"M 0 0 M1558.66 27.2059 L1566.11 27.2059 L1566.11 72.576 L1558.66 72.576 L1558.66 27.2059 M1558.66 9.54393 L1566.11 9.54393 L1566.11 18.9825 L1558.66 18.9825 L1558.66 9.54393 Z\" fill=\"#000000\" fill-rule=\"evenodd\" fill-opacity=\"1\" /><path clip-path=\"url(#clip030)\" d=\"M 0 0 M1591.51 32.4315 Q1585.51 32.4315 1582.03 37.1306 Q1578.55 41.7891 1578.55 49.9314 Q1578.55 58.0738 1581.99 62.7728 Q1585.47 67.4314 1591.51 67.4314 Q1597.46 67.4314 1600.95 62.7323 Q1604.43 58.0333 1604.43 49.9314 Q1604.43 41.8701 1600.95 37.1711 Q1597.46 32.4315 1591.51 32.4315 M1591.51 26.1121 Q1601.23 26.1121 1606.78 32.4315 Q1612.33 38.7509 1612.33 49.9314 Q1612.33 61.0714 1606.78 67.4314 Q1601.23 73.7508 1591.51 73.7508 Q1581.75 73.7508 1576.2 67.4314 Q1570.69 61.0714 1570.69 49.9314 Q1570.69 38.7509 1576.2 32.4315 Q1581.75 26.1121 1591.51 26.1121 Z\" fill=\"#000000\" fill-rule=\"evenodd\" fill-opacity=\"1\" /><path clip-path=\"url(#clip030)\" d=\"M 0 0 M1657.86 45.1919 L1657.86 72.576 L1650.41 72.576 L1650.41 45.4349 Q1650.41 38.994 1647.9 35.7938 Q1645.39 32.5936 1640.36 32.5936 Q1634.33 32.5936 1630.84 36.4419 Q1627.36 40.2903 1627.36 46.9338 L1627.36 72.576 L1619.87 72.576 L1619.87 27.2059 L1627.36 27.2059 L1627.36 34.2544 Q1630.03 30.163 1633.64 28.1376 Q1637.28 26.1121 1642.02 26.1121 Q1649.84 26.1121 1653.85 30.9732 Q1657.86 35.7938 1657.86 45.1919 Z\" fill=\"#000000\" fill-rule=\"evenodd\" fill-opacity=\"1\" /><polyline clip-path=\"url(#clip032)\" style=\"stroke:#009af9; stroke-width:8; stroke-opacity:1; fill:none\" points=\"\n",
       "  210.724,1447.87 229.98,1446.31 249.236,1444.71 268.492,1444.36 287.747,1442.81 307.003,1441.25 326.259,1439.98 345.515,1438.22 364.771,1437.59 384.027,1436.93 \n",
       "  403.283,1434.66 422.539,1433.28 441.795,1431.53 461.051,1430.32 480.307,1429 499.563,1426.94 518.819,1425.64 538.075,1424.39 557.331,1423.16 576.587,1421.22 \n",
       "  595.843,1418.96 615.099,1416.67 634.355,1414.92 653.611,1413.41 672.867,1411.18 692.123,1408.75 711.378,1407.36 730.634,1404.87 749.89,1402.55 769.146,1400.22 \n",
       "  788.402,1398.4 807.658,1396.08 826.914,1394.94 846.17,1391.13 865.426,1389.03 884.682,1387.32 903.938,1384.92 923.194,1382.65 942.45,1378.52 961.706,1375.94 \n",
       "  980.962,1374.13 1000.22,1371.97 1019.47,1368.51 1038.73,1364.78 1057.99,1363.26 1077.24,1360.65 1096.5,1357.86 1115.75,1354.05 1135.01,1352.69 1154.27,1350.53 \n",
       "  1173.52,1346.99 1192.78,1344.4 1212.03,1342.54 1231.29,1339.16 1250.55,1335.86 1269.8,1334.13 1289.06,1330.28 1308.31,1327.08 1327.57,1325.5 1346.82,1322.24 \n",
       "  1366.08,1318.96 1385.34,1317.31 1404.59,1312.47 1423.85,1311.21 1443.1,1307.19 1462.36,1305.82 1481.62,1299.91 1500.87,1299.18 1520.13,1296.44 1539.38,1295.74 \n",
       "  1558.64,1293.32 1577.9,1292.64 1597.15,1290.77 1616.41,1288.37 1635.66,1286.47 1654.92,1284.64 1674.18,1283.12 1693.43,1281.75 1712.69,1280.61 1731.94,1279.43 \n",
       "  1751.2,1278.41 1770.46,1277.46 1789.71,1276.55 1808.97,1275.71 1828.22,1275.21 1847.48,1274.7 1866.74,1274.18 1885.99,1273.63 1905.25,1267.88 1924.5,1267.88 \n",
       "  1943.76,1267.88 1963.02,1267.88 1982.27,1267.88 2001.53,1267.88 2020.78,1267.88 2040.04,1267.88 2059.3,1267.88 2078.55,1267.88 2097.81,1267.88 2117.06,1267.88 \n",
       "  2136.32,1267.88 2155.57,1267.88 2174.83,1267.88 2194.09,1267.88 2213.34,1267.88 2232.6,1267.88 2251.85,1267.88 2271.11,1267.88 2290.37,1267.88 \n",
       "  \"/>\n",
       "<polyline clip-path=\"url(#clip032)\" style=\"stroke:#e26f46; stroke-width:8; stroke-opacity:1; fill:none\" points=\"\n",
       "  210.724,1379.7 229.98,1378.14 249.236,1376.54 268.492,1376.18 287.747,1374.64 307.003,1373.07 326.259,1371.81 345.515,1370.04 364.771,1369.41 384.027,1368.76 \n",
       "  403.283,1366.48 422.539,1363.73 441.795,1360.15 461.051,1357.63 480.307,1354.96 499.563,1351.79 518.819,1348.88 538.075,1347.03 557.331,1343.17 576.587,1338.78 \n",
       "  595.843,1333.38 615.099,1328.91 634.355,1321.97 653.611,1317.78 672.867,1313.92 692.123,1308.14 711.378,1302.72 730.634,1291.34 749.89,1282.75 769.146,1276.8 \n",
       "  788.402,1271.63 807.658,1264.28 826.914,1258.3 846.17,1244.43 865.426,1234.59 884.682,1222.98 903.938,1214.37 923.194,1206.72 942.45,1190.12 961.706,1178.46 \n",
       "  980.962,1166.4 1000.22,1156.41 1019.47,1130.48 1038.73,1116.38 1057.99,1103.88 1077.24,1092.57 1096.5,1066.2 1115.75,1049.89 1135.01,1037.4 1154.27,1025.6 \n",
       "  1173.52,997.537 1192.78,969.411 1212.03,957.304 1231.29,927.249 1250.55,897.819 1269.8,885.728 1289.06,853.678 1308.31,821.382 1327.57,808.256 1346.82,773.761 \n",
       "  1366.08,738.954 1385.34,723.752 1404.59,667.046 1423.85,654.633 1443.1,608.296 1462.36,598.419 1481.62,557.046 1500.87,548.013 1520.13,514.211 1539.38,505.615 \n",
       "  1558.64,475.736 1577.9,467.419 1597.15,444.364 1616.41,414.765 1635.66,391.303 1654.92,368.688 1674.18,349.973 1693.43,333.118 1712.69,318.996 1731.94,304.514 \n",
       "  1751.2,291.842 1770.46,280.207 1789.71,268.98 1808.97,258.596 1828.22,252.414 1847.48,246.116 1866.74,239.673 1885.99,232.894 1905.25,162.047 1924.5,162.047 \n",
       "  1943.76,162.047 1963.02,162.047 1982.27,162.047 2001.53,162.047 2020.78,162.047 2040.04,162.047 2059.3,162.047 2078.55,162.047 2097.81,162.047 2117.06,162.047 \n",
       "  2136.32,162.047 2155.57,162.047 2174.83,162.047 2194.09,162.047 2213.34,162.047 2232.6,162.047 2251.85,162.047 2271.11,162.047 2290.37,162.047 \n",
       "  \"/>\n",
       "<path clip-path=\"url(#clip030)\" d=\"\n",
       "M221.815 350.345 L521.774 350.345 L521.774 168.905 L221.815 168.905  Z\n",
       "  \" fill=\"#ffffff\" fill-rule=\"evenodd\" fill-opacity=\"1\"/>\n",
       "<polyline clip-path=\"url(#clip030)\" style=\"stroke:#000000; stroke-width:4; stroke-opacity:1; fill:none\" points=\"\n",
       "  221.815,350.345 521.774,350.345 521.774,168.905 221.815,168.905 221.815,350.345 \n",
       "  \"/>\n",
       "<polyline clip-path=\"url(#clip030)\" style=\"stroke:#009af9; stroke-width:4; stroke-opacity:1; fill:none\" points=\"\n",
       "  246.309,229.385 393.27,229.385 \n",
       "  \"/>\n",
       "<path clip-path=\"url(#clip030)\" d=\"M 0 0 M441.791 232.637 L441.791 234.72 L422.208 234.72 Q422.486 239.118 424.847 241.433 Q427.231 243.725 431.467 243.725 Q433.921 243.725 436.213 243.123 Q438.527 242.521 440.796 241.317 L440.796 245.345 Q438.504 246.317 436.097 246.827 Q433.69 247.336 431.213 247.336 Q425.009 247.336 421.375 243.725 Q417.764 240.114 417.764 233.956 Q417.764 227.591 421.19 223.864 Q424.639 220.114 430.472 220.114 Q435.703 220.114 438.736 223.493 Q441.791 226.85 441.791 232.637 M437.532 231.387 Q437.486 227.892 435.565 225.808 Q433.666 223.725 430.518 223.725 Q426.953 223.725 424.801 225.739 Q422.671 227.753 422.347 231.41 L437.532 231.387 Z\" fill=\"#000000\" fill-rule=\"evenodd\" fill-opacity=\"1\" /><path clip-path=\"url(#clip030)\" d=\"M 0 0 M446.444 212.105 L451.12 212.105 L451.12 242.729 L467.949 242.729 L467.949 246.665 L446.444 246.665 L446.444 212.105 Z\" fill=\"#000000\" fill-rule=\"evenodd\" fill-opacity=\"1\" /><polyline clip-path=\"url(#clip030)\" style=\"stroke:#e26f46; stroke-width:4; stroke-opacity:1; fill:none\" points=\"\n",
       "  246.309,289.865 393.27,289.865 \n",
       "  \"/>\n",
       "<path clip-path=\"url(#clip030)\" d=\"M 0 0 M441.791 293.117 L441.791 295.2 L422.208 295.2 Q422.486 299.598 424.847 301.913 Q427.231 304.205 431.467 304.205 Q433.921 304.205 436.213 303.603 Q438.527 303.001 440.796 301.797 L440.796 305.825 Q438.504 306.797 436.097 307.307 Q433.69 307.816 431.213 307.816 Q425.009 307.816 421.375 304.205 Q417.764 300.594 417.764 294.436 Q417.764 288.071 421.19 284.344 Q424.639 280.594 430.472 280.594 Q435.703 280.594 438.736 283.973 Q441.791 287.33 441.791 293.117 M437.532 291.867 Q437.486 288.372 435.565 286.288 Q433.666 284.205 430.518 284.205 Q426.953 284.205 424.801 286.219 Q422.671 288.233 422.347 291.89 L437.532 291.867 Z\" fill=\"#000000\" fill-rule=\"evenodd\" fill-opacity=\"1\" /><path clip-path=\"url(#clip030)\" d=\"M 0 0 M446.444 272.585 L451.12 272.585 L451.12 286.751 L468.111 286.751 L468.111 272.585 L472.787 272.585 L472.787 307.145 L468.111 307.145 L468.111 290.686 L451.12 290.686 L451.12 307.145 L446.444 307.145 L446.444 272.585 Z\" fill=\"#000000\" fill-rule=\"evenodd\" fill-opacity=\"1\" /></svg>\n"
      ]
     },
     "execution_count": 22,
     "metadata": {},
     "output_type": "execute_result"
    }
   ],
   "source": [
    "# Plot rescaled distribution Ψ\n",
    "# \\Psi could not 'sum' to 1 after the update\n",
    "scale = sum(Ψ[end, :])\n",
    "    F = Ψ ./ scale\n",
    "\n",
    "# Unconstrained\n",
    "p3 = plot(A, F, linewidth = 2, title = \"Stationary distribution\", label = [\"eL\" \"eH\"], legend =:topleft)\n",
    "\n",
    "# Constrained to endogenous a_UpperBar\n",
    "p3B = plot(A[1:aUB+20], F[1:aUB+20,:], linewidth = 2, \n",
    "    title = \"Stationary distribution\", label = [\"eL\" \"eH\"], legend =:topleft)"
   ]
  },
  {
   "cell_type": "code",
   "execution_count": null,
   "metadata": {},
   "outputs": [],
   "source": []
  }
 ],
 "metadata": {
  "kernelspec": {
   "display_name": "Julia 1.5.1",
   "language": "julia",
   "name": "julia-1.5"
  },
  "language_info": {
   "file_extension": ".jl",
   "mimetype": "application/julia",
   "name": "julia",
   "version": "1.5.1"
  }
 },
 "nbformat": 4,
 "nbformat_minor": 4
}
