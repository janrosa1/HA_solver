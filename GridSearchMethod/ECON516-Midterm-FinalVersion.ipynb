{
 "cells": [
  {
   "cell_type": "markdown",
   "metadata": {},
   "source": [
    "# ECON 516: Replication of Huggett (1993)\n",
    "### Giulia Lo Forte - November 7, 2020\n",
    "-----"
   ]
  },
  {
   "cell_type": "markdown",
   "metadata": {},
   "source": [
    "Here you can find the code and results for the replication of Huggett (1993).\n",
    "\n",
    "I am using a grid method approach.\n",
    "It takes a lot of time to run, but the results are quite satisfying.\n",
    "\n",
    "I have noticed that Jupyter Notebook takes a little bit more time to run compared to a simple Julia file, probably due to something off in my own computer.\n",
    "Therefore, I am also attaching the same code written in a Julia file.\n",
    "\n",
    "This document is organized as follows: a brief summary of the model and its equilibrium; a brief explanation of the theoretical and computational steps to follow in order to solve the model; a comparison of the results in two different settings; a brief list of checks and graphs I have performed in smaller parts of the code.\n",
    "\n",
    "\n",
    "-------"
   ]
  },
  {
   "cell_type": "code",
   "execution_count": 1,
   "metadata": {},
   "outputs": [],
   "source": [
    "using LinearAlgebra, Random, Distributions, Statistics, Plots, BenchmarkTools, Interpolations"
   ]
  },
  {
   "cell_type": "markdown",
   "metadata": {},
   "source": [
    "----\n",
    "## Model and Equilibrium\n",
    "The model encompasses the following elements:\n",
    "- a continuum of agents with mass 1;\n",
    "- in each period, the agent is endowed with $e \\in E=\\{e_h; e_l\\}$ with $e_h > e_l$ according to a Markov Process $\\pi(e'|e)= Pr(e_{t+1}=e' | e_t = e) > 0 $ independent across agents;\n",
    "- the utility function is\n",
    "$$ E\\big[ \\sum_{t=0}^{\\infty} \\beta^t u(c_t) \\big] $$\n",
    "with $\\beta \\in (0,1) $, $u(c) = \\frac{c^{1-\\sigma}}{1-\\sigma}$ and $\\sigma >1$;\n",
    "- the budget constraint in each period is $c + a' q \\leq a+e$ with $a' \\geq \\underline{a}$ and $\\underline{a} < 0$.\n",
    "\n",
    "Define the individual state variable as $x = (a,e) \\in X$ with $X = A$x$E$, $A=[\\underline{a},\\infty)$.\n",
    "Let $q>0$ be the constant price for next period's credit.\n",
    "\n",
    "The decision problem for the individual is\n",
    "$$ v(x;q) = \\max_{(c,a') \\in \\Gamma(x;q)} u(c) + \\beta \\sum_{e'} v(a',e';q) \\pi(e'|e) $$\n",
    "where $\\Gamma(x;q) = \\{(c,a') : c+qa' \\leq a+e; c \\geq 0; a' \\geq a \\}$.\n",
    "\n",
    "\n",
    "Let $\\overline{a}$ be an endogenously determined level of credit balance that individual agents never overtake, then $S=[\\underline{a},\\overline{a}]$x$E$ and $\\beta_S$ is the the corresponding Borel $\\sigma$-algebra.\n",
    "$\\forall B \\in \\beta_S$, $\\psi(B)$ is the mass of agents whose individual state vector lies in $B$.\n",
    "\n",
    "Now define the transition probability $P: S$x$\\beta_S \\rightarrow [0,1]$ where $P(x,B)$ is the probability that an agent with state $x$ will have a state vector lying in $B$ in the next period."
   ]
  },
  {
   "cell_type": "markdown",
   "metadata": {},
   "source": [
    "#### Definition\n",
    "A *stationary equilibrium* is $c(x)$, $a(x)$, $q$, and $\\psi$ such that:\n",
    "- $c(x)$ and $a(x)$ are optimal decision rules, given $q$;\n",
    "- markets clear: $\\int_S c(x) d\\psi = \\int_S e d\\psi$ and $\\int_S a(x) d \\psi = 0$;\n",
    "- $\\psi$ is stationary: $\\psi(B)=\\int_S P(x,B) d \\psi \\quad \\forall B \\in \\beta_S$."
   ]
  },
  {
   "cell_type": "markdown",
   "metadata": {},
   "source": [
    "#### Theorem 1\n",
    "Define $T: C(X) \\rightarrow C(X)$, with $C(X)$ being the space of bounded, continuous, real-valued functions on $X$, as:\n",
    "$$ (Tv)(x;q) = \\max_{(c,a') \\in \\Gamma(x;q)} u(c)+\\beta \\sum_{e'} v(a',e';q) \\pi(e'|e) $$\n",
    "\n",
    "For $q>0$ and $\\underline{a} + e_l + \\underline{a}q < 0$ there exists a unique colution $v(x;q) \\in C(X)$ and $T^n v_0$ converges uniformly to $v$ from any starting point $v_0$."
   ]
  },
  {
   "cell_type": "markdown",
   "metadata": {},
   "source": [
    "#### Theorem 2\n",
    "Define $W: M(S) \\rightarrow M(S)$, with $M(S)$ being the space of probability measures $(S,\\beta_S)$, as\n",
    "$$ (W\\psi)(B) = \\int_S P(s,B) d \\psi \\quad \\forall B \\in \\beta_S$$\n",
    "\n",
    "If the conditions for Theorem 1 are satisfied, $\\beta < q$, $\\pi(e_h|e_h) \\geq \\pi(e_h|e_l)$, then there exists a unique stationary probability measure $\\psi$ and $W^n\\psi_0$ converges weakly to $\\psi$.\n"
   ]
  },
  {
   "cell_type": "markdown",
   "metadata": {},
   "source": [
    "-----\n",
    "\n",
    "## Calibration\n",
    "Calibration is performed in order to match the variability of labour earnings (as measured in Kydland (1984)) and the average duration of unemployment (as measured in the Handbook of Labor Statistic).\n",
    "\n",
    "The author uses the following setting:\n",
    "- $e_h = 1.0$, $e_l = 0.1$, $\\pi(e_h|e_h) = 0.925$, $\\pi(e_h|e_l) = 0.5$;\n",
    "- 6 model periods in one year, therefore the standard deviation is 20\\% and the average duration of $e_l$ is 2 model periods;\n",
    "- $\\beta=0.9932$;\n",
    "- $\\sigma = 1.5$;\n",
    "- $\\underline{a} \\in \\{ -2, -4, -6, -8 \\}$."
   ]
  },
  {
   "cell_type": "markdown",
   "metadata": {},
   "source": [
    "----\n",
    "\n",
    "## Computation\n",
    "The computation procedure can be broken down in three steps.\n",
    "I am going to write a separate code for each one of the steps, and then combine them together to find the solution of the model.\n"
   ]
  },
  {
   "cell_type": "markdown",
   "metadata": {},
   "source": [
    "#### Step 1\n",
    "Given $q$, compute $a(x;q)$ by iterating\n",
    "$$ (Tv)(x;q) = \\max_{(c,a') \\in \\Gamma} u(c) + \\beta \\sum_{e'} v(a',e';q) \\pi(e'|e) $$\n",
    "from an arbitrary, concave, bounded, differentiable function $v_0$.\n",
    "The FOC of the problem in $Tv_0$ is\n",
    "$$ u'(a+e-a'q)q \\geq \\beta \\sum_{e'} v'_0(a',e')\\pi(e'|e) $$\n",
    "The solution to this FOC is labelled $a_1(x;q)$. The FOC in $T^2v_0$ is the same but with $Tv'_0(x) = u'(a+e-a_1(x;q)q)$ in place of $v'_0(x)$. The solution is now labelled $a_2(x;q)$, and iteration continues until convergence of the functions $a$.\n",
    "\n",
    "On a computer, we need to perform some changes:\n",
    "1. compute $u'(a+e-a'q)$ and $v'_0(a,e)$ on finite grids on $X$x$A$ and $X$, using linear interpolation between gridpoints; in practice, for $A$ we use 150-350 evenly spaced gridpoints, with gridsize being 0.03-0.1 units of credit balances;\n",
    "2. solve for $a_1(a,e)$ on gridpoints using the FOC;\n",
    "3. repeat until convergence."
   ]
  },
  {
   "cell_type": "markdown",
   "metadata": {},
   "source": [
    "**What I am doing in practice:**\n",
    "\n",
    "I have chosen to employ a grid search in `step1`. In each point of the grid `A` in which consumption is weakly positive, I compute the value function `V` and then find the value of $a'$ that corresponds to the maximum value function attainable by the individual starting from a given point in the grid.\n",
    "When consumption is negative, I replace the value function with $-\\infty$.\n",
    "\n",
    "I then repeat the process until convergence of the maximum value function, that is convergence of the policy function."
   ]
  },
  {
   "cell_type": "code",
   "execution_count": 2,
   "metadata": {},
   "outputs": [
    {
     "data": {
      "text/plain": [
       "step1 (generic function with 1 method)"
      ]
     },
     "execution_count": 2,
     "metadata": {},
     "output_type": "execute_result"
    }
   ],
   "source": [
    "# Function for step 1: for a given q, find the optimal policy a'\n",
    "# Leave q generic as a guess (q>1)\n",
    "function step1(A, E, Π, q, β, σ; v_guess = 0.0, maxT = 600, tol = 0.01)\n",
    "    \n",
    "    a_size = length(A)\n",
    "    e_size = size(E)[1]\n",
    "    \n",
    "    v0 = v_guess .* ones(a_size, e_size)\n",
    "    v_update = zeros(a_size, e_size)\n",
    "    pol_func = zeros(a_size, e_size)\n",
    "    \n",
    "    # Define the utility function\n",
    "    u(c) = (c.^(1-σ)) ./ (1 - σ) # consider putting this outside the function for more flexibility of the code!\n",
    "    \n",
    "    # Iteration of value function\n",
    "    normdiff = Inf\n",
    "    t = 1\n",
    "    \n",
    "    while normdiff > tol && t <= maxT\n",
    "        \n",
    "        # Do linear interpolation of the value function on knots (A,E)\n",
    "        v_interpol = LinearInterpolation((A, E), v0)\n",
    "        \n",
    "        # Replace new value function with solution\n",
    "        for a = 1:a_size\n",
    "            for e = 1:e_size\n",
    "                \n",
    "                # Generate value function V\n",
    "                # If c <= 0, set value function to -∞\n",
    "                V(x) = ((E[e] + A[a] - q*x) <= 0) ? -Inf :\n",
    "                   u(E[e] + A[a] - q*x) + β*(v_interpol(x, E[1])* Π[e,1] + v_interpol(x, E[2])* Π[e,2])\n",
    "                \n",
    "                # Find the maximum\n",
    "                aux = findmax(V.(A))      # (maximum, index)\n",
    "                v_update[a,e] = aux[1]    # actual maximum value\n",
    "                pol_func[a,e] = A[aux[2]] # policy function a'\n",
    "                \n",
    "            end\n",
    "        end\n",
    "        \n",
    "        t += 1\n",
    "        normdiff = maximum(abs.(v_update - v0))\n",
    "        \n",
    "        # v0 = v_update  # this is mutable!\n",
    "        v0 = copy(v_update)\n",
    "        \n",
    "    end\n",
    "    \n",
    "    return pol_func\n",
    "    \n",
    "end"
   ]
  },
  {
   "cell_type": "markdown",
   "metadata": {},
   "source": [
    "#### Step 2\n",
    "Given $a(x;q)$, iterate on $\\psi_{n+1}(B) = \\int_S P(x,B) d \\psi_n $ from an arbitrary $\\psi_0 \\in M(S)$.\n",
    "Then use $\\psi$ to compute $\\int_S a(x;q) d \\psi$ and obtain $q$.\n",
    "\n",
    "On a computer, define the following function on gridpoints using interpolation for in-between gridpoints:\n",
    "$$ F_0(a,e) = \\psi_0 \\big(\\{ x: x_1 \\leq a, x_2 =e \\} \\big) $$\n",
    "\n",
    "Then iterate on \n",
    "$$ F_{t+1}(a',e') = \\sum_e \\pi(e'|e)F_t(a^{-1}(^{.},e)(a'),e) $$\n",
    "on gridpoints $(a',e')$.\n",
    "Define $a^{-1}(^{.},e)(\\underline{a})$ as the maximum $a$ such that $\\underline{a}$ is chosen when the state is $(a,e)$.\n",
    "Iterate until $F_t$ converges."
   ]
  },
  {
   "cell_type": "markdown",
   "metadata": {},
   "source": [
    "**What I am doing in practice:**\n",
    "\n",
    "I first define function `pol_inv` which computes the inverse of the policy function.\n",
    "I compute it as the element in the grid of `A` such that `pol_func(A, E)` is the closest to $a'$.\n",
    "\n",
    "However, note some adjustments:\n",
    "1. if $a'$ is smaller than all the values of the policy function, then we set $a$ to $\\underline{a}$;\n",
    "2. if $e'$ is the best shock and $a'$ is bigger than any value of the optimal policy function, then we set $a$ to the endogenous $\\overline{a}$ corresponding to the intersection with the 45° line.\n",
    "\n",
    "Once I have defined the inverse of the policy function, I generate the function `step2` which finds the stationary distribution $\\Psi$.\n",
    "As stated above, the code computes the updated distribution using the initial guess distribution, the inverse of the policy function, and the transition probabilities.\n",
    "The code then iterates over the updated distributions until they converge to the same value.\n",
    "\n",
    "For the initial guess distribution, note that $\\Psi$ is the cumulative distribution over any $(a, e)$.\n",
    "Therefore, the initial guess distribution must reach value $1$ over all the grid points for $a$ and $e$.\n",
    "I am assuming that individuals split equally across the two values of the exogenous state variable $e$, and then they distribute uniformly across the values of $a$ for a given $e$.\n",
    "In practice, the initial guess cumulative distribution function is given by a range going from $0.0$ to $0.5$ with as many steps as the number of gridpoints preceding the endogenous $\\underline{a}$ for each value of $e$.\n",
    "Summing across the two values of $e$ then gives $1$."
   ]
  },
  {
   "cell_type": "code",
   "execution_count": 3,
   "metadata": {},
   "outputs": [
    {
     "data": {
      "text/plain": [
       "pol_inv (generic function with 1 method)"
      ]
     },
     "execution_count": 3,
     "metadata": {},
     "output_type": "execute_result"
    }
   ],
   "source": [
    "# Define the function a^{-1}\n",
    "function pol_inv(A, pol_func, aprime, eprime)\n",
    "     \n",
    "    # if a' < minimum value of policy function, then a must be a_lowerbar\n",
    "    if minimum(pol_func[:, eprime]) > A[aprime]\n",
    "        \n",
    "        return 1\n",
    "    \n",
    "    # when e'=2, be careful to distinguish pre and post cross with 45° line (endogenous a_UpperBar)   \n",
    "    #elseif eprime == 2 && minimum(pol_func[:, eprime]) <= A[aprime]\n",
    "    elseif eprime == 2\n",
    "        \n",
    "        return min(findlast(pol_func[:, eprime] .<= A[aprime]), \n",
    "            findfirst((pol_func[:, eprime] - A) .< 0.01))\n",
    "    \n",
    "    # in any other case, find element of A such that policy function is closest to a'    \n",
    "    else\n",
    "        \n",
    "        return findlast(pol_func[:, eprime] .<= A[aprime])\n",
    "        \n",
    "    end   \n",
    "    \n",
    "end"
   ]
  },
  {
   "cell_type": "code",
   "execution_count": 4,
   "metadata": {},
   "outputs": [
    {
     "data": {
      "text/plain": [
       "step2 (generic function with 1 method)"
      ]
     },
     "execution_count": 4,
     "metadata": {},
     "output_type": "execute_result"
    }
   ],
   "source": [
    "# Define function for step2: loop to the stationary distribution\n",
    "function step2(A, E, Π, pol_func; tol = 0.01, maxT = 600)\n",
    "    \n",
    "    # retrieve dimensions\n",
    "    a_size = length(A)\n",
    "    e_size = size(E)[1]\n",
    "    \n",
    "    # Find endogenous position where a' = a\n",
    "    aBar = findlast((pol_func[:,2] - A) .< tol)\n",
    "    cut = max(aBar, 2)           # if aBar = 1 then range will not work\n",
    "    \n",
    "    aux1 = range(zero(eltype(A)), one(eltype(A))/e_size, length = cut)\n",
    "    aux2 = ones(eltype(A), a_size - cut)/e_size\n",
    "    aux = [aux1; aux2]           # 350x1\n",
    "    F0 = repeat(aux, 1, e_size)  # 350x2\n",
    "    \n",
    "    F_update = copy(F0)\n",
    "    \n",
    "    # Iteration of distribution\n",
    "    normdiff = Inf\n",
    "    t = 1\n",
    "    \n",
    "    while normdiff > tol && t <= maxT\n",
    "        \n",
    "        for a = 1:a_size\n",
    "            for e = 1:e_size\n",
    "                     \n",
    "                F_update[a,e] = Π[1, e] * F0[pol_inv(A, pol_func, a, 1), 1] + \n",
    "                          Π[2, e] * F0[pol_inv(A, pol_func, a, 2), 2]\n",
    "                \n",
    "            end\n",
    "        end       \n",
    "        \n",
    "        t += 1\n",
    "        normdiff = maximum(abs.(F_update - F0))\n",
    "        \n",
    "        F0 = copy(F_update)\n",
    "        \n",
    "    end\n",
    "    \n",
    "    \n",
    "    return F_update\n",
    "    \n",
    "end"
   ]
  },
  {
   "cell_type": "markdown",
   "metadata": {},
   "source": [
    "#### Step 3\n",
    "Update $q$ and repeat the first two steps until market clearing is approximately completed.\n",
    "\n",
    "Choose the initial $q$ as the midpoint of the set of candidate prices.\n",
    "The new value is then increased if there is excess demand for credit, decreased if there is excess supply.\n",
    "\n",
    "The criterion used for market clearing is that excess demand is within $0.0025$ units of zero."
   ]
  },
  {
   "cell_type": "markdown",
   "metadata": {},
   "source": [
    "**What I am doing in practice:**\n",
    "\n",
    "First, define function `mktclearing` that computes the demand for assets $\\int_S a(x) d \\psi$ using the gridpoints, the policy function, and the stationary distribution as inputs.\n",
    "Recall that, for market clearing, we only need $\\int_S a(x) d \\psi = 0$.\n",
    "\n",
    "Then, define the function `step3` that, starting from a guess initial value of price $q$, solves for the previous two steps and iterates up until the market for assets sums to zero.\n",
    "I try not to have a \"jumpy\" update in prices by using the following updating procedure:\n",
    "- if there is excess demand, the new price is equal to the old price plus a fraction of the tolerance level to determine that there is no excess demand;\n",
    "- if there is excess supply, the new price is equal to the old price diminished by the tolerance level."
   ]
  },
  {
   "cell_type": "code",
   "execution_count": 5,
   "metadata": {},
   "outputs": [
    {
     "data": {
      "text/plain": [
       "mktclearing (generic function with 1 method)"
      ]
     },
     "execution_count": 5,
     "metadata": {},
     "output_type": "execute_result"
    }
   ],
   "source": [
    "# Define the function for market clearing\n",
    "function mktclearing(A, E, pol_func, F_update)\n",
    "    \n",
    "    # retrieve dimensions\n",
    "    a_size = length(A)\n",
    "    e_size = size(E)[1]\n",
    "    \n",
    "    # initialize market for update\n",
    "    market = 0.0\n",
    "    \n",
    "    for a = 2:a_size\n",
    "        for e = 1:e_size\n",
    "            \n",
    "            market += pol_func[a, e] * (F_update[a, e] - F_update[a-1, e])\n",
    "            \n",
    "        end\n",
    "    end\n",
    "    \n",
    "    return market\n",
    "    \n",
    "end"
   ]
  },
  {
   "cell_type": "code",
   "execution_count": 6,
   "metadata": {},
   "outputs": [
    {
     "data": {
      "text/plain": [
       "step3 (generic function with 1 method)"
      ]
     },
     "execution_count": 6,
     "metadata": {},
     "output_type": "execute_result"
    }
   ],
   "source": [
    "# Define the function for step3 (price iteration)\n",
    "function step3(A, E, Π, q0, β, σ; maxT = 100, tol_iterations = 0.01, tol_market = 0.0025, tol_q = 0.001, weight = 0.5)\n",
    "    \n",
    "    @assert q0 > β\n",
    "    \n",
    "    q = q0\n",
    "    solStep1 = step1(A, E, Π, q, β, σ; tol = tol_iterations)\n",
    "    solStep2 = step2(A, E, Π, solStep1; tol = tol_iterations)\n",
    "     \n",
    "    # Start price iteration\n",
    "    normdiff = Inf\n",
    "    t = 1\n",
    "    \n",
    "    while normdiff > tol_q && t <= maxT\n",
    "        \n",
    "        # solve step1\n",
    "        solStep1 = step1(A, E, Π, q, β, σ; tol = tol_iterations)\n",
    "                \n",
    "        # solve step2\n",
    "        solStep2 = step2(A, E, Π, solStep1; tol = tol_iterations)\n",
    "        \n",
    "        # compute market clearing\n",
    "        market = mktclearing(A, E, solStep1, solStep2)\n",
    "        \n",
    "        \n",
    "        # update q based on market clearing\n",
    "        \n",
    "        # increase guess if market > 0 (but just by a little bit)\n",
    "        if market > 0 && abs(market) > tol_market  \n",
    "            q = q + (1 - weight) * tol_market\n",
    "        \n",
    "        # decrease guess if market < 0 (but just by a little bit)\n",
    "        elseif market < 0 && abs(market) > tol_market\n",
    "            q = q - (1 - weight) * tol_market\n",
    "        \n",
    "        # if abs(market) < tol_market, then no need to update q    \n",
    "        else \n",
    "            q = q\n",
    "        end\n",
    "        \n",
    "        t = t + 1\n",
    "        normdiff = abs(q - q0)\n",
    "        \n",
    "        q0 = q\n",
    "        \n",
    "    end\n",
    "    \n",
    "    return (q = q, policy = solStep1, Ψ = solStep2)\n",
    "    \n",
    "end"
   ]
  },
  {
   "cell_type": "markdown",
   "metadata": {},
   "source": [
    "----\n",
    "## Results\n",
    "### Relative risk aversion $\\sigma = 1.5$\n",
    "Let's solve the model with $\\sigma = 1.5$ and considering all the possible values of $\\underline{a}$ in the set $\\{-2, -4, -6, -8\\}$.\n",
    "\n",
    "The initial guess is $q=1.1$.\n",
    "The grid for $A$ is given by $350$ points, from $\\underline{a}$ to $5$. Then the solver algorithm will find the endogenous $\\overline{a}$.\n",
    "\n",
    "Results are reported in the table below."
   ]
  },
  {
   "cell_type": "code",
   "execution_count": 7,
   "metadata": {},
   "outputs": [
    {
     "name": "stdout",
     "output_type": "stream",
     "text": [
      "- Solving the model for σ = 1.5 and lower bound of a = -2.0.\n",
      "  The optimal price is q = 1.012500000000002.\n",
      "    \n",
      "- Solving the model for σ = 1.5 and lower bound of a = -4.0.\n",
      "  The optimal price is q = 0.9975000000000023.\n",
      "    \n",
      "- Solving the model for σ = 1.5 and lower bound of a = -6.0.\n",
      "  The optimal price is q = 0.9950000000000023.\n",
      "    \n",
      "- Solving the model for σ = 1.5 and lower bound of a = -8.0.\n",
      "  The optimal price is q = 0.9925000000000024.\n",
      "    \n"
     ]
    }
   ],
   "source": [
    "# Do computations over a set of lower bounds with σ = 1.5\n",
    "\n",
    "# Parameters\n",
    "σ = 1.5\n",
    "β = 0.9932\n",
    "BoundSet = (-2.0, -4.0, -6.0, -8.0)\n",
    "\n",
    "# Exogenous state variable grid\n",
    "eH = 1.0\n",
    "eL = 0.1\n",
    "E = [eL; eH]     \n",
    "\n",
    "# Transition matrix: Pr(j|i) = Π(i,j) (columns sum to 1)\n",
    "πHH = 0.925 # e_H | e_H\n",
    "πHL = 0.5   # e_H | e_L\n",
    "Π = [1 - πHL  πHL\n",
    "    1 - πHH πHH]\n",
    "\n",
    "# Guess\n",
    "q0 = 1.1\n",
    "\n",
    "# Start loop over lower bound\n",
    "for a_lb in BoundSet\n",
    "    \n",
    "    # Generate grid points for endogenous state variable\n",
    "    a_max = 5\n",
    "    a_size = 350\n",
    "    A = range(a_lb, a_max, length = a_size)\n",
    "    A = [A; ];\n",
    "    \n",
    "    (q, policy, Ψ) = step3(A, E, Π, q0, β, σ)\n",
    "    \n",
    "    println(\"- Solving the model for σ = $σ and lower bound of a = $a_lb.\")\n",
    "    println(\"  The optimal price is q = $q.\")\n",
    "    println(\"    \")\n",
    "\n",
    "end"
   ]
  },
  {
   "cell_type": "markdown",
   "metadata": {},
   "source": [
    "The following table reports the results obtained by this algorithm and a comparison with the original results of Huggett (1993):\n",
    "\n",
    "| Credit limit | Price $q$ | Original result |\n",
    "|:------------ | --------- |:---------------:|\n",
    "|    -2.0      |   1.0125  |     1.0124      |\n",
    "|    -4.0      |   0.9975  |     0.9962      |\n",
    "|    -6.0      |   0.9950  |     0.9944      |\n",
    "|    -8.0      |   0.9925  |     0.9935      |"
   ]
  },
  {
   "cell_type": "markdown",
   "metadata": {},
   "source": [
    "### Relative risk aversion $\\sigma = 3.0$\n",
    "Now I solve the model with $\\sigma = 3$ and considering all the possible values of $\\underline{a}$ in the set $\\{-2, -4, -6, -8\\}$.\n",
    "\n",
    "I keep the same initial conditions as before: the initial guess is $q=1.1$, and the grid for $A$ is given by $350$ points, from $\\underline{a}$ to $5$.\n",
    "Then the solver algorithm will find the endogenous $\\overline{a}$.\n",
    "\n",
    "Results are reported in the table below."
   ]
  },
  {
   "cell_type": "code",
   "execution_count": 8,
   "metadata": {},
   "outputs": [
    {
     "name": "stdout",
     "output_type": "stream",
     "text": [
      "- Solving the model for σ = 3.0 and lower bound of a = -2.0.\n",
      "  The optimal price is q = 1.0450000000000013.\n",
      "  \n",
      "- Solving the model for σ = 3.0 and lower bound of a = -4.0.\n",
      "  The optimal price is q = 1.0050000000000021.\n",
      "  \n",
      "- Solving the model for σ = 3.0 and lower bound of a = -6.0.\n",
      "  The optimal price is q = 0.9975000000000023.\n",
      "  \n",
      "- Solving the model for σ = 3.0 and lower bound of a = -8.0.\n",
      "  The optimal price is q = 0.9925000000000024.\n",
      "  \n"
     ]
    }
   ],
   "source": [
    "# Do computations over a set of lower bounds with σ = 3\n",
    "\n",
    "# Parameters\n",
    "σ = 3.0\n",
    "β = 0.9932\n",
    "BoundSet = (-2.0, -4.0, -6.0, -8.0)\n",
    "\n",
    "# Exogenous state variable grid\n",
    "eH = 1.0\n",
    "eL = 0.1\n",
    "E = [eL; eH]     \n",
    "\n",
    "# Transition matrix: Pr(j|i) = Π(i,j) (columns sum to 1)\n",
    "πHH = 0.925 # e_H | e_H\n",
    "πHL = 0.5   # e_H | e_L\n",
    "Π = [1 - πHL  πHL\n",
    "    1 - πHH πHH]\n",
    "\n",
    "# Guess\n",
    "q0 = 1.1\n",
    "\n",
    "# Start loop over lower bound\n",
    "for a_lb in BoundSet\n",
    "    \n",
    "    # Generate grid points for endogenous state variable\n",
    "    a_max = 5\n",
    "    a_size = 350\n",
    "    A = range(a_lb, a_max, length = a_size)\n",
    "    A = [A; ];\n",
    "    \n",
    "    (q, policy, Ψ) = step3(A, E, Π, q0, β, σ)\n",
    "    \n",
    "    println(\"- Solving the model for σ = $σ and lower bound of a = $a_lb.\")\n",
    "    println(\"  The optimal price is q = $q.\")\n",
    "    println(\"  \")\n",
    "\n",
    "end"
   ]
  },
  {
   "cell_type": "markdown",
   "metadata": {},
   "source": [
    "The following table reports the results obtained in this algorithm and compares them with the original results of Huggett (1993):\n",
    "\n",
    "| Credit limit | Price $q$ | Original result |\n",
    "|:------------ | --------- |:---------------:|\n",
    "|    -2.0      |   1.0450  |     1.0448      |\n",
    "|    -4.0      |   1.0050  |     1.0045      |\n",
    "|    -6.0      |   0.9975  |     0.9970      |\n",
    "|    -8.0      |   0.9925  |     0.9940      |"
   ]
  },
  {
   "cell_type": "markdown",
   "metadata": {},
   "source": [
    "---------------------\n",
    "---------------------\n",
    "## Checks and Graphs\n",
    "While I was writing the code, I have run some checks along the way to see if each small piece of the code was working as expected."
   ]
  },
  {
   "cell_type": "markdown",
   "metadata": {},
   "source": [
    "First, set some of the parameters and initial conditions:"
   ]
  },
  {
   "cell_type": "code",
   "execution_count": 9,
   "metadata": {},
   "outputs": [],
   "source": [
    "# Set parameters\n",
    "β = 0.9932\n",
    "σ = 1.5\n",
    "a_lb = -2.0;"
   ]
  },
  {
   "cell_type": "code",
   "execution_count": 10,
   "metadata": {},
   "outputs": [
    {
     "data": {
      "text/plain": [
       "2×2 Array{Float64,2}:\n",
       " 0.5    0.5\n",
       " 0.075  0.925"
      ]
     },
     "execution_count": 10,
     "metadata": {},
     "output_type": "execute_result"
    }
   ],
   "source": [
    "# Generate grid points for exogenous state variable\n",
    "eH = 1.0\n",
    "eL = 0.1\n",
    "E = [eL; eH]     \n",
    "πHH = 0.925 # e_H | e_H\n",
    "πHL = 0.5   # e_H | e_L\n",
    "# Transition matrix: Pr(j|i) = Π(i,j) (columns sum to 1)\n",
    "Π = [1 - πHL  πHL\n",
    "    1 - πHH πHH]"
   ]
  },
  {
   "cell_type": "code",
   "execution_count": 11,
   "metadata": {},
   "outputs": [],
   "source": [
    "# Generate grid points for endogenous state variable\n",
    "a_max = 5\n",
    "a_size = 350\n",
    "A = range(a_lb, a_max, length = a_size)  \n",
    "A = [A; ];"
   ]
  },
  {
   "cell_type": "markdown",
   "metadata": {},
   "source": [
    "### Checks for Step1"
   ]
  },
  {
   "cell_type": "code",
   "execution_count": 12,
   "metadata": {},
   "outputs": [
    {
     "data": {
      "text/plain": [
       "Du (generic function with 1 method)"
      ]
     },
     "execution_count": 12,
     "metadata": {},
     "output_type": "execute_result"
    }
   ],
   "source": [
    "# Define the utility function and its derivative\n",
    "u(c) = c.^(1-σ) ./ (1 - σ)\n",
    "Du(u) = c -> ForwardDiff.derivative(u, c)"
   ]
  },
  {
   "cell_type": "code",
   "execution_count": 13,
   "metadata": {},
   "outputs": [],
   "source": [
    "e_size = size(E)[1]\n",
    "# Intial guess of v\n",
    "v_guess = 0.0\n",
    "v0 = v_guess .* ones(a_size, e_size)\n",
    "\n",
    "# Matrices where to store update and policy function\n",
    "v_update = zeros(a_size, e_size)\n",
    "pol_func = zeros(a_size, e_size); # a_size x size(E): 350x2"
   ]
  },
  {
   "cell_type": "code",
   "execution_count": 14,
   "metadata": {},
   "outputs": [],
   "source": [
    "# Check that Step1 works\n",
    "q = 1.1\n",
    "solStep1 = step1(A, E, Π, q, β, σ); # 350x2 matrix"
   ]
  },
  {
   "cell_type": "markdown",
   "metadata": {},
   "source": [
    "### Checks for Step2"
   ]
  },
  {
   "cell_type": "code",
   "execution_count": 15,
   "metadata": {},
   "outputs": [
    {
     "data": {
      "text/plain": [
       "74"
      ]
     },
     "execution_count": 15,
     "metadata": {},
     "output_type": "execute_result"
    }
   ],
   "source": [
    "# Briefly check that pol_inv works\n",
    "pol_inv(A, solStep1, 14, 2)\n",
    "pol_inv(A, solStep1, 37, 1)"
   ]
  },
  {
   "cell_type": "code",
   "execution_count": 16,
   "metadata": {},
   "outputs": [],
   "source": [
    "# Check what F0 is\n",
    "tol = 0.01\n",
    "a_size = length(A)\n",
    "e_size = size(E)[1]\n",
    "    \n",
    "# Find endogenous position where a' = a\n",
    "aBar = findlast((solStep1[:,2] - A) .< tol)\n",
    "cut = max(aBar, 2)           # if aBar = 1 then range will not work\n",
    "    \n",
    "aux1 = range(zero(eltype(A)), one(eltype(A))/e_size, length = cut)\n",
    "aux2 = ones(eltype(A), a_size - cut)/e_size  # can be empty\n",
    "aux = [aux1; aux2]           # 350x1\n",
    "F0 = repeat(aux, 1, e_size);  # 350x2"
   ]
  },
  {
   "cell_type": "code",
   "execution_count": 17,
   "metadata": {},
   "outputs": [],
   "source": [
    "# Run step2 to check it works\n",
    "Ψ = step2(A, E, Π, solStep1);"
   ]
  },
  {
   "cell_type": "markdown",
   "metadata": {},
   "source": [
    "### Checks for Step3"
   ]
  },
  {
   "cell_type": "code",
   "execution_count": 18,
   "metadata": {},
   "outputs": [],
   "source": [
    "# Test if step3 works\n",
    "q0 = 1.1\n",
    "σ = 1.5\n",
    "a_lb = -2.0\n",
    "(q, policy, Ψ) = step3(A, E, Π, q0, β, σ);"
   ]
  },
  {
   "cell_type": "markdown",
   "metadata": {},
   "source": [
    "### Plots"
   ]
  },
  {
   "cell_type": "code",
   "execution_count": 19,
   "metadata": {},
   "outputs": [
    {
     "data": {
      "image/svg+xml": [
       "<?xml version=\"1.0\" encoding=\"utf-8\"?>\n",
       "<svg xmlns=\"http://www.w3.org/2000/svg\" xmlns:xlink=\"http://www.w3.org/1999/xlink\" width=\"600\" height=\"400\" viewBox=\"0 0 2400 1600\">\n",
       "<defs>\n",
       "  <clipPath id=\"clip600\">\n",
       "    <rect x=\"0\" y=\"0\" width=\"2400\" height=\"1600\"/>\n",
       "  </clipPath>\n",
       "</defs>\n",
       "<path clip-path=\"url(#clip600)\" d=\"\n",
       "M0 1600 L2400 1600 L2400 0 L0 0  Z\n",
       "  \" fill=\"#ffffff\" fill-rule=\"evenodd\" fill-opacity=\"1\"/>\n",
       "<defs>\n",
       "  <clipPath id=\"clip601\">\n",
       "    <rect x=\"480\" y=\"0\" width=\"1681\" height=\"1600\"/>\n",
       "  </clipPath>\n",
       "</defs>\n",
       "<path clip-path=\"url(#clip600)\" d=\"\n",
       "M142.455 1486.45 L2352.76 1486.45 L2352.76 123.472 L142.455 123.472  Z\n",
       "  \" fill=\"#ffffff\" fill-rule=\"evenodd\" fill-opacity=\"1\"/>\n",
       "<defs>\n",
       "  <clipPath id=\"clip602\">\n",
       "    <rect x=\"142\" y=\"123\" width=\"2211\" height=\"1364\"/>\n",
       "  </clipPath>\n",
       "</defs>\n",
       "<polyline clip-path=\"url(#clip602)\" style=\"stroke:#000000; stroke-width:2; stroke-opacity:0.1; fill:none\" points=\"\n",
       "  205.01,1486.45 205.01,123.472 \n",
       "  \"/>\n",
       "<polyline clip-path=\"url(#clip602)\" style=\"stroke:#000000; stroke-width:2; stroke-opacity:0.1; fill:none\" points=\"\n",
       "  809.438,1486.45 809.438,123.472 \n",
       "  \"/>\n",
       "<polyline clip-path=\"url(#clip602)\" style=\"stroke:#000000; stroke-width:2; stroke-opacity:0.1; fill:none\" points=\"\n",
       "  1413.87,1486.45 1413.87,123.472 \n",
       "  \"/>\n",
       "<polyline clip-path=\"url(#clip602)\" style=\"stroke:#000000; stroke-width:2; stroke-opacity:0.1; fill:none\" points=\"\n",
       "  2018.29,1486.45 2018.29,123.472 \n",
       "  \"/>\n",
       "<polyline clip-path=\"url(#clip602)\" style=\"stroke:#000000; stroke-width:2; stroke-opacity:0.1; fill:none\" points=\"\n",
       "  142.455,1447.87 2352.76,1447.87 \n",
       "  \"/>\n",
       "<polyline clip-path=\"url(#clip602)\" style=\"stroke:#000000; stroke-width:2; stroke-opacity:0.1; fill:none\" points=\"\n",
       "  142.455,1075.15 2352.76,1075.15 \n",
       "  \"/>\n",
       "<polyline clip-path=\"url(#clip602)\" style=\"stroke:#000000; stroke-width:2; stroke-opacity:0.1; fill:none\" points=\"\n",
       "  142.455,702.436 2352.76,702.436 \n",
       "  \"/>\n",
       "<polyline clip-path=\"url(#clip602)\" style=\"stroke:#000000; stroke-width:2; stroke-opacity:0.1; fill:none\" points=\"\n",
       "  142.455,329.717 2352.76,329.717 \n",
       "  \"/>\n",
       "<polyline clip-path=\"url(#clip600)\" style=\"stroke:#000000; stroke-width:4; stroke-opacity:1; fill:none\" points=\"\n",
       "  142.455,1486.45 2352.76,1486.45 \n",
       "  \"/>\n",
       "<polyline clip-path=\"url(#clip600)\" style=\"stroke:#000000; stroke-width:4; stroke-opacity:1; fill:none\" points=\"\n",
       "  142.455,1486.45 142.455,123.472 \n",
       "  \"/>\n",
       "<polyline clip-path=\"url(#clip600)\" style=\"stroke:#000000; stroke-width:4; stroke-opacity:1; fill:none\" points=\"\n",
       "  205.01,1486.45 205.01,1470.09 \n",
       "  \"/>\n",
       "<polyline clip-path=\"url(#clip600)\" style=\"stroke:#000000; stroke-width:4; stroke-opacity:1; fill:none\" points=\"\n",
       "  809.438,1486.45 809.438,1470.09 \n",
       "  \"/>\n",
       "<polyline clip-path=\"url(#clip600)\" style=\"stroke:#000000; stroke-width:4; stroke-opacity:1; fill:none\" points=\"\n",
       "  1413.87,1486.45 1413.87,1470.09 \n",
       "  \"/>\n",
       "<polyline clip-path=\"url(#clip600)\" style=\"stroke:#000000; stroke-width:4; stroke-opacity:1; fill:none\" points=\"\n",
       "  2018.29,1486.45 2018.29,1470.09 \n",
       "  \"/>\n",
       "<polyline clip-path=\"url(#clip600)\" style=\"stroke:#000000; stroke-width:4; stroke-opacity:1; fill:none\" points=\"\n",
       "  142.455,1447.87 168.978,1447.87 \n",
       "  \"/>\n",
       "<polyline clip-path=\"url(#clip600)\" style=\"stroke:#000000; stroke-width:4; stroke-opacity:1; fill:none\" points=\"\n",
       "  142.455,1075.15 168.978,1075.15 \n",
       "  \"/>\n",
       "<polyline clip-path=\"url(#clip600)\" style=\"stroke:#000000; stroke-width:4; stroke-opacity:1; fill:none\" points=\"\n",
       "  142.455,702.436 168.978,702.436 \n",
       "  \"/>\n",
       "<polyline clip-path=\"url(#clip600)\" style=\"stroke:#000000; stroke-width:4; stroke-opacity:1; fill:none\" points=\"\n",
       "  142.455,329.717 168.978,329.717 \n",
       "  \"/>\n",
       "<path clip-path=\"url(#clip600)\" d=\"M 0 0 M177.464 1523.09 L207.14 1523.09 L207.14 1527.03 L177.464 1527.03 L177.464 1523.09 Z\" fill=\"#000000\" fill-rule=\"evenodd\" fill-opacity=\"1\" /><path clip-path=\"url(#clip600)\" d=\"M 0 0 M216.237 1535.98 L232.557 1535.98 L232.557 1539.92 L210.612 1539.92 L210.612 1535.98 Q213.274 1533.23 217.858 1528.6 Q222.464 1523.95 223.645 1522.61 Q225.89 1520.08 226.77 1518.35 Q227.672 1516.59 227.672 1514.9 Q227.672 1512.14 225.728 1510.41 Q223.807 1508.67 220.705 1508.67 Q218.506 1508.67 216.052 1509.43 Q213.622 1510.2 210.844 1511.75 L210.844 1507.03 Q213.668 1505.89 216.122 1505.31 Q218.575 1504.73 220.612 1504.73 Q225.983 1504.73 229.177 1507.42 Q232.371 1510.11 232.371 1514.6 Q232.371 1516.73 231.561 1518.65 Q230.774 1520.54 228.668 1523.14 Q228.089 1523.81 224.987 1527.03 Q221.885 1530.22 216.237 1535.98 Z\" fill=\"#000000\" fill-rule=\"evenodd\" fill-opacity=\"1\" /><path clip-path=\"url(#clip600)\" d=\"M 0 0 M781.707 1523.09 L811.383 1523.09 L811.383 1527.03 L781.707 1527.03 L781.707 1523.09 Z\" fill=\"#000000\" fill-rule=\"evenodd\" fill-opacity=\"1\" /><path clip-path=\"url(#clip600)\" d=\"M 0 0 M817.262 1535.98 L824.901 1535.98 L824.901 1509.62 L816.591 1511.29 L816.591 1507.03 L824.855 1505.36 L829.531 1505.36 L829.531 1535.98 L837.17 1535.98 L837.17 1539.92 L817.262 1539.92 L817.262 1535.98 Z\" fill=\"#000000\" fill-rule=\"evenodd\" fill-opacity=\"1\" /><path clip-path=\"url(#clip600)\" d=\"M 0 0 M1413.87 1508.44 Q1410.26 1508.44 1408.43 1512 Q1406.62 1515.55 1406.62 1522.67 Q1406.62 1529.78 1408.43 1533.35 Q1410.26 1536.89 1413.87 1536.89 Q1417.5 1536.89 1419.31 1533.35 Q1421.13 1529.78 1421.13 1522.67 Q1421.13 1515.55 1419.31 1512 Q1417.5 1508.44 1413.87 1508.44 M1413.87 1504.73 Q1419.68 1504.73 1422.73 1509.34 Q1425.81 1513.92 1425.81 1522.67 Q1425.81 1531.4 1422.73 1536.01 Q1419.68 1540.59 1413.87 1540.59 Q1408.06 1540.59 1404.98 1536.01 Q1401.92 1531.4 1401.92 1522.67 Q1401.92 1513.92 1404.98 1509.34 Q1408.06 1504.73 1413.87 1504.73 Z\" fill=\"#000000\" fill-rule=\"evenodd\" fill-opacity=\"1\" /><path clip-path=\"url(#clip600)\" d=\"M 0 0 M2008.68 1535.98 L2016.32 1535.98 L2016.32 1509.62 L2008 1511.29 L2008 1507.03 L2016.27 1505.36 L2020.94 1505.36 L2020.94 1535.98 L2028.58 1535.98 L2028.58 1539.92 L2008.68 1539.92 L2008.68 1535.98 Z\" fill=\"#000000\" fill-rule=\"evenodd\" fill-opacity=\"1\" /><path clip-path=\"url(#clip600)\" d=\"M 0 0 M63.3625 1448.32 L93.0383 1448.32 L93.0383 1452.26 L63.3625 1452.26 L63.3625 1448.32 Z\" fill=\"#000000\" fill-rule=\"evenodd\" fill-opacity=\"1\" /><path clip-path=\"url(#clip600)\" d=\"M 0 0 M102.135 1461.22 L118.455 1461.22 L118.455 1465.15 L96.5105 1465.15 L96.5105 1461.22 Q99.1725 1458.46 103.756 1453.83 Q108.362 1449.18 109.543 1447.84 Q111.788 1445.32 112.668 1443.58 Q113.571 1441.82 113.571 1440.13 Q113.571 1437.38 111.626 1435.64 Q109.705 1433.9 106.603 1433.9 Q104.404 1433.9 101.95 1434.67 Q99.5197 1435.43 96.7419 1436.98 L96.7419 1432.26 Q99.566 1431.13 102.02 1430.55 Q104.473 1429.97 106.51 1429.97 Q111.881 1429.97 115.075 1432.65 Q118.27 1435.34 118.27 1439.83 Q118.27 1441.96 117.459 1443.88 Q116.672 1445.78 114.566 1448.37 Q113.987 1449.04 110.885 1452.26 Q107.784 1455.45 102.135 1461.22 Z\" fill=\"#000000\" fill-rule=\"evenodd\" fill-opacity=\"1\" /><path clip-path=\"url(#clip600)\" d=\"M 0 0 M62.9921 1075.61 L92.6679 1075.61 L92.6679 1079.54 L62.9921 1079.54 L62.9921 1075.61 Z\" fill=\"#000000\" fill-rule=\"evenodd\" fill-opacity=\"1\" /><path clip-path=\"url(#clip600)\" d=\"M 0 0 M98.5475 1088.5 L106.186 1088.5 L106.186 1062.13 L97.8762 1063.8 L97.8762 1059.54 L106.14 1057.87 L110.816 1057.87 L110.816 1088.5 L118.455 1088.5 L118.455 1092.43 L98.5475 1092.43 L98.5475 1088.5 Z\" fill=\"#000000\" fill-rule=\"evenodd\" fill-opacity=\"1\" /><path clip-path=\"url(#clip600)\" d=\"M 0 0 M106.51 688.234 Q102.899 688.234 101.071 691.799 Q99.2651 695.341 99.2651 702.47 Q99.2651 709.577 101.071 713.142 Q102.899 716.683 106.51 716.683 Q110.145 716.683 111.95 713.142 Q113.779 709.577 113.779 702.47 Q113.779 695.341 111.95 691.799 Q110.145 688.234 106.51 688.234 M106.51 684.531 Q112.321 684.531 115.376 689.137 Q118.455 693.72 118.455 702.47 Q118.455 711.197 115.376 715.804 Q112.321 720.387 106.51 720.387 Q100.7 720.387 97.6216 715.804 Q94.566 711.197 94.566 702.47 Q94.566 693.72 97.6216 689.137 Q100.7 684.531 106.51 684.531 Z\" fill=\"#000000\" fill-rule=\"evenodd\" fill-opacity=\"1\" /><path clip-path=\"url(#clip600)\" d=\"M 0 0 M98.5475 343.062 L106.186 343.062 L106.186 316.696 L97.8762 318.363 L97.8762 314.104 L106.14 312.437 L110.816 312.437 L110.816 343.062 L118.455 343.062 L118.455 346.997 L98.5475 346.997 L98.5475 343.062 Z\" fill=\"#000000\" fill-rule=\"evenodd\" fill-opacity=\"1\" /><path clip-path=\"url(#clip600)\" d=\"M 0 0 M992.925 18.8205 L992.925 41.5461 L1003.21 41.5461 Q1008.93 41.5461 1012.05 38.5889 Q1015.16 35.6318 1015.16 30.163 Q1015.16 24.7348 1012.05 21.7777 Q1008.93 18.8205 1003.21 18.8205 L992.925 18.8205 M984.742 12.096 L1003.21 12.096 Q1013.38 12.096 1018.57 16.714 Q1023.79 21.2916 1023.79 30.163 Q1023.79 39.1155 1018.57 43.6931 Q1013.38 48.2706 1003.21 48.2706 L992.925 48.2706 L992.925 72.576 L984.742 72.576 L984.742 12.096 Z\" fill=\"#000000\" fill-rule=\"evenodd\" fill-opacity=\"1\" /><path clip-path=\"url(#clip600)\" d=\"M 0 0 M1046.23 32.4315 Q1040.24 32.4315 1036.76 37.1306 Q1033.27 41.7891 1033.27 49.9314 Q1033.27 58.0738 1036.72 62.7728 Q1040.2 67.4314 1046.23 67.4314 Q1052.19 67.4314 1055.67 62.7323 Q1059.16 58.0333 1059.16 49.9314 Q1059.16 41.8701 1055.67 37.1711 Q1052.19 32.4315 1046.23 32.4315 M1046.23 26.1121 Q1055.96 26.1121 1061.51 32.4315 Q1067.06 38.7509 1067.06 49.9314 Q1067.06 61.0714 1061.51 67.4314 Q1055.96 73.7508 1046.23 73.7508 Q1036.47 73.7508 1030.92 67.4314 Q1025.41 61.0714 1025.41 49.9314 Q1025.41 38.7509 1030.92 32.4315 Q1036.47 26.1121 1046.23 26.1121 Z\" fill=\"#000000\" fill-rule=\"evenodd\" fill-opacity=\"1\" /><path clip-path=\"url(#clip600)\" d=\"M 0 0 M1074.87 9.54393 L1082.33 9.54393 L1082.33 72.576 L1074.87 72.576 L1074.87 9.54393 Z\" fill=\"#000000\" fill-rule=\"evenodd\" fill-opacity=\"1\" /><path clip-path=\"url(#clip600)\" d=\"M 0 0 M1090.15 27.2059 L1097.6 27.2059 L1097.6 72.576 L1090.15 72.576 L1090.15 27.2059 M1090.15 9.54393 L1097.6 9.54393 L1097.6 18.9825 L1090.15 18.9825 L1090.15 9.54393 Z\" fill=\"#000000\" fill-rule=\"evenodd\" fill-opacity=\"1\" /><path clip-path=\"url(#clip600)\" d=\"M 0 0 M1138.07 28.9478 L1138.07 35.9153 Q1134.91 34.1734 1131.71 33.3227 Q1128.55 32.4315 1125.31 32.4315 Q1118.06 32.4315 1114.05 37.0496 Q1110.04 41.6271 1110.04 49.9314 Q1110.04 58.2358 1114.05 62.8538 Q1118.06 67.4314 1125.31 67.4314 Q1128.55 67.4314 1131.71 66.5807 Q1134.91 65.6895 1138.07 63.9476 L1138.07 70.8341 Q1134.95 72.2924 1131.59 73.0216 Q1128.27 73.7508 1124.5 73.7508 Q1114.25 73.7508 1108.21 67.3098 Q1102.18 60.8689 1102.18 49.9314 Q1102.18 38.832 1108.25 32.472 Q1114.37 26.1121 1124.98 26.1121 Q1128.43 26.1121 1131.71 26.8413 Q1134.99 27.5299 1138.07 28.9478 Z\" fill=\"#000000\" fill-rule=\"evenodd\" fill-opacity=\"1\" /><path clip-path=\"url(#clip600)\" d=\"M 0 0 M1164.76 76.7889 Q1161.6 84.8907 1158.61 87.3618 Q1155.61 89.8329 1150.59 89.8329 L1144.63 89.8329 L1144.63 83.5945 L1149.01 83.5945 Q1152.09 83.5945 1153.79 82.1361 Q1155.49 80.6778 1157.55 75.2496 L1158.89 71.8468 L1140.54 27.2059 L1148.44 27.2059 L1162.62 62.6918 L1176.8 27.2059 L1184.69 27.2059 L1164.76 76.7889 Z\" fill=\"#000000\" fill-rule=\"evenodd\" fill-opacity=\"1\" /><path clip-path=\"url(#clip600)\" d=\"M 0 0 M1241.85 9.54393 L1241.85 15.7418 L1234.72 15.7418 Q1230.71 15.7418 1229.13 17.3622 Q1227.59 18.9825 1227.59 23.1955 L1227.59 27.2059 L1239.87 27.2059 L1239.87 32.9987 L1227.59 32.9987 L1227.59 72.576 L1220.1 72.576 L1220.1 32.9987 L1212.97 32.9987 L1212.97 27.2059 L1220.1 27.2059 L1220.1 24.0462 Q1220.1 16.471 1223.62 13.0277 Q1227.15 9.54393 1234.8 9.54393 L1241.85 9.54393 Z\" fill=\"#000000\" fill-rule=\"evenodd\" fill-opacity=\"1\" /><path clip-path=\"url(#clip600)\" d=\"M 0 0 M1248.9 54.671 L1248.9 27.2059 L1256.36 27.2059 L1256.36 54.3874 Q1256.36 60.8284 1258.87 64.0691 Q1261.38 67.2693 1266.4 67.2693 Q1272.44 67.2693 1275.92 63.421 Q1279.45 59.5726 1279.45 52.9291 L1279.45 27.2059 L1286.9 27.2059 L1286.9 72.576 L1279.45 72.576 L1279.45 65.6084 Q1276.73 69.7404 1273.13 71.7658 Q1269.56 73.7508 1264.82 73.7508 Q1257 73.7508 1252.95 68.8897 Q1248.9 64.0286 1248.9 54.671 M1267.66 26.1121 L1267.66 26.1121 Z\" fill=\"#000000\" fill-rule=\"evenodd\" fill-opacity=\"1\" /><path clip-path=\"url(#clip600)\" d=\"M 0 0 M1332.43 45.1919 L1332.43 72.576 L1324.98 72.576 L1324.98 45.4349 Q1324.98 38.994 1322.47 35.7938 Q1319.95 32.5936 1314.93 32.5936 Q1308.9 32.5936 1305.41 36.4419 Q1301.93 40.2903 1301.93 46.9338 L1301.93 72.576 L1294.43 72.576 L1294.43 27.2059 L1301.93 27.2059 L1301.93 34.2544 Q1304.6 30.163 1308.21 28.1376 Q1311.85 26.1121 1316.59 26.1121 Q1324.41 26.1121 1328.42 30.9732 Q1332.43 35.7938 1332.43 45.1919 Z\" fill=\"#000000\" fill-rule=\"evenodd\" fill-opacity=\"1\" /><path clip-path=\"url(#clip600)\" d=\"M 0 0 M1372.9 28.9478 L1372.9 35.9153 Q1369.74 34.1734 1366.54 33.3227 Q1363.38 32.4315 1360.14 32.4315 Q1352.89 32.4315 1348.88 37.0496 Q1344.87 41.6271 1344.87 49.9314 Q1344.87 58.2358 1348.88 62.8538 Q1352.89 67.4314 1360.14 67.4314 Q1363.38 67.4314 1366.54 66.5807 Q1369.74 65.6895 1372.9 63.9476 L1372.9 70.8341 Q1369.78 72.2924 1366.42 73.0216 Q1363.1 73.7508 1359.33 73.7508 Q1349.08 73.7508 1343.04 67.3098 Q1337.01 60.8689 1337.01 49.9314 Q1337.01 38.832 1343.09 32.472 Q1349.2 26.1121 1359.82 26.1121 Q1363.26 26.1121 1366.54 26.8413 Q1369.82 27.5299 1372.9 28.9478 Z\" fill=\"#000000\" fill-rule=\"evenodd\" fill-opacity=\"1\" /><path clip-path=\"url(#clip600)\" d=\"M 0 0 M1388.09 14.324 L1388.09 27.2059 L1403.44 27.2059 L1403.44 32.9987 L1388.09 32.9987 L1388.09 57.6282 Q1388.09 63.1779 1389.59 64.7578 Q1391.13 66.3376 1395.79 66.3376 L1403.44 66.3376 L1403.44 72.576 L1395.79 72.576 Q1387.16 72.576 1383.88 69.3758 Q1380.6 66.1351 1380.6 57.6282 L1380.6 32.9987 L1375.13 32.9987 L1375.13 27.2059 L1380.6 27.2059 L1380.6 14.324 L1388.09 14.324 Z\" fill=\"#000000\" fill-rule=\"evenodd\" fill-opacity=\"1\" /><path clip-path=\"url(#clip600)\" d=\"M 0 0 M1411.26 27.2059 L1418.72 27.2059 L1418.72 72.576 L1411.26 72.576 L1411.26 27.2059 M1411.26 9.54393 L1418.72 9.54393 L1418.72 18.9825 L1411.26 18.9825 L1411.26 9.54393 Z\" fill=\"#000000\" fill-rule=\"evenodd\" fill-opacity=\"1\" /><path clip-path=\"url(#clip600)\" d=\"M 0 0 M1444.11 32.4315 Q1438.12 32.4315 1434.64 37.1306 Q1431.15 41.7891 1431.15 49.9314 Q1431.15 58.0738 1434.6 62.7728 Q1438.08 67.4314 1444.11 67.4314 Q1450.07 67.4314 1453.55 62.7323 Q1457.04 58.0333 1457.04 49.9314 Q1457.04 41.8701 1453.55 37.1711 Q1450.07 32.4315 1444.11 32.4315 M1444.11 26.1121 Q1453.84 26.1121 1459.39 32.4315 Q1464.94 38.7509 1464.94 49.9314 Q1464.94 61.0714 1459.39 67.4314 Q1453.84 73.7508 1444.11 73.7508 Q1434.35 73.7508 1428.8 67.4314 Q1423.29 61.0714 1423.29 49.9314 Q1423.29 38.7509 1428.8 32.4315 Q1434.35 26.1121 1444.11 26.1121 Z\" fill=\"#000000\" fill-rule=\"evenodd\" fill-opacity=\"1\" /><path clip-path=\"url(#clip600)\" d=\"M 0 0 M1510.47 45.1919 L1510.47 72.576 L1503.01 72.576 L1503.01 45.4349 Q1503.01 38.994 1500.5 35.7938 Q1497.99 32.5936 1492.97 32.5936 Q1486.93 32.5936 1483.45 36.4419 Q1479.97 40.2903 1479.97 46.9338 L1479.97 72.576 L1472.47 72.576 L1472.47 27.2059 L1479.97 27.2059 L1479.97 34.2544 Q1482.64 30.163 1486.24 28.1376 Q1489.89 26.1121 1494.63 26.1121 Q1502.45 26.1121 1506.46 30.9732 Q1510.47 35.7938 1510.47 45.1919 Z\" fill=\"#000000\" fill-rule=\"evenodd\" fill-opacity=\"1\" /><polyline clip-path=\"url(#clip602)\" style=\"stroke:#009af9; stroke-width:8; stroke-opacity:1; fill:none\" points=\"\n",
       "  205.01,1447.87 217.134,1447.87 229.257,1447.87 241.38,1447.87 253.503,1447.87 265.626,1440.4 277.75,1440.4 289.873,1432.92 301.996,1432.92 314.119,1432.92 \n",
       "  326.242,1425.45 338.366,1425.45 350.489,1417.97 362.612,1417.97 374.735,1410.49 386.858,1403.02 398.982,1403.02 411.105,1395.54 423.228,1395.54 435.351,1388.07 \n",
       "  447.474,1388.07 459.598,1380.59 471.721,1373.12 483.844,1373.12 495.967,1365.64 508.09,1365.64 520.214,1358.16 532.337,1350.69 544.46,1343.21 556.583,1343.21 \n",
       "  568.706,1335.74 580.83,1328.26 592.953,1328.26 605.076,1320.79 617.199,1313.31 629.322,1305.83 641.446,1305.83 653.569,1298.36 665.692,1298.36 677.815,1290.88 \n",
       "  689.938,1283.41 702.062,1275.93 714.185,1275.93 726.308,1268.46 738.431,1268.46 750.554,1260.98 762.678,1253.5 774.801,1246.03 786.924,1238.55 799.047,1238.55 \n",
       "  811.17,1231.08 823.293,1223.6 835.417,1216.13 847.54,1216.13 859.663,1208.65 871.786,1201.17 883.909,1193.7 896.033,1186.22 908.156,1186.22 920.279,1178.75 \n",
       "  932.402,1171.27 944.525,1171.27 956.649,1163.8 968.772,1156.32 980.895,1148.84 993.018,1141.37 1005.14,1141.37 1017.26,1133.89 1029.39,1126.42 1041.51,1118.94 \n",
       "  1053.63,1111.47 1065.76,1111.47 1077.88,1103.99 1090,1096.51 1102.13,1089.04 1114.25,1081.56 1126.37,1074.09 1138.5,1074.09 1150.62,1066.61 1162.74,1059.13 \n",
       "  1174.87,1051.66 1186.99,1044.18 1199.11,1044.18 1211.24,1036.71 1223.36,1029.23 1235.48,1021.76 1247.61,1014.28 1259.73,1006.8 1271.85,1006.8 1283.97,999.329 \n",
       "  1296.1,991.853 1308.22,984.378 1320.34,976.902 1332.47,976.902 1344.59,969.426 1356.71,961.95 1368.84,954.475 1380.96,946.999 1393.08,939.523 1405.21,939.523 \n",
       "  1417.33,932.047 1429.45,924.572 1441.58,917.096 1453.7,909.62 1465.82,902.145 1477.95,902.145 1490.07,894.669 1502.19,887.193 1514.32,879.717 1526.44,872.242 \n",
       "  1538.56,864.766 1550.69,857.29 1562.81,857.29 1574.93,849.814 1587.05,842.339 1599.18,834.863 1611.3,827.387 1623.42,819.911 1635.55,812.436 1647.67,804.96 \n",
       "  1659.79,804.96 1671.92,797.484 1684.04,790.009 1696.16,782.533 1708.29,775.057 1720.41,767.581 1732.53,760.106 1744.66,760.106 1756.78,752.63 1768.9,745.154 \n",
       "  1781.03,737.678 1793.15,730.203 1805.27,722.727 1817.4,715.251 1829.52,707.775 1841.64,707.775 1853.77,700.3 1865.89,692.824 1878.01,685.348 1890.13,677.873 \n",
       "  1902.26,670.397 1914.38,662.921 1926.5,655.445 1938.63,647.97 1950.75,647.97 1962.87,640.494 1975,633.018 1987.12,625.542 1999.24,618.067 2011.37,610.591 \n",
       "  2023.49,603.115 2035.61,595.639 2047.74,588.164 2059.86,588.164 2071.98,580.688 2084.11,573.212 2096.23,565.737 2108.35,558.261 2120.48,550.785 2132.6,543.309 \n",
       "  2144.72,535.834 2156.85,528.358 2168.97,528.358 2181.09,520.882 2193.21,513.406 2205.34,505.931 2217.46,498.455 2229.58,490.979 2241.71,483.503 2253.83,476.028 \n",
       "  2265.95,468.552 2278.08,461.076 2290.2,461.076 \n",
       "  \"/>\n",
       "<polyline clip-path=\"url(#clip602)\" style=\"stroke:#e26f46; stroke-width:8; stroke-opacity:1; fill:none\" points=\"\n",
       "  205.01,1313.31 217.134,1313.31 229.257,1305.83 241.38,1298.36 253.503,1290.88 265.626,1290.88 277.75,1283.41 289.873,1275.93 301.996,1268.46 314.119,1260.98 \n",
       "  326.242,1260.98 338.366,1253.5 350.489,1246.03 362.612,1238.55 374.735,1231.08 386.858,1223.6 398.982,1223.6 411.105,1216.13 423.228,1208.65 435.351,1201.17 \n",
       "  447.474,1193.7 459.598,1186.22 471.721,1186.22 483.844,1178.75 495.967,1171.27 508.09,1163.8 520.214,1156.32 532.337,1148.84 544.46,1148.84 556.583,1141.37 \n",
       "  568.706,1133.89 580.83,1126.42 592.953,1118.94 605.076,1111.47 617.199,1111.47 629.322,1103.99 641.446,1096.51 653.569,1089.04 665.692,1081.56 677.815,1074.09 \n",
       "  689.938,1066.61 702.062,1059.13 714.185,1059.13 726.308,1051.66 738.431,1044.18 750.554,1036.71 762.678,1029.23 774.801,1021.76 786.924,1014.28 799.047,1006.8 \n",
       "  811.17,1006.8 823.293,999.329 835.417,991.853 847.54,984.378 859.663,976.902 871.786,969.426 883.909,961.95 896.033,954.475 908.156,946.999 920.279,946.999 \n",
       "  932.402,939.523 944.525,932.047 956.649,924.572 968.772,917.096 980.895,909.62 993.018,902.145 1005.14,894.669 1017.26,887.193 1029.39,887.193 1041.51,879.717 \n",
       "  1053.63,872.242 1065.76,864.766 1077.88,857.29 1090,849.814 1102.13,842.339 1114.25,834.863 1126.37,827.387 1138.5,827.387 1150.62,819.911 1162.74,812.436 \n",
       "  1174.87,804.96 1186.99,797.484 1199.11,790.009 1211.24,782.533 1223.36,775.057 1235.48,767.581 1247.61,760.106 1259.73,752.63 1271.85,752.63 1283.97,745.154 \n",
       "  1296.1,737.678 1308.22,730.203 1320.34,722.727 1332.47,715.251 1344.59,707.775 1356.71,700.3 1368.84,692.824 1380.96,685.348 1393.08,677.873 1405.21,677.873 \n",
       "  1417.33,670.397 1429.45,662.921 1441.58,655.445 1453.7,647.97 1465.82,640.494 1477.95,633.018 1490.07,625.542 1502.19,618.067 1514.32,610.591 1526.44,603.115 \n",
       "  1538.56,595.639 1550.69,595.639 1562.81,588.164 1574.93,580.688 1587.05,573.212 1599.18,565.737 1611.3,558.261 1623.42,550.785 1635.55,543.309 1647.67,535.834 \n",
       "  1659.79,528.358 1671.92,520.882 1684.04,513.406 1696.16,513.406 1708.29,505.931 1720.41,498.455 1732.53,490.979 1744.66,483.503 1756.78,476.028 1768.9,468.552 \n",
       "  1781.03,461.076 1793.15,453.601 1805.27,446.125 1817.4,438.649 1829.52,431.173 1841.64,423.698 1853.77,423.698 1865.89,416.222 1878.01,408.746 1890.13,401.27 \n",
       "  1902.26,393.795 1914.38,386.319 1926.5,378.843 1938.63,371.367 1950.75,363.892 1962.87,356.416 1975,348.94 1987.12,341.465 1999.24,333.989 2011.37,326.513 \n",
       "  2023.49,319.037 2035.61,311.562 2047.74,311.562 2059.86,304.086 2071.98,296.61 2084.11,289.134 2096.23,281.659 2108.35,274.183 2120.48,266.707 2132.6,259.231 \n",
       "  2144.72,251.756 2156.85,251.756 2168.97,244.28 2181.09,236.804 2193.21,229.329 2205.34,221.853 2217.46,214.377 2229.58,206.901 2241.71,199.426 2253.83,191.95 \n",
       "  2265.95,184.474 2278.08,176.998 2290.2,169.523 \n",
       "  \"/>\n",
       "<polyline clip-path=\"url(#clip602)\" style=\"stroke:#3da44d; stroke-width:8; stroke-opacity:1; fill:none\" points=\"\n",
       "  205.01,1447.87 217.134,1440.4 229.257,1432.92 241.38,1425.45 253.503,1417.97 265.626,1410.49 277.75,1403.02 289.873,1395.54 301.996,1388.07 314.119,1380.59 \n",
       "  326.242,1373.12 338.366,1365.64 350.489,1358.16 362.612,1350.69 374.735,1343.21 386.858,1335.74 398.982,1328.26 411.105,1320.79 423.228,1313.31 435.351,1305.83 \n",
       "  447.474,1298.36 459.598,1290.88 471.721,1283.41 483.844,1275.93 495.967,1268.46 508.09,1260.98 520.214,1253.5 532.337,1246.03 544.46,1238.55 556.583,1231.08 \n",
       "  568.706,1223.6 580.83,1216.13 592.953,1208.65 605.076,1201.17 617.199,1193.7 629.322,1186.22 641.446,1178.75 653.569,1171.27 665.692,1163.8 677.815,1156.32 \n",
       "  689.938,1148.84 702.062,1141.37 714.185,1133.89 726.308,1126.42 738.431,1118.94 750.554,1111.47 762.678,1103.99 774.801,1096.51 786.924,1089.04 799.047,1081.56 \n",
       "  811.17,1074.09 823.293,1066.61 835.417,1059.13 847.54,1051.66 859.663,1044.18 871.786,1036.71 883.909,1029.23 896.033,1021.76 908.156,1014.28 920.279,1006.8 \n",
       "  932.402,999.329 944.525,991.853 956.649,984.378 968.772,976.902 980.895,969.426 993.018,961.95 1005.14,954.475 1017.26,946.999 1029.39,939.523 1041.51,932.047 \n",
       "  1053.63,924.572 1065.76,917.096 1077.88,909.62 1090,902.145 1102.13,894.669 1114.25,887.193 1126.37,879.717 1138.5,872.242 1150.62,864.766 1162.74,857.29 \n",
       "  1174.87,849.814 1186.99,842.339 1199.11,834.863 1211.24,827.387 1223.36,819.911 1235.48,812.436 1247.61,804.96 1259.73,797.484 1271.85,790.009 1283.97,782.533 \n",
       "  1296.1,775.057 1308.22,767.581 1320.34,760.106 1332.47,752.63 1344.59,745.154 1356.71,737.678 1368.84,730.203 1380.96,722.727 1393.08,715.251 1405.21,707.775 \n",
       "  1417.33,700.3 1429.45,692.824 1441.58,685.348 1453.7,677.873 1465.82,670.397 1477.95,662.921 1490.07,655.445 1502.19,647.97 1514.32,640.494 1526.44,633.018 \n",
       "  1538.56,625.542 1550.69,618.067 1562.81,610.591 1574.93,603.115 1587.05,595.639 1599.18,588.164 1611.3,580.688 1623.42,573.212 1635.55,565.737 1647.67,558.261 \n",
       "  1659.79,550.785 1671.92,543.309 1684.04,535.834 1696.16,528.358 1708.29,520.882 1720.41,513.406 1732.53,505.931 1744.66,498.455 1756.78,490.979 1768.9,483.503 \n",
       "  1781.03,476.028 1793.15,468.552 1805.27,461.076 1817.4,453.601 1829.52,446.125 1841.64,438.649 1853.77,431.173 1865.89,423.698 1878.01,416.222 1890.13,408.746 \n",
       "  1902.26,401.27 1914.38,393.795 1926.5,386.319 1938.63,378.843 1950.75,371.367 1962.87,363.892 1975,356.416 1987.12,348.94 1999.24,341.465 2011.37,333.989 \n",
       "  2023.49,326.513 2035.61,319.037 2047.74,311.562 2059.86,304.086 2071.98,296.61 2084.11,289.134 2096.23,281.659 2108.35,274.183 2120.48,266.707 2132.6,259.231 \n",
       "  2144.72,251.756 2156.85,244.28 2168.97,236.804 2181.09,229.329 2193.21,221.853 2205.34,214.377 2217.46,206.901 2229.58,199.426 2241.71,191.95 2253.83,184.474 \n",
       "  2265.95,176.998 2278.08,169.523 2290.2,162.047 \n",
       "  \"/>\n",
       "<path clip-path=\"url(#clip600)\" d=\"\n",
       "M216.131 410.825 L532.114 410.825 L532.114 168.905 L216.131 168.905  Z\n",
       "  \" fill=\"#ffffff\" fill-rule=\"evenodd\" fill-opacity=\"1\"/>\n",
       "<polyline clip-path=\"url(#clip600)\" style=\"stroke:#000000; stroke-width:4; stroke-opacity:1; fill:none\" points=\"\n",
       "  216.131,410.825 532.114,410.825 532.114,168.905 216.131,168.905 216.131,410.825 \n",
       "  \"/>\n",
       "<polyline clip-path=\"url(#clip600)\" style=\"stroke:#009af9; stroke-width:4; stroke-opacity:1; fill:none\" points=\"\n",
       "  240.69,229.385 388.044,229.385 \n",
       "  \"/>\n",
       "<path clip-path=\"url(#clip600)\" d=\"M 0 0 M436.63 232.637 L436.63 234.72 L417.047 234.72 Q417.325 239.118 419.686 241.433 Q422.07 243.725 426.306 243.725 Q428.76 243.725 431.052 243.123 Q433.366 242.521 435.635 241.317 L435.635 245.345 Q433.343 246.317 430.936 246.827 Q428.529 247.336 426.052 247.336 Q419.848 247.336 416.214 243.725 Q412.603 240.114 412.603 233.956 Q412.603 227.591 416.029 223.864 Q419.478 220.114 425.311 220.114 Q430.542 220.114 433.575 223.493 Q436.63 226.85 436.63 232.637 M432.371 231.387 Q432.325 227.892 430.404 225.808 Q428.505 223.725 425.357 223.725 Q421.792 223.725 419.64 225.739 Q417.51 227.753 417.186 231.41 L432.371 231.387 Z\" fill=\"#000000\" fill-rule=\"evenodd\" fill-opacity=\"1\" /><path clip-path=\"url(#clip600)\" d=\"M 0 0 M441.283 212.105 L445.959 212.105 L445.959 242.729 L462.788 242.729 L462.788 246.665 L441.283 246.665 L441.283 212.105 Z\" fill=\"#000000\" fill-rule=\"evenodd\" fill-opacity=\"1\" /><polyline clip-path=\"url(#clip600)\" style=\"stroke:#e26f46; stroke-width:4; stroke-opacity:1; fill:none\" points=\"\n",
       "  240.69,289.865 388.044,289.865 \n",
       "  \"/>\n",
       "<path clip-path=\"url(#clip600)\" d=\"M 0 0 M436.63 293.117 L436.63 295.2 L417.047 295.2 Q417.325 299.598 419.686 301.913 Q422.07 304.205 426.306 304.205 Q428.76 304.205 431.052 303.603 Q433.366 303.001 435.635 301.797 L435.635 305.825 Q433.343 306.797 430.936 307.307 Q428.529 307.816 426.052 307.816 Q419.848 307.816 416.214 304.205 Q412.603 300.594 412.603 294.436 Q412.603 288.071 416.029 284.344 Q419.478 280.594 425.311 280.594 Q430.542 280.594 433.575 283.973 Q436.63 287.33 436.63 293.117 M432.371 291.867 Q432.325 288.372 430.404 286.288 Q428.505 284.205 425.357 284.205 Q421.792 284.205 419.64 286.219 Q417.51 288.233 417.186 291.89 L432.371 291.867 Z\" fill=\"#000000\" fill-rule=\"evenodd\" fill-opacity=\"1\" /><path clip-path=\"url(#clip600)\" d=\"M 0 0 M441.283 272.585 L445.959 272.585 L445.959 286.751 L462.95 286.751 L462.95 272.585 L467.626 272.585 L467.626 307.145 L462.95 307.145 L462.95 290.686 L445.959 290.686 L445.959 307.145 L441.283 307.145 L441.283 272.585 Z\" fill=\"#000000\" fill-rule=\"evenodd\" fill-opacity=\"1\" /><polyline clip-path=\"url(#clip600)\" style=\"stroke:#3da44d; stroke-width:4; stroke-opacity:1; fill:none\" points=\"\n",
       "  240.69,350.345 388.044,350.345 \n",
       "  \"/>\n",
       "<path clip-path=\"url(#clip600)\" d=\"M 0 0 M428.204 337.139 L416.399 355.588 L428.204 355.588 L428.204 337.139 M426.978 333.065 L432.857 333.065 L432.857 355.588 L437.788 355.588 L437.788 359.477 L432.857 359.477 L432.857 367.625 L428.204 367.625 L428.204 359.477 L412.603 359.477 L412.603 354.963 L426.978 333.065 Z\" fill=\"#000000\" fill-rule=\"evenodd\" fill-opacity=\"1\" /><path clip-path=\"url(#clip600)\" d=\"M 0 0 M442.903 333.065 L461.26 333.065 L461.26 337 L447.186 337 L447.186 345.472 Q448.204 345.125 449.223 344.963 Q450.241 344.778 451.26 344.778 Q457.047 344.778 460.427 347.949 Q463.806 351.12 463.806 356.537 Q463.806 362.115 460.334 365.217 Q456.862 368.296 450.542 368.296 Q448.366 368.296 446.098 367.926 Q443.853 367.555 441.445 366.814 L441.445 362.115 Q443.528 363.25 445.751 363.805 Q447.973 364.361 450.45 364.361 Q454.454 364.361 456.792 362.254 Q459.13 360.148 459.13 356.537 Q459.13 352.926 456.792 350.819 Q454.454 348.713 450.45 348.713 Q448.575 348.713 446.7 349.129 Q444.848 349.546 442.903 350.426 L442.903 333.065 Z\" fill=\"#000000\" fill-rule=\"evenodd\" fill-opacity=\"1\" /><path clip-path=\"url(#clip600)\" d=\"M 0 0 M475.658 335.426 Q473.806 335.426 472.533 336.722 Q471.26 337.995 471.26 339.847 Q471.26 341.676 472.533 342.949 Q473.806 344.199 475.658 344.199 Q477.51 344.199 478.783 342.949 Q480.056 341.676 480.056 339.847 Q480.056 338.018 478.76 336.722 Q477.487 335.426 475.658 335.426 M475.658 332.44 Q477.139 332.44 478.505 333.018 Q479.871 333.574 480.866 334.639 Q481.931 335.68 482.463 337 Q482.996 338.319 482.996 339.847 Q482.996 342.903 480.843 345.032 Q478.713 347.139 475.612 347.139 Q472.487 347.139 470.403 345.055 Q468.32 342.972 468.32 339.847 Q468.32 336.745 470.45 334.592 Q472.579 332.44 475.658 332.44 Z\" fill=\"#000000\" fill-rule=\"evenodd\" fill-opacity=\"1\" /></svg>\n"
      ]
     },
     "execution_count": 19,
     "metadata": {},
     "output_type": "execute_result"
    }
   ],
   "source": [
    "# Plot policy functions to check what is happening\n",
    "\n",
    "# Find endogenous a upper bar (use aUB+20 in graphs to see the intersection)\n",
    "aUB = findfirst(policy[:,2] - A[:] .<= 0.001)  \n",
    "\n",
    "# Unconstrained plot\n",
    "p1 = plot(A, [policy A], linewidth = 2, title = \"Policy function\", label = [\"eL\" \"eH\" \"45°\"], legend =:topleft)\n",
    "\n",
    "# Constrained to endogenous a_UpperBar\n",
    "p1B = plot(A[1:aUB+20], [policy[1:aUB+20,:] A[1:aUB+20]], linewidth = 2, \n",
    "    title = \"Policy function\", label = [\"eL\" \"eH\" \"45°\"], legend =:topleft)"
   ]
  },
  {
   "cell_type": "code",
   "execution_count": 20,
   "metadata": {},
   "outputs": [
    {
     "data": {
      "image/svg+xml": [
       "<?xml version=\"1.0\" encoding=\"utf-8\"?>\n",
       "<svg xmlns=\"http://www.w3.org/2000/svg\" xmlns:xlink=\"http://www.w3.org/1999/xlink\" width=\"600\" height=\"400\" viewBox=\"0 0 2400 1600\">\n",
       "<defs>\n",
       "  <clipPath id=\"clip640\">\n",
       "    <rect x=\"0\" y=\"0\" width=\"2400\" height=\"1600\"/>\n",
       "  </clipPath>\n",
       "</defs>\n",
       "<path clip-path=\"url(#clip640)\" d=\"\n",
       "M0 1600 L2400 1600 L2400 0 L0 0  Z\n",
       "  \" fill=\"#ffffff\" fill-rule=\"evenodd\" fill-opacity=\"1\"/>\n",
       "<defs>\n",
       "  <clipPath id=\"clip641\">\n",
       "    <rect x=\"480\" y=\"0\" width=\"1681\" height=\"1600\"/>\n",
       "  </clipPath>\n",
       "</defs>\n",
       "<path clip-path=\"url(#clip640)\" d=\"\n",
       "M148.334 1486.45 L2352.76 1486.45 L2352.76 123.472 L148.334 123.472  Z\n",
       "  \" fill=\"#ffffff\" fill-rule=\"evenodd\" fill-opacity=\"1\"/>\n",
       "<defs>\n",
       "  <clipPath id=\"clip642\">\n",
       "    <rect x=\"148\" y=\"123\" width=\"2205\" height=\"1364\"/>\n",
       "  </clipPath>\n",
       "</defs>\n",
       "<polyline clip-path=\"url(#clip642)\" style=\"stroke:#000000; stroke-width:2; stroke-opacity:0.1; fill:none\" points=\"\n",
       "  210.724,1486.45 210.724,123.472 \n",
       "  \"/>\n",
       "<polyline clip-path=\"url(#clip642)\" style=\"stroke:#000000; stroke-width:2; stroke-opacity:0.1; fill:none\" points=\"\n",
       "  813.544,1486.45 813.544,123.472 \n",
       "  \"/>\n",
       "<polyline clip-path=\"url(#clip642)\" style=\"stroke:#000000; stroke-width:2; stroke-opacity:0.1; fill:none\" points=\"\n",
       "  1416.36,1486.45 1416.36,123.472 \n",
       "  \"/>\n",
       "<polyline clip-path=\"url(#clip642)\" style=\"stroke:#000000; stroke-width:2; stroke-opacity:0.1; fill:none\" points=\"\n",
       "  2019.18,1486.45 2019.18,123.472 \n",
       "  \"/>\n",
       "<polyline clip-path=\"url(#clip642)\" style=\"stroke:#000000; stroke-width:2; stroke-opacity:0.1; fill:none\" points=\"\n",
       "  148.334,1464.44 2352.76,1464.44 \n",
       "  \"/>\n",
       "<polyline clip-path=\"url(#clip642)\" style=\"stroke:#000000; stroke-width:2; stroke-opacity:0.1; fill:none\" points=\"\n",
       "  148.334,1194.04 2352.76,1194.04 \n",
       "  \"/>\n",
       "<polyline clip-path=\"url(#clip642)\" style=\"stroke:#000000; stroke-width:2; stroke-opacity:0.1; fill:none\" points=\"\n",
       "  148.334,923.643 2352.76,923.643 \n",
       "  \"/>\n",
       "<polyline clip-path=\"url(#clip642)\" style=\"stroke:#000000; stroke-width:2; stroke-opacity:0.1; fill:none\" points=\"\n",
       "  148.334,653.243 2352.76,653.243 \n",
       "  \"/>\n",
       "<polyline clip-path=\"url(#clip642)\" style=\"stroke:#000000; stroke-width:2; stroke-opacity:0.1; fill:none\" points=\"\n",
       "  148.334,382.843 2352.76,382.843 \n",
       "  \"/>\n",
       "<polyline clip-path=\"url(#clip640)\" style=\"stroke:#000000; stroke-width:4; stroke-opacity:1; fill:none\" points=\"\n",
       "  148.334,1486.45 2352.76,1486.45 \n",
       "  \"/>\n",
       "<polyline clip-path=\"url(#clip640)\" style=\"stroke:#000000; stroke-width:4; stroke-opacity:1; fill:none\" points=\"\n",
       "  148.334,1486.45 148.334,123.472 \n",
       "  \"/>\n",
       "<polyline clip-path=\"url(#clip640)\" style=\"stroke:#000000; stroke-width:4; stroke-opacity:1; fill:none\" points=\"\n",
       "  210.724,1486.45 210.724,1470.09 \n",
       "  \"/>\n",
       "<polyline clip-path=\"url(#clip640)\" style=\"stroke:#000000; stroke-width:4; stroke-opacity:1; fill:none\" points=\"\n",
       "  813.544,1486.45 813.544,1470.09 \n",
       "  \"/>\n",
       "<polyline clip-path=\"url(#clip640)\" style=\"stroke:#000000; stroke-width:4; stroke-opacity:1; fill:none\" points=\"\n",
       "  1416.36,1486.45 1416.36,1470.09 \n",
       "  \"/>\n",
       "<polyline clip-path=\"url(#clip640)\" style=\"stroke:#000000; stroke-width:4; stroke-opacity:1; fill:none\" points=\"\n",
       "  2019.18,1486.45 2019.18,1470.09 \n",
       "  \"/>\n",
       "<polyline clip-path=\"url(#clip640)\" style=\"stroke:#000000; stroke-width:4; stroke-opacity:1; fill:none\" points=\"\n",
       "  148.334,1464.44 174.787,1464.44 \n",
       "  \"/>\n",
       "<polyline clip-path=\"url(#clip640)\" style=\"stroke:#000000; stroke-width:4; stroke-opacity:1; fill:none\" points=\"\n",
       "  148.334,1194.04 174.787,1194.04 \n",
       "  \"/>\n",
       "<polyline clip-path=\"url(#clip640)\" style=\"stroke:#000000; stroke-width:4; stroke-opacity:1; fill:none\" points=\"\n",
       "  148.334,923.643 174.787,923.643 \n",
       "  \"/>\n",
       "<polyline clip-path=\"url(#clip640)\" style=\"stroke:#000000; stroke-width:4; stroke-opacity:1; fill:none\" points=\"\n",
       "  148.334,653.243 174.787,653.243 \n",
       "  \"/>\n",
       "<polyline clip-path=\"url(#clip640)\" style=\"stroke:#000000; stroke-width:4; stroke-opacity:1; fill:none\" points=\"\n",
       "  148.334,382.843 174.787,382.843 \n",
       "  \"/>\n",
       "<path clip-path=\"url(#clip640)\" d=\"M 0 0 M183.178 1523.09 L212.853 1523.09 L212.853 1527.03 L183.178 1527.03 L183.178 1523.09 Z\" fill=\"#000000\" fill-rule=\"evenodd\" fill-opacity=\"1\" /><path clip-path=\"url(#clip640)\" d=\"M 0 0 M221.95 1535.98 L238.27 1535.98 L238.27 1539.92 L216.325 1539.92 L216.325 1535.98 Q218.988 1533.23 223.571 1528.6 Q228.177 1523.95 229.358 1522.61 Q231.603 1520.08 232.483 1518.35 Q233.386 1516.59 233.386 1514.9 Q233.386 1512.14 231.441 1510.41 Q229.52 1508.67 226.418 1508.67 Q224.219 1508.67 221.765 1509.43 Q219.335 1510.2 216.557 1511.75 L216.557 1507.03 Q219.381 1505.89 221.835 1505.31 Q224.288 1504.73 226.325 1504.73 Q231.696 1504.73 234.89 1507.42 Q238.085 1510.11 238.085 1514.6 Q238.085 1516.73 237.274 1518.65 Q236.487 1520.54 234.381 1523.14 Q233.802 1523.81 230.7 1527.03 Q227.599 1530.22 221.95 1535.98 Z\" fill=\"#000000\" fill-rule=\"evenodd\" fill-opacity=\"1\" /><path clip-path=\"url(#clip640)\" d=\"M 0 0 M785.812 1523.09 L815.488 1523.09 L815.488 1527.03 L785.812 1527.03 L785.812 1523.09 Z\" fill=\"#000000\" fill-rule=\"evenodd\" fill-opacity=\"1\" /><path clip-path=\"url(#clip640)\" d=\"M 0 0 M821.368 1535.98 L829.007 1535.98 L829.007 1509.62 L820.697 1511.29 L820.697 1507.03 L828.96 1505.36 L833.636 1505.36 L833.636 1535.98 L841.275 1535.98 L841.275 1539.92 L821.368 1539.92 L821.368 1535.98 Z\" fill=\"#000000\" fill-rule=\"evenodd\" fill-opacity=\"1\" /><path clip-path=\"url(#clip640)\" d=\"M 0 0 M1416.36 1508.44 Q1412.75 1508.44 1410.92 1512 Q1409.12 1515.55 1409.12 1522.67 Q1409.12 1529.78 1410.92 1533.35 Q1412.75 1536.89 1416.36 1536.89 Q1420 1536.89 1421.8 1533.35 Q1423.63 1529.78 1423.63 1522.67 Q1423.63 1515.55 1421.8 1512 Q1420 1508.44 1416.36 1508.44 M1416.36 1504.73 Q1422.17 1504.73 1425.23 1509.34 Q1428.31 1513.92 1428.31 1522.67 Q1428.31 1531.4 1425.23 1536.01 Q1422.17 1540.59 1416.36 1540.59 Q1410.55 1540.59 1407.48 1536.01 Q1404.42 1531.4 1404.42 1522.67 Q1404.42 1513.92 1407.48 1509.34 Q1410.55 1504.73 1416.36 1504.73 Z\" fill=\"#000000\" fill-rule=\"evenodd\" fill-opacity=\"1\" /><path clip-path=\"url(#clip640)\" d=\"M 0 0 M2009.57 1535.98 L2017.2 1535.98 L2017.2 1509.62 L2008.89 1511.29 L2008.89 1507.03 L2017.16 1505.36 L2021.83 1505.36 L2021.83 1535.98 L2029.47 1535.98 L2029.47 1539.92 L2009.57 1539.92 L2009.57 1535.98 Z\" fill=\"#000000\" fill-rule=\"evenodd\" fill-opacity=\"1\" /><path clip-path=\"url(#clip640)\" d=\"M 0 0 M75.4226 1450.24 Q71.8115 1450.24 69.9828 1453.81 Q68.1773 1457.35 68.1773 1464.48 Q68.1773 1471.58 69.9828 1475.15 Q71.8115 1478.69 75.4226 1478.69 Q79.0569 1478.69 80.8624 1475.15 Q82.6911 1471.58 82.6911 1464.48 Q82.6911 1457.35 80.8624 1453.81 Q79.0569 1450.24 75.4226 1450.24 M75.4226 1446.54 Q81.2328 1446.54 84.2883 1451.14 Q87.367 1455.73 87.367 1464.48 Q87.367 1473.2 84.2883 1477.81 Q81.2328 1482.39 75.4226 1482.39 Q69.6125 1482.39 66.5338 1477.81 Q63.4782 1473.2 63.4782 1464.48 Q63.4782 1455.73 66.5338 1451.14 Q69.6125 1446.54 75.4226 1446.54 Z\" fill=\"#000000\" fill-rule=\"evenodd\" fill-opacity=\"1\" /><path clip-path=\"url(#clip640)\" d=\"M 0 0 M92.4364 1475.84 L97.3206 1475.84 L97.3206 1481.72 L92.4364 1481.72 L92.4364 1475.84 Z\" fill=\"#000000\" fill-rule=\"evenodd\" fill-opacity=\"1\" /><path clip-path=\"url(#clip640)\" d=\"M 0 0 M112.39 1450.24 Q108.779 1450.24 106.95 1453.81 Q105.145 1457.35 105.145 1464.48 Q105.145 1471.58 106.95 1475.15 Q108.779 1478.69 112.39 1478.69 Q116.024 1478.69 117.83 1475.15 Q119.658 1471.58 119.658 1464.48 Q119.658 1457.35 117.83 1453.81 Q116.024 1450.24 112.39 1450.24 M112.39 1446.54 Q118.2 1446.54 121.256 1451.14 Q124.334 1455.73 124.334 1464.48 Q124.334 1473.2 121.256 1477.81 Q118.2 1482.39 112.39 1482.39 Q106.58 1482.39 103.501 1477.81 Q100.446 1473.2 100.446 1464.48 Q100.446 1455.73 103.501 1451.14 Q106.58 1446.54 112.39 1446.54 Z\" fill=\"#000000\" fill-rule=\"evenodd\" fill-opacity=\"1\" /><path clip-path=\"url(#clip640)\" d=\"M 0 0 M76.6495 1179.84 Q73.0384 1179.84 71.2097 1183.41 Q69.4041 1186.95 69.4041 1194.08 Q69.4041 1201.18 71.2097 1204.75 Q73.0384 1208.29 76.6495 1208.29 Q80.2837 1208.29 82.0892 1204.75 Q83.9179 1201.18 83.9179 1194.08 Q83.9179 1186.95 82.0892 1183.41 Q80.2837 1179.84 76.6495 1179.84 M76.6495 1176.14 Q82.4596 1176.14 85.5152 1180.74 Q88.5938 1185.33 88.5938 1194.08 Q88.5938 1202.8 85.5152 1207.41 Q82.4596 1211.99 76.6495 1211.99 Q70.8393 1211.99 67.7606 1207.41 Q64.7051 1202.8 64.7051 1194.08 Q64.7051 1185.33 67.7606 1180.74 Q70.8393 1176.14 76.6495 1176.14 Z\" fill=\"#000000\" fill-rule=\"evenodd\" fill-opacity=\"1\" /><path clip-path=\"url(#clip640)\" d=\"M 0 0 M93.6633 1205.44 L98.5475 1205.44 L98.5475 1211.32 L93.6633 1211.32 L93.6633 1205.44 Z\" fill=\"#000000\" fill-rule=\"evenodd\" fill-opacity=\"1\" /><path clip-path=\"url(#clip640)\" d=\"M 0 0 M104.427 1207.39 L112.066 1207.39 L112.066 1181.02 L103.756 1182.69 L103.756 1178.43 L112.02 1176.76 L116.696 1176.76 L116.696 1207.39 L124.334 1207.39 L124.334 1211.32 L104.427 1211.32 L104.427 1207.39 Z\" fill=\"#000000\" fill-rule=\"evenodd\" fill-opacity=\"1\" /><path clip-path=\"url(#clip640)\" d=\"M 0 0 M77.0198 909.441 Q73.4087 909.441 71.58 913.006 Q69.7745 916.548 69.7745 923.677 Q69.7745 930.784 71.58 934.349 Q73.4087 937.89 77.0198 937.89 Q80.6541 937.89 82.4596 934.349 Q84.2883 930.784 84.2883 923.677 Q84.2883 916.548 82.4596 913.006 Q80.6541 909.441 77.0198 909.441 M77.0198 905.738 Q82.83 905.738 85.8855 910.344 Q88.9642 914.927 88.9642 923.677 Q88.9642 932.404 85.8855 937.011 Q82.83 941.594 77.0198 941.594 Q71.2097 941.594 68.131 937.011 Q65.0754 932.404 65.0754 923.677 Q65.0754 914.927 68.131 910.344 Q71.2097 905.738 77.0198 905.738 Z\" fill=\"#000000\" fill-rule=\"evenodd\" fill-opacity=\"1\" /><path clip-path=\"url(#clip640)\" d=\"M 0 0 M94.0336 935.043 L98.9179 935.043 L98.9179 940.923 L94.0336 940.923 L94.0336 935.043 Z\" fill=\"#000000\" fill-rule=\"evenodd\" fill-opacity=\"1\" /><path clip-path=\"url(#clip640)\" d=\"M 0 0 M108.015 936.987 L124.334 936.987 L124.334 940.923 L102.39 940.923 L102.39 936.987 Q105.052 934.233 109.635 929.603 Q114.242 924.95 115.422 923.608 Q117.668 921.085 118.547 919.349 Q119.45 917.589 119.45 915.9 Q119.45 913.145 117.506 911.409 Q115.584 909.673 112.483 909.673 Q110.284 909.673 107.83 910.437 Q105.399 911.2 102.622 912.751 L102.622 908.029 Q105.446 906.895 107.899 906.316 Q110.353 905.738 112.39 905.738 Q117.76 905.738 120.955 908.423 Q124.149 911.108 124.149 915.599 Q124.149 917.728 123.339 919.65 Q122.552 921.548 120.446 924.14 Q119.867 924.812 116.765 928.029 Q113.663 931.224 108.015 936.987 Z\" fill=\"#000000\" fill-rule=\"evenodd\" fill-opacity=\"1\" /><path clip-path=\"url(#clip640)\" d=\"M 0 0 M76.0708 639.042 Q72.4597 639.042 70.631 642.606 Q68.8254 646.148 68.8254 653.278 Q68.8254 660.384 70.631 663.949 Q72.4597 667.491 76.0708 667.491 Q79.705 667.491 81.5105 663.949 Q83.3392 660.384 83.3392 653.278 Q83.3392 646.148 81.5105 642.606 Q79.705 639.042 76.0708 639.042 M76.0708 635.338 Q81.8809 635.338 84.9365 639.944 Q88.0151 644.528 88.0151 653.278 Q88.0151 662.004 84.9365 666.611 Q81.8809 671.194 76.0708 671.194 Q70.2606 671.194 67.1819 666.611 Q64.1264 662.004 64.1264 653.278 Q64.1264 644.528 67.1819 639.944 Q70.2606 635.338 76.0708 635.338 Z\" fill=\"#000000\" fill-rule=\"evenodd\" fill-opacity=\"1\" /><path clip-path=\"url(#clip640)\" d=\"M 0 0 M93.0846 664.643 L97.9688 664.643 L97.9688 670.523 L93.0846 670.523 L93.0846 664.643 Z\" fill=\"#000000\" fill-rule=\"evenodd\" fill-opacity=\"1\" /><path clip-path=\"url(#clip640)\" d=\"M 0 0 M117.205 651.889 Q120.561 652.606 122.436 654.875 Q124.334 657.143 124.334 660.477 Q124.334 665.592 120.816 668.393 Q117.297 671.194 110.816 671.194 Q108.64 671.194 106.325 670.754 Q104.034 670.338 101.58 669.481 L101.58 664.967 Q103.524 666.102 105.839 666.68 Q108.154 667.259 110.677 667.259 Q115.075 667.259 117.367 665.523 Q119.682 663.787 119.682 660.477 Q119.682 657.421 117.529 655.708 Q115.399 653.972 111.58 653.972 L107.552 653.972 L107.552 650.129 L111.765 650.129 Q115.214 650.129 117.043 648.764 Q118.871 647.375 118.871 644.782 Q118.871 642.12 116.973 640.708 Q115.098 639.273 111.58 639.273 Q109.659 639.273 107.459 639.69 Q105.26 640.106 102.622 640.986 L102.622 636.819 Q105.284 636.079 107.598 635.708 Q109.936 635.338 111.996 635.338 Q117.321 635.338 120.422 637.768 Q123.524 640.176 123.524 644.296 Q123.524 647.167 121.881 649.157 Q120.237 651.125 117.205 651.889 Z\" fill=\"#000000\" fill-rule=\"evenodd\" fill-opacity=\"1\" /><path clip-path=\"url(#clip640)\" d=\"M 0 0 M74.9365 368.642 Q71.3254 368.642 69.4967 372.207 Q67.6912 375.748 67.6912 382.878 Q67.6912 389.984 69.4967 393.549 Q71.3254 397.091 74.9365 397.091 Q78.5707 397.091 80.3763 393.549 Q82.205 389.984 82.205 382.878 Q82.205 375.748 80.3763 372.207 Q78.5707 368.642 74.9365 368.642 M74.9365 364.938 Q80.7467 364.938 83.8022 369.545 Q86.8809 374.128 86.8809 382.878 Q86.8809 391.605 83.8022 396.211 Q80.7467 400.795 74.9365 400.795 Q69.1264 400.795 66.0477 396.211 Q62.9921 391.605 62.9921 382.878 Q62.9921 374.128 66.0477 369.545 Q69.1264 364.938 74.9365 364.938 Z\" fill=\"#000000\" fill-rule=\"evenodd\" fill-opacity=\"1\" /><path clip-path=\"url(#clip640)\" d=\"M 0 0 M91.9503 394.244 L96.8345 394.244 L96.8345 400.123 L91.9503 400.123 L91.9503 394.244 Z\" fill=\"#000000\" fill-rule=\"evenodd\" fill-opacity=\"1\" /><path clip-path=\"url(#clip640)\" d=\"M 0 0 M114.751 369.637 L102.946 388.086 L114.751 388.086 L114.751 369.637 M113.524 365.563 L119.404 365.563 L119.404 388.086 L124.334 388.086 L124.334 391.975 L119.404 391.975 L119.404 400.123 L114.751 400.123 L114.751 391.975 L99.1493 391.975 L99.1493 387.461 L113.524 365.563 Z\" fill=\"#000000\" fill-rule=\"evenodd\" fill-opacity=\"1\" /><path clip-path=\"url(#clip640)\" d=\"M 0 0 M882.156 14.0809 L882.156 22.0612 Q877.497 19.8332 873.365 18.7395 Q869.234 17.6457 865.385 17.6457 Q858.701 17.6457 855.055 20.2383 Q851.45 22.8309 851.45 27.611 Q851.45 31.6214 853.84 33.6873 Q856.271 35.7128 862.995 36.9686 L867.937 37.9813 Q877.092 39.7232 881.427 44.1387 Q885.802 48.5136 885.802 55.8863 Q885.802 64.6767 879.887 69.2137 Q874.014 73.7508 862.631 73.7508 Q858.337 73.7508 853.476 72.7785 Q848.655 71.8063 843.47 69.9024 L843.47 61.4765 Q848.452 64.2716 853.232 65.6895 Q858.013 67.1073 862.631 67.1073 Q869.639 67.1073 873.446 64.3527 Q877.254 61.598 877.254 56.4939 Q877.254 52.0379 874.5 49.5264 Q871.786 47.0148 865.547 45.759 L860.565 44.7868 Q851.41 42.9639 847.318 39.075 Q843.227 35.1862 843.227 28.2591 Q843.227 20.2383 848.857 15.6203 Q854.529 11.0023 864.453 11.0023 Q868.707 11.0023 873.122 11.7719 Q877.538 12.5416 882.156 14.0809 Z\" fill=\"#000000\" fill-rule=\"evenodd\" fill-opacity=\"1\" /><path clip-path=\"url(#clip640)\" d=\"M 0 0 M900.993 14.324 L900.993 27.2059 L916.346 27.2059 L916.346 32.9987 L900.993 32.9987 L900.993 57.6282 Q900.993 63.1779 902.491 64.7578 Q904.031 66.3376 908.689 66.3376 L916.346 66.3376 L916.346 72.576 L908.689 72.576 Q900.061 72.576 896.78 69.3758 Q893.498 66.1351 893.498 57.6282 L893.498 32.9987 L888.03 32.9987 L888.03 27.2059 L893.498 27.2059 L893.498 14.324 L900.993 14.324 Z\" fill=\"#000000\" fill-rule=\"evenodd\" fill-opacity=\"1\" /><path clip-path=\"url(#clip640)\" d=\"M 0 0 M944.783 49.7694 Q935.749 49.7694 932.266 51.8354 Q928.782 53.9013 928.782 58.8839 Q928.782 62.8538 931.374 65.2034 Q934.007 67.5124 938.504 67.5124 Q944.702 67.5124 948.429 63.1374 Q952.196 58.7219 952.196 51.4303 L952.196 49.7694 L944.783 49.7694 M959.65 46.6907 L959.65 72.576 L952.196 72.576 L952.196 65.6895 Q949.644 69.8214 945.836 71.8063 Q942.028 73.7508 936.519 73.7508 Q929.551 73.7508 925.42 69.8619 Q921.328 65.9325 921.328 59.3701 Q921.328 51.7138 926.432 47.825 Q931.577 43.9361 941.745 43.9361 L952.196 43.9361 L952.196 43.2069 Q952.196 38.0623 948.793 35.2672 Q945.431 32.4315 939.314 32.4315 Q935.425 32.4315 931.739 33.3632 Q928.053 34.295 924.65 36.1584 L924.65 29.2718 Q928.741 27.692 932.59 26.9223 Q936.438 26.1121 940.084 26.1121 Q949.928 26.1121 954.789 31.2163 Q959.65 36.3204 959.65 46.6907 Z\" fill=\"#000000\" fill-rule=\"evenodd\" fill-opacity=\"1\" /><path clip-path=\"url(#clip640)\" d=\"M 0 0 M974.841 14.324 L974.841 27.2059 L990.194 27.2059 L990.194 32.9987 L974.841 32.9987 L974.841 57.6282 Q974.841 63.1779 976.339 64.7578 Q977.879 66.3376 982.537 66.3376 L990.194 66.3376 L990.194 72.576 L982.537 72.576 Q973.909 72.576 970.628 69.3758 Q967.346 66.1351 967.346 57.6282 L967.346 32.9987 L961.878 32.9987 L961.878 27.2059 L967.346 27.2059 L967.346 14.324 L974.841 14.324 Z\" fill=\"#000000\" fill-rule=\"evenodd\" fill-opacity=\"1\" /><path clip-path=\"url(#clip640)\" d=\"M 0 0 M998.012 27.2059 L1005.47 27.2059 L1005.47 72.576 L998.012 72.576 L998.012 27.2059 M998.012 9.54393 L1005.47 9.54393 L1005.47 18.9825 L998.012 18.9825 L998.012 9.54393 Z\" fill=\"#000000\" fill-rule=\"evenodd\" fill-opacity=\"1\" /><path clip-path=\"url(#clip640)\" d=\"M 0 0 M1030.86 32.4315 Q1024.87 32.4315 1021.39 37.1306 Q1017.9 41.7891 1017.9 49.9314 Q1017.9 58.0738 1021.34 62.7728 Q1024.83 67.4314 1030.86 67.4314 Q1036.82 67.4314 1040.3 62.7323 Q1043.79 58.0333 1043.79 49.9314 Q1043.79 41.8701 1040.3 37.1711 Q1036.82 32.4315 1030.86 32.4315 M1030.86 26.1121 Q1040.59 26.1121 1046.14 32.4315 Q1051.69 38.7509 1051.69 49.9314 Q1051.69 61.0714 1046.14 67.4314 Q1040.59 73.7508 1030.86 73.7508 Q1021.1 73.7508 1015.55 67.4314 Q1010.04 61.0714 1010.04 49.9314 Q1010.04 38.7509 1015.55 32.4315 Q1021.1 26.1121 1030.86 26.1121 Z\" fill=\"#000000\" fill-rule=\"evenodd\" fill-opacity=\"1\" /><path clip-path=\"url(#clip640)\" d=\"M 0 0 M1097.22 45.1919 L1097.22 72.576 L1089.76 72.576 L1089.76 45.4349 Q1089.76 38.994 1087.25 35.7938 Q1084.74 32.5936 1079.72 32.5936 Q1073.68 32.5936 1070.2 36.4419 Q1066.72 40.2903 1066.72 46.9338 L1066.72 72.576 L1059.22 72.576 L1059.22 27.2059 L1066.72 27.2059 L1066.72 34.2544 Q1069.39 30.163 1072.99 28.1376 Q1076.64 26.1121 1081.38 26.1121 Q1089.2 26.1121 1093.21 30.9732 Q1097.22 35.7938 1097.22 45.1919 Z\" fill=\"#000000\" fill-rule=\"evenodd\" fill-opacity=\"1\" /><path clip-path=\"url(#clip640)\" d=\"M 0 0 M1125.66 49.7694 Q1116.62 49.7694 1113.14 51.8354 Q1109.65 53.9013 1109.65 58.8839 Q1109.65 62.8538 1112.25 65.2034 Q1114.88 67.5124 1119.38 67.5124 Q1125.57 67.5124 1129.3 63.1374 Q1133.07 58.7219 1133.07 51.4303 L1133.07 49.7694 L1125.66 49.7694 M1140.52 46.6907 L1140.52 72.576 L1133.07 72.576 L1133.07 65.6895 Q1130.52 69.8214 1126.71 71.8063 Q1122.9 73.7508 1117.39 73.7508 Q1110.42 73.7508 1106.29 69.8619 Q1102.2 65.9325 1102.2 59.3701 Q1102.2 51.7138 1107.31 47.825 Q1112.45 43.9361 1122.62 43.9361 L1133.07 43.9361 L1133.07 43.2069 Q1133.07 38.0623 1129.67 35.2672 Q1126.3 32.4315 1120.19 32.4315 Q1116.3 32.4315 1112.61 33.3632 Q1108.93 34.295 1105.52 36.1584 L1105.52 29.2718 Q1109.61 27.692 1113.46 26.9223 Q1117.31 26.1121 1120.96 26.1121 Q1130.8 26.1121 1135.66 31.2163 Q1140.52 36.3204 1140.52 46.6907 Z\" fill=\"#000000\" fill-rule=\"evenodd\" fill-opacity=\"1\" /><path clip-path=\"url(#clip640)\" d=\"M 0 0 M1174.63 34.1734 Q1173.38 33.4443 1171.88 33.1202 Q1170.42 32.7556 1168.64 32.7556 Q1162.32 32.7556 1158.91 36.8875 Q1155.55 40.9789 1155.55 48.6757 L1155.55 72.576 L1148.06 72.576 L1148.06 27.2059 L1155.55 27.2059 L1155.55 34.2544 Q1157.9 30.1225 1161.67 28.1376 Q1165.44 26.1121 1170.82 26.1121 Q1171.59 26.1121 1172.52 26.2337 Q1173.46 26.3147 1174.59 26.5172 L1174.63 34.1734 Z\" fill=\"#000000\" fill-rule=\"evenodd\" fill-opacity=\"1\" /><path clip-path=\"url(#clip640)\" d=\"M 0 0 M1201.33 76.7889 Q1198.17 84.8907 1195.17 87.3618 Q1192.17 89.8329 1187.15 89.8329 L1181.19 89.8329 L1181.19 83.5945 L1185.57 83.5945 Q1188.65 83.5945 1190.35 82.1361 Q1192.05 80.6778 1194.12 75.2496 L1195.45 71.8468 L1177.1 27.2059 L1185 27.2059 L1199.18 62.6918 L1213.36 27.2059 L1221.26 27.2059 L1201.33 76.7889 Z\" fill=\"#000000\" fill-rule=\"evenodd\" fill-opacity=\"1\" /><path clip-path=\"url(#clip640)\" d=\"M 0 0 M1285.3 34.0924 L1285.3 9.54393 L1292.76 9.54393 L1292.76 72.576 L1285.3 72.576 L1285.3 65.7705 Q1282.95 69.8214 1279.35 71.8063 Q1275.78 73.7508 1270.76 73.7508 Q1262.54 73.7508 1257.35 67.1883 Q1252.21 60.6258 1252.21 49.9314 Q1252.21 39.2371 1257.35 32.6746 Q1262.54 26.1121 1270.76 26.1121 Q1275.78 26.1121 1279.35 28.0971 Q1282.95 30.0415 1285.3 34.0924 M1259.9 49.9314 Q1259.9 58.1548 1263.26 62.8538 Q1266.67 67.5124 1272.58 67.5124 Q1278.5 67.5124 1281.9 62.8538 Q1285.3 58.1548 1285.3 49.9314 Q1285.3 41.7081 1281.9 37.0496 Q1278.5 32.3505 1272.58 32.3505 Q1266.67 32.3505 1263.26 37.0496 Q1259.9 41.7081 1259.9 49.9314 Z\" fill=\"#000000\" fill-rule=\"evenodd\" fill-opacity=\"1\" /><path clip-path=\"url(#clip640)\" d=\"M 0 0 M1300.57 27.2059 L1308.03 27.2059 L1308.03 72.576 L1300.57 72.576 L1300.57 27.2059 M1300.57 9.54393 L1308.03 9.54393 L1308.03 18.9825 L1300.57 18.9825 L1300.57 9.54393 Z\" fill=\"#000000\" fill-rule=\"evenodd\" fill-opacity=\"1\" /><path clip-path=\"url(#clip640)\" d=\"M 0 0 M1344.77 28.5427 L1344.77 35.5912 Q1341.61 33.9709 1338.21 33.1607 Q1334.8 32.3505 1331.16 32.3505 Q1325.61 32.3505 1322.81 34.0519 Q1320.06 35.7533 1320.06 39.156 Q1320.06 41.7486 1322.04 43.2475 Q1324.03 44.7058 1330.02 46.0426 L1332.58 46.6097 Q1340.52 48.3111 1343.84 51.4303 Q1347.2 54.509 1347.2 60.0587 Q1347.2 66.3781 1342.18 70.0644 Q1337.19 73.7508 1328.44 73.7508 Q1324.8 73.7508 1320.83 73.0216 Q1316.9 72.3329 1312.52 70.9151 L1312.52 63.2184 Q1316.66 65.3654 1320.67 66.4591 Q1324.68 67.5124 1328.61 67.5124 Q1333.87 67.5124 1336.71 65.73 Q1339.54 63.9071 1339.54 60.6258 Q1339.54 57.5877 1337.48 55.9673 Q1335.45 54.3469 1328.53 52.8481 L1325.93 52.2405 Q1319.01 50.7821 1315.93 47.7845 Q1312.85 44.7463 1312.85 39.4801 Q1312.85 33.0797 1317.39 29.5959 Q1321.92 26.1121 1330.27 26.1121 Q1334.4 26.1121 1338.04 26.7198 Q1341.69 27.3274 1344.77 28.5427 Z\" fill=\"#000000\" fill-rule=\"evenodd\" fill-opacity=\"1\" /><path clip-path=\"url(#clip640)\" d=\"M 0 0 M1362.39 14.324 L1362.39 27.2059 L1377.74 27.2059 L1377.74 32.9987 L1362.39 32.9987 L1362.39 57.6282 Q1362.39 63.1779 1363.89 64.7578 Q1365.43 66.3376 1370.09 66.3376 L1377.74 66.3376 L1377.74 72.576 L1370.09 72.576 Q1361.46 72.576 1358.18 69.3758 Q1354.9 66.1351 1354.9 57.6282 L1354.9 32.9987 L1349.43 32.9987 L1349.43 27.2059 L1354.9 27.2059 L1354.9 14.324 L1362.39 14.324 Z\" fill=\"#000000\" fill-rule=\"evenodd\" fill-opacity=\"1\" /><path clip-path=\"url(#clip640)\" d=\"M 0 0 M1411.85 34.1734 Q1410.6 33.4443 1409.1 33.1202 Q1407.64 32.7556 1405.86 32.7556 Q1399.54 32.7556 1396.13 36.8875 Q1392.77 40.9789 1392.77 48.6757 L1392.77 72.576 L1385.28 72.576 L1385.28 27.2059 L1392.77 27.2059 L1392.77 34.2544 Q1395.12 30.1225 1398.89 28.1376 Q1402.66 26.1121 1408.04 26.1121 Q1408.81 26.1121 1409.75 26.2337 Q1410.68 26.3147 1411.81 26.5172 L1411.85 34.1734 Z\" fill=\"#000000\" fill-rule=\"evenodd\" fill-opacity=\"1\" /><path clip-path=\"url(#clip640)\" d=\"M 0 0 M1419.67 27.2059 L1427.12 27.2059 L1427.12 72.576 L1419.67 72.576 L1419.67 27.2059 M1419.67 9.54393 L1427.12 9.54393 L1427.12 18.9825 L1419.67 18.9825 L1419.67 9.54393 Z\" fill=\"#000000\" fill-rule=\"evenodd\" fill-opacity=\"1\" /><path clip-path=\"url(#clip640)\" d=\"M 0 0 M1467.51 49.9314 Q1467.51 41.7081 1464.11 37.0496 Q1460.75 32.3505 1454.83 32.3505 Q1448.92 32.3505 1445.52 37.0496 Q1442.15 41.7081 1442.15 49.9314 Q1442.15 58.1548 1445.52 62.8538 Q1448.92 67.5124 1454.83 67.5124 Q1460.75 67.5124 1464.11 62.8538 Q1467.51 58.1548 1467.51 49.9314 M1442.15 34.0924 Q1444.5 30.0415 1448.07 28.0971 Q1451.67 26.1121 1456.66 26.1121 Q1464.92 26.1121 1470.06 32.6746 Q1475.25 39.2371 1475.25 49.9314 Q1475.25 60.6258 1470.06 67.1883 Q1464.92 73.7508 1456.66 73.7508 Q1451.67 73.7508 1448.07 71.8063 Q1444.5 69.8214 1442.15 65.7705 L1442.15 72.576 L1434.66 72.576 L1434.66 9.54393 L1442.15 9.54393 L1442.15 34.0924 Z\" fill=\"#000000\" fill-rule=\"evenodd\" fill-opacity=\"1\" /><path clip-path=\"url(#clip640)\" d=\"M 0 0 M1482.3 54.671 L1482.3 27.2059 L1489.75 27.2059 L1489.75 54.3874 Q1489.75 60.8284 1492.26 64.0691 Q1494.77 67.2693 1499.8 67.2693 Q1505.83 67.2693 1509.32 63.421 Q1512.84 59.5726 1512.84 52.9291 L1512.84 27.2059 L1520.29 27.2059 L1520.29 72.576 L1512.84 72.576 L1512.84 65.6084 Q1510.13 69.7404 1506.52 71.7658 Q1502.96 73.7508 1498.22 73.7508 Q1490.4 73.7508 1486.35 68.8897 Q1482.3 64.0286 1482.3 54.671 M1501.05 26.1121 L1501.05 26.1121 Z\" fill=\"#000000\" fill-rule=\"evenodd\" fill-opacity=\"1\" /><path clip-path=\"url(#clip640)\" d=\"M 0 0 M1535.49 14.324 L1535.49 27.2059 L1550.84 27.2059 L1550.84 32.9987 L1535.49 32.9987 L1535.49 57.6282 Q1535.49 63.1779 1536.98 64.7578 Q1538.52 66.3376 1543.18 66.3376 L1550.84 66.3376 L1550.84 72.576 L1543.18 72.576 Q1534.55 72.576 1531.27 69.3758 Q1527.99 66.1351 1527.99 57.6282 L1527.99 32.9987 L1522.52 32.9987 L1522.52 27.2059 L1527.99 27.2059 L1527.99 14.324 L1535.49 14.324 Z\" fill=\"#000000\" fill-rule=\"evenodd\" fill-opacity=\"1\" /><path clip-path=\"url(#clip640)\" d=\"M 0 0 M1558.66 27.2059 L1566.11 27.2059 L1566.11 72.576 L1558.66 72.576 L1558.66 27.2059 M1558.66 9.54393 L1566.11 9.54393 L1566.11 18.9825 L1558.66 18.9825 L1558.66 9.54393 Z\" fill=\"#000000\" fill-rule=\"evenodd\" fill-opacity=\"1\" /><path clip-path=\"url(#clip640)\" d=\"M 0 0 M1591.51 32.4315 Q1585.51 32.4315 1582.03 37.1306 Q1578.55 41.7891 1578.55 49.9314 Q1578.55 58.0738 1581.99 62.7728 Q1585.47 67.4314 1591.51 67.4314 Q1597.46 67.4314 1600.95 62.7323 Q1604.43 58.0333 1604.43 49.9314 Q1604.43 41.8701 1600.95 37.1711 Q1597.46 32.4315 1591.51 32.4315 M1591.51 26.1121 Q1601.23 26.1121 1606.78 32.4315 Q1612.33 38.7509 1612.33 49.9314 Q1612.33 61.0714 1606.78 67.4314 Q1601.23 73.7508 1591.51 73.7508 Q1581.75 73.7508 1576.2 67.4314 Q1570.69 61.0714 1570.69 49.9314 Q1570.69 38.7509 1576.2 32.4315 Q1581.75 26.1121 1591.51 26.1121 Z\" fill=\"#000000\" fill-rule=\"evenodd\" fill-opacity=\"1\" /><path clip-path=\"url(#clip640)\" d=\"M 0 0 M1657.86 45.1919 L1657.86 72.576 L1650.41 72.576 L1650.41 45.4349 Q1650.41 38.994 1647.9 35.7938 Q1645.39 32.5936 1640.36 32.5936 Q1634.33 32.5936 1630.84 36.4419 Q1627.36 40.2903 1627.36 46.9338 L1627.36 72.576 L1619.87 72.576 L1619.87 27.2059 L1627.36 27.2059 L1627.36 34.2544 Q1630.03 30.163 1633.64 28.1376 Q1637.28 26.1121 1642.02 26.1121 Q1649.84 26.1121 1653.85 30.9732 Q1657.86 35.7938 1657.86 45.1919 Z\" fill=\"#000000\" fill-rule=\"evenodd\" fill-opacity=\"1\" /><polyline clip-path=\"url(#clip642)\" style=\"stroke:#009af9; stroke-width:8; stroke-opacity:1; fill:none\" points=\"\n",
       "  210.724,1447.87 222.815,1447.24 234.906,1446.32 246.997,1445.52 259.087,1445.2 271.178,1444.72 283.269,1443.94 295.36,1443.55 307.451,1442.46 319.542,1442.11 \n",
       "  331.633,1441.41 343.724,1440.52 355.815,1440.16 367.906,1439.91 379.997,1439.01 392.088,1438.77 404.179,1437.47 416.27,1437.14 428.361,1436.67 440.452,1435.5 \n",
       "  452.543,1434.49 464.634,1433.8 476.725,1433.34 488.815,1432.41 500.906,1431.41 512.997,1430.65 525.088,1429.95 537.179,1429.46 549.27,1428.33 561.361,1427.72 \n",
       "  573.452,1427.26 585.543,1426.13 597.634,1424.82 609.725,1424.16 621.816,1423.25 633.907,1422 645.998,1421.02 658.089,1419.83 670.18,1419.11 682.271,1417.84 \n",
       "  694.362,1417.03 706.453,1416.02 718.543,1415.24 730.634,1413.99 742.725,1413.43 754.816,1412.06 766.907,1410.81 778.998,1409.9 791.089,1409.32 803.18,1407.73 \n",
       "  815.271,1406.7 827.362,1406.04 839.453,1404.57 851.544,1403.89 863.635,1401.55 875.726,1400.54 887.817,1399.18 899.908,1398.48 911.999,1396.91 924.09,1395.21 \n",
       "  936.181,1393.86 948.271,1393.03 960.362,1391.78 972.453,1389.47 984.544,1388.15 996.635,1387.38 1008.73,1386.35 1020.82,1385.06 1032.91,1382.76 1045,1382.01 \n",
       "  1057.09,1380.99 1069.18,1379.94 1081.27,1377.98 1093.36,1376.49 1105.45,1375.75 1117.54,1372.96 1129.64,1372.13 1141.73,1371.29 1153.82,1370.44 1165.91,1368.25 \n",
       "  1178,1367.31 1190.09,1365.51 1202.18,1363.13 1214.27,1361.97 1226.36,1360.08 1238.45,1359.13 1250.55,1356.76 1262.64,1356.06 1274.73,1354.4 1286.82,1351.94 \n",
       "  1298.91,1351.13 1311,1348.88 1323.09,1346.76 1335.18,1344.83 1347.27,1342.96 1359.36,1342.19 1371.45,1340.56 1383.55,1339.76 1395.64,1337.34 1407.73,1335.71 \n",
       "  1419.82,1335.02 1431.91,1333.55 1444,1332.35 1456.09,1329.36 1468.18,1328.38 1480.27,1327.17 1492.36,1326.24 1504.46,1323.29 1516.55,1322.48 1528.64,1321.42 \n",
       "  1540.73,1320.66 1552.82,1318.21 1564.91,1317.51 1577,1316.53 1589.09,1313.67 1601.18,1311.51 1613.27,1310.76 1625.36,1308.13 1637.46,1307.57 1649.55,1306.82 \n",
       "  1661.64,1304.2 1673.73,1303.64 1685.82,1302.93 1697.91,1300.15 1710,1299.6 1722.09,1295.82 1734.18,1295.34 1746.27,1292.39 1758.36,1291.95 1770.46,1289.57 \n",
       "  1782.55,1289.14 1794.64,1287.2 1806.73,1286.84 1818.82,1285.18 1830.91,1284.88 1843,1283.48 1855.09,1283.19 1867.18,1281.74 1879.27,1280.47 1891.37,1279.32 \n",
       "  1903.46,1278.35 1915.55,1277.49 1927.64,1276.74 1939.73,1276.07 1951.82,1275.45 1963.91,1274.96 1976,1274.44 1988.09,1273.95 2000.18,1273.54 2012.27,1273.2 \n",
       "  2024.37,1272.84 2036.46,1272.47 2048.55,1269.08 2060.64,1269.08 2072.73,1269.08 2084.82,1269.08 2096.91,1269.08 2109,1269.08 2121.09,1269.08 2133.18,1269.08 \n",
       "  2145.28,1269.08 2157.37,1269.08 2169.46,1269.08 2181.55,1269.08 2193.64,1269.08 2205.73,1269.08 2217.82,1269.08 2229.91,1269.08 2242,1269.08 2254.09,1269.08 \n",
       "  2266.18,1269.08 2278.28,1269.08 2290.37,1269.08 \n",
       "  \"/>\n",
       "<polyline clip-path=\"url(#clip642)\" style=\"stroke:#e26f46; stroke-width:8; stroke-opacity:1; fill:none\" points=\"\n",
       "  210.724,1367.7 222.815,1367.07 234.906,1366.15 246.997,1365.35 259.087,1365.03 271.178,1364.55 283.269,1363.77 295.36,1363.38 307.451,1362.29 319.542,1361.94 \n",
       "  331.633,1361.24 343.724,1360.35 355.815,1359.99 367.906,1359.74 379.997,1358.84 392.088,1358.6 404.179,1357.3 416.27,1356.97 428.361,1355.98 440.452,1354.01 \n",
       "  452.543,1352.3 464.634,1350.89 476.725,1349.78 488.815,1348.52 500.906,1346.59 512.997,1344.93 525.088,1343.46 537.179,1342.65 549.27,1341.29 561.361,1339.88 \n",
       "  573.452,1338.09 585.543,1336.68 597.634,1334.54 609.725,1332.2 621.816,1329.8 633.907,1326.41 645.998,1324.35 658.089,1321.51 670.18,1319.34 682.271,1316.78 \n",
       "  694.362,1314.05 706.453,1311.77 718.543,1309.5 730.634,1307 742.725,1304.53 754.816,1299.12 766.907,1295.03 778.998,1292.35 791.089,1289.35 803.18,1285.87 \n",
       "  815.271,1282.61 827.362,1279.52 839.453,1274.19 851.544,1271.32 863.635,1266.92 875.726,1261.27 887.817,1256.42 899.908,1253.39 911.999,1249.21 924.09,1241.58 \n",
       "  936.181,1237.51 948.271,1232.13 960.362,1228.45 972.453,1222.28 984.544,1216.09 996.635,1210.99 1008.73,1207.33 1020.82,1195.78 1032.91,1190.15 1045,1184.69 \n",
       "  1057.09,1180.58 1069.18,1174.13 1081.27,1166.89 1093.36,1161.05 1105.45,1157.07 1117.54,1139.61 1129.64,1133.93 1141.73,1129.6 1153.82,1123.35 1165.91,1114.89 \n",
       "  1178,1108.77 1190.09,1103.55 1202.18,1086.23 1214.27,1076.42 1226.36,1069.25 1238.45,1060.85 1250.55,1053.1 1262.64,1047.82 1274.73,1031.34 1286.82,1020.19 \n",
       "  1298.91,1013.06 1311,1003.42 1323.09,994.51 1335.18,973.408 1347.27,962.206 1359.36,954.936 1371.45,944.939 1383.55,936.961 1395.64,915.67 1407.73,904.684 \n",
       "  1419.82,897.769 1431.91,887.43 1444,879.672 1456.09,848.699 1468.18,841.87 1480.27,831.537 1492.36,824.201 1504.46,794.586 1516.55,787.82 1528.64,777.707 \n",
       "  1540.73,770.864 1552.82,742.763 1564.91,736.231 1577,726.512 1589.09,693.05 1601.18,685.381 1613.27,676.103 1625.36,643.672 1637.46,636.67 1649.55,627.525 \n",
       "  1661.64,595.147 1673.73,588.313 1685.82,579.448 1697.91,545.211 1710,538.423 1722.09,491.79 1734.18,485.929 1746.27,449.519 1758.36,444.109 1770.46,414.727 \n",
       "  1782.55,409.388 1794.64,385.52 1806.73,381.084 1818.82,360.628 1830.91,356.908 1843,339.617 1855.09,336.041 1867.18,318.122 1879.27,302.515 1891.37,288.346 \n",
       "  1903.46,276.313 1915.55,265.682 1927.64,256.512 1939.73,248.198 1951.82,240.639 1963.91,234.489 1976,228.153 1988.09,222.137 2000.18,217 2012.27,212.815 \n",
       "  2024.37,208.433 2036.46,203.768 2048.55,162.047 2060.64,162.047 2072.73,162.047 2084.82,162.047 2096.91,162.047 2109,162.047 2121.09,162.047 2133.18,162.047 \n",
       "  2145.28,162.047 2157.37,162.047 2169.46,162.047 2181.55,162.047 2193.64,162.047 2205.73,162.047 2217.82,162.047 2229.91,162.047 2242,162.047 2254.09,162.047 \n",
       "  2266.18,162.047 2278.28,162.047 2290.37,162.047 \n",
       "  \"/>\n",
       "<path clip-path=\"url(#clip640)\" d=\"\n",
       "M221.815 350.345 L521.774 350.345 L521.774 168.905 L221.815 168.905  Z\n",
       "  \" fill=\"#ffffff\" fill-rule=\"evenodd\" fill-opacity=\"1\"/>\n",
       "<polyline clip-path=\"url(#clip640)\" style=\"stroke:#000000; stroke-width:4; stroke-opacity:1; fill:none\" points=\"\n",
       "  221.815,350.345 521.774,350.345 521.774,168.905 221.815,168.905 221.815,350.345 \n",
       "  \"/>\n",
       "<polyline clip-path=\"url(#clip640)\" style=\"stroke:#009af9; stroke-width:4; stroke-opacity:1; fill:none\" points=\"\n",
       "  246.309,229.385 393.27,229.385 \n",
       "  \"/>\n",
       "<path clip-path=\"url(#clip640)\" d=\"M 0 0 M441.791 232.637 L441.791 234.72 L422.208 234.72 Q422.486 239.118 424.847 241.433 Q427.231 243.725 431.467 243.725 Q433.921 243.725 436.213 243.123 Q438.527 242.521 440.796 241.317 L440.796 245.345 Q438.504 246.317 436.097 246.827 Q433.69 247.336 431.213 247.336 Q425.009 247.336 421.375 243.725 Q417.764 240.114 417.764 233.956 Q417.764 227.591 421.19 223.864 Q424.639 220.114 430.472 220.114 Q435.703 220.114 438.736 223.493 Q441.791 226.85 441.791 232.637 M437.532 231.387 Q437.486 227.892 435.565 225.808 Q433.666 223.725 430.518 223.725 Q426.953 223.725 424.801 225.739 Q422.671 227.753 422.347 231.41 L437.532 231.387 Z\" fill=\"#000000\" fill-rule=\"evenodd\" fill-opacity=\"1\" /><path clip-path=\"url(#clip640)\" d=\"M 0 0 M446.444 212.105 L451.12 212.105 L451.12 242.729 L467.949 242.729 L467.949 246.665 L446.444 246.665 L446.444 212.105 Z\" fill=\"#000000\" fill-rule=\"evenodd\" fill-opacity=\"1\" /><polyline clip-path=\"url(#clip640)\" style=\"stroke:#e26f46; stroke-width:4; stroke-opacity:1; fill:none\" points=\"\n",
       "  246.309,289.865 393.27,289.865 \n",
       "  \"/>\n",
       "<path clip-path=\"url(#clip640)\" d=\"M 0 0 M441.791 293.117 L441.791 295.2 L422.208 295.2 Q422.486 299.598 424.847 301.913 Q427.231 304.205 431.467 304.205 Q433.921 304.205 436.213 303.603 Q438.527 303.001 440.796 301.797 L440.796 305.825 Q438.504 306.797 436.097 307.307 Q433.69 307.816 431.213 307.816 Q425.009 307.816 421.375 304.205 Q417.764 300.594 417.764 294.436 Q417.764 288.071 421.19 284.344 Q424.639 280.594 430.472 280.594 Q435.703 280.594 438.736 283.973 Q441.791 287.33 441.791 293.117 M437.532 291.867 Q437.486 288.372 435.565 286.288 Q433.666 284.205 430.518 284.205 Q426.953 284.205 424.801 286.219 Q422.671 288.233 422.347 291.89 L437.532 291.867 Z\" fill=\"#000000\" fill-rule=\"evenodd\" fill-opacity=\"1\" /><path clip-path=\"url(#clip640)\" d=\"M 0 0 M446.444 272.585 L451.12 272.585 L451.12 286.751 L468.111 286.751 L468.111 272.585 L472.787 272.585 L472.787 307.145 L468.111 307.145 L468.111 290.686 L451.12 290.686 L451.12 307.145 L446.444 307.145 L446.444 272.585 Z\" fill=\"#000000\" fill-rule=\"evenodd\" fill-opacity=\"1\" /></svg>\n"
      ]
     },
     "execution_count": 20,
     "metadata": {},
     "output_type": "execute_result"
    }
   ],
   "source": [
    "# Plot distribution Ψ to check what is happening\n",
    "\n",
    "# Unconstrained\n",
    "p2 = plot(A, Ψ, linewidth = 2, title = \"Stationary distribution\", label = [\"eL\" \"eH\"], legend =:topleft)\n",
    "\n",
    "# Constrained to endogenous a_UpperBar\n",
    "p2B = plot(A[1:aUB+20], Ψ[1:aUB+20,:], linewidth = 2, \n",
    "    title = \"Stationary distribution\", label = [\"eL\" \"eH\"], legend =:topleft)"
   ]
  },
  {
   "cell_type": "code",
   "execution_count": 21,
   "metadata": {},
   "outputs": [
    {
     "data": {
      "image/svg+xml": [
       "<?xml version=\"1.0\" encoding=\"utf-8\"?>\n",
       "<svg xmlns=\"http://www.w3.org/2000/svg\" xmlns:xlink=\"http://www.w3.org/1999/xlink\" width=\"600\" height=\"400\" viewBox=\"0 0 2400 1600\">\n",
       "<defs>\n",
       "  <clipPath id=\"clip680\">\n",
       "    <rect x=\"0\" y=\"0\" width=\"2400\" height=\"1600\"/>\n",
       "  </clipPath>\n",
       "</defs>\n",
       "<path clip-path=\"url(#clip680)\" d=\"\n",
       "M0 1600 L2400 1600 L2400 0 L0 0  Z\n",
       "  \" fill=\"#ffffff\" fill-rule=\"evenodd\" fill-opacity=\"1\"/>\n",
       "<defs>\n",
       "  <clipPath id=\"clip681\">\n",
       "    <rect x=\"480\" y=\"0\" width=\"1681\" height=\"1600\"/>\n",
       "  </clipPath>\n",
       "</defs>\n",
       "<path clip-path=\"url(#clip680)\" d=\"\n",
       "M148.334 1486.45 L2352.76 1486.45 L2352.76 123.472 L148.334 123.472  Z\n",
       "  \" fill=\"#ffffff\" fill-rule=\"evenodd\" fill-opacity=\"1\"/>\n",
       "<defs>\n",
       "  <clipPath id=\"clip682\">\n",
       "    <rect x=\"148\" y=\"123\" width=\"2205\" height=\"1364\"/>\n",
       "  </clipPath>\n",
       "</defs>\n",
       "<polyline clip-path=\"url(#clip682)\" style=\"stroke:#000000; stroke-width:2; stroke-opacity:0.1; fill:none\" points=\"\n",
       "  210.724,1486.45 210.724,123.472 \n",
       "  \"/>\n",
       "<polyline clip-path=\"url(#clip682)\" style=\"stroke:#000000; stroke-width:2; stroke-opacity:0.1; fill:none\" points=\"\n",
       "  813.544,1486.45 813.544,123.472 \n",
       "  \"/>\n",
       "<polyline clip-path=\"url(#clip682)\" style=\"stroke:#000000; stroke-width:2; stroke-opacity:0.1; fill:none\" points=\"\n",
       "  1416.36,1486.45 1416.36,123.472 \n",
       "  \"/>\n",
       "<polyline clip-path=\"url(#clip682)\" style=\"stroke:#000000; stroke-width:2; stroke-opacity:0.1; fill:none\" points=\"\n",
       "  2019.18,1486.45 2019.18,123.472 \n",
       "  \"/>\n",
       "<polyline clip-path=\"url(#clip682)\" style=\"stroke:#000000; stroke-width:2; stroke-opacity:0.1; fill:none\" points=\"\n",
       "  148.334,1464.44 2352.76,1464.44 \n",
       "  \"/>\n",
       "<polyline clip-path=\"url(#clip682)\" style=\"stroke:#000000; stroke-width:2; stroke-opacity:0.1; fill:none\" points=\"\n",
       "  148.334,1164.89 2352.76,1164.89 \n",
       "  \"/>\n",
       "<polyline clip-path=\"url(#clip682)\" style=\"stroke:#000000; stroke-width:2; stroke-opacity:0.1; fill:none\" points=\"\n",
       "  148.334,865.34 2352.76,865.34 \n",
       "  \"/>\n",
       "<polyline clip-path=\"url(#clip682)\" style=\"stroke:#000000; stroke-width:2; stroke-opacity:0.1; fill:none\" points=\"\n",
       "  148.334,565.789 2352.76,565.789 \n",
       "  \"/>\n",
       "<polyline clip-path=\"url(#clip682)\" style=\"stroke:#000000; stroke-width:2; stroke-opacity:0.1; fill:none\" points=\"\n",
       "  148.334,266.238 2352.76,266.238 \n",
       "  \"/>\n",
       "<polyline clip-path=\"url(#clip680)\" style=\"stroke:#000000; stroke-width:4; stroke-opacity:1; fill:none\" points=\"\n",
       "  148.334,1486.45 2352.76,1486.45 \n",
       "  \"/>\n",
       "<polyline clip-path=\"url(#clip680)\" style=\"stroke:#000000; stroke-width:4; stroke-opacity:1; fill:none\" points=\"\n",
       "  148.334,1486.45 148.334,123.472 \n",
       "  \"/>\n",
       "<polyline clip-path=\"url(#clip680)\" style=\"stroke:#000000; stroke-width:4; stroke-opacity:1; fill:none\" points=\"\n",
       "  210.724,1486.45 210.724,1470.09 \n",
       "  \"/>\n",
       "<polyline clip-path=\"url(#clip680)\" style=\"stroke:#000000; stroke-width:4; stroke-opacity:1; fill:none\" points=\"\n",
       "  813.544,1486.45 813.544,1470.09 \n",
       "  \"/>\n",
       "<polyline clip-path=\"url(#clip680)\" style=\"stroke:#000000; stroke-width:4; stroke-opacity:1; fill:none\" points=\"\n",
       "  1416.36,1486.45 1416.36,1470.09 \n",
       "  \"/>\n",
       "<polyline clip-path=\"url(#clip680)\" style=\"stroke:#000000; stroke-width:4; stroke-opacity:1; fill:none\" points=\"\n",
       "  2019.18,1486.45 2019.18,1470.09 \n",
       "  \"/>\n",
       "<polyline clip-path=\"url(#clip680)\" style=\"stroke:#000000; stroke-width:4; stroke-opacity:1; fill:none\" points=\"\n",
       "  148.334,1464.44 174.787,1464.44 \n",
       "  \"/>\n",
       "<polyline clip-path=\"url(#clip680)\" style=\"stroke:#000000; stroke-width:4; stroke-opacity:1; fill:none\" points=\"\n",
       "  148.334,1164.89 174.787,1164.89 \n",
       "  \"/>\n",
       "<polyline clip-path=\"url(#clip680)\" style=\"stroke:#000000; stroke-width:4; stroke-opacity:1; fill:none\" points=\"\n",
       "  148.334,865.34 174.787,865.34 \n",
       "  \"/>\n",
       "<polyline clip-path=\"url(#clip680)\" style=\"stroke:#000000; stroke-width:4; stroke-opacity:1; fill:none\" points=\"\n",
       "  148.334,565.789 174.787,565.789 \n",
       "  \"/>\n",
       "<polyline clip-path=\"url(#clip680)\" style=\"stroke:#000000; stroke-width:4; stroke-opacity:1; fill:none\" points=\"\n",
       "  148.334,266.238 174.787,266.238 \n",
       "  \"/>\n",
       "<path clip-path=\"url(#clip680)\" d=\"M 0 0 M183.178 1523.09 L212.853 1523.09 L212.853 1527.03 L183.178 1527.03 L183.178 1523.09 Z\" fill=\"#000000\" fill-rule=\"evenodd\" fill-opacity=\"1\" /><path clip-path=\"url(#clip680)\" d=\"M 0 0 M221.95 1535.98 L238.27 1535.98 L238.27 1539.92 L216.325 1539.92 L216.325 1535.98 Q218.988 1533.23 223.571 1528.6 Q228.177 1523.95 229.358 1522.61 Q231.603 1520.08 232.483 1518.35 Q233.386 1516.59 233.386 1514.9 Q233.386 1512.14 231.441 1510.41 Q229.52 1508.67 226.418 1508.67 Q224.219 1508.67 221.765 1509.43 Q219.335 1510.2 216.557 1511.75 L216.557 1507.03 Q219.381 1505.89 221.835 1505.31 Q224.288 1504.73 226.325 1504.73 Q231.696 1504.73 234.89 1507.42 Q238.085 1510.11 238.085 1514.6 Q238.085 1516.73 237.274 1518.65 Q236.487 1520.54 234.381 1523.14 Q233.802 1523.81 230.7 1527.03 Q227.599 1530.22 221.95 1535.98 Z\" fill=\"#000000\" fill-rule=\"evenodd\" fill-opacity=\"1\" /><path clip-path=\"url(#clip680)\" d=\"M 0 0 M785.812 1523.09 L815.488 1523.09 L815.488 1527.03 L785.812 1527.03 L785.812 1523.09 Z\" fill=\"#000000\" fill-rule=\"evenodd\" fill-opacity=\"1\" /><path clip-path=\"url(#clip680)\" d=\"M 0 0 M821.368 1535.98 L829.007 1535.98 L829.007 1509.62 L820.697 1511.29 L820.697 1507.03 L828.96 1505.36 L833.636 1505.36 L833.636 1535.98 L841.275 1535.98 L841.275 1539.92 L821.368 1539.92 L821.368 1535.98 Z\" fill=\"#000000\" fill-rule=\"evenodd\" fill-opacity=\"1\" /><path clip-path=\"url(#clip680)\" d=\"M 0 0 M1416.36 1508.44 Q1412.75 1508.44 1410.92 1512 Q1409.12 1515.55 1409.12 1522.67 Q1409.12 1529.78 1410.92 1533.35 Q1412.75 1536.89 1416.36 1536.89 Q1420 1536.89 1421.8 1533.35 Q1423.63 1529.78 1423.63 1522.67 Q1423.63 1515.55 1421.8 1512 Q1420 1508.44 1416.36 1508.44 M1416.36 1504.73 Q1422.17 1504.73 1425.23 1509.34 Q1428.31 1513.92 1428.31 1522.67 Q1428.31 1531.4 1425.23 1536.01 Q1422.17 1540.59 1416.36 1540.59 Q1410.55 1540.59 1407.48 1536.01 Q1404.42 1531.4 1404.42 1522.67 Q1404.42 1513.92 1407.48 1509.34 Q1410.55 1504.73 1416.36 1504.73 Z\" fill=\"#000000\" fill-rule=\"evenodd\" fill-opacity=\"1\" /><path clip-path=\"url(#clip680)\" d=\"M 0 0 M2009.57 1535.98 L2017.2 1535.98 L2017.2 1509.62 L2008.89 1511.29 L2008.89 1507.03 L2017.16 1505.36 L2021.83 1505.36 L2021.83 1535.98 L2029.47 1535.98 L2029.47 1539.92 L2009.57 1539.92 L2009.57 1535.98 Z\" fill=\"#000000\" fill-rule=\"evenodd\" fill-opacity=\"1\" /><path clip-path=\"url(#clip680)\" d=\"M 0 0 M75.4226 1450.24 Q71.8115 1450.24 69.9828 1453.81 Q68.1773 1457.35 68.1773 1464.48 Q68.1773 1471.58 69.9828 1475.15 Q71.8115 1478.69 75.4226 1478.69 Q79.0569 1478.69 80.8624 1475.15 Q82.6911 1471.58 82.6911 1464.48 Q82.6911 1457.35 80.8624 1453.81 Q79.0569 1450.24 75.4226 1450.24 M75.4226 1446.54 Q81.2328 1446.54 84.2883 1451.14 Q87.367 1455.73 87.367 1464.48 Q87.367 1473.2 84.2883 1477.81 Q81.2328 1482.39 75.4226 1482.39 Q69.6125 1482.39 66.5338 1477.81 Q63.4782 1473.2 63.4782 1464.48 Q63.4782 1455.73 66.5338 1451.14 Q69.6125 1446.54 75.4226 1446.54 Z\" fill=\"#000000\" fill-rule=\"evenodd\" fill-opacity=\"1\" /><path clip-path=\"url(#clip680)\" d=\"M 0 0 M92.4364 1475.84 L97.3206 1475.84 L97.3206 1481.72 L92.4364 1481.72 L92.4364 1475.84 Z\" fill=\"#000000\" fill-rule=\"evenodd\" fill-opacity=\"1\" /><path clip-path=\"url(#clip680)\" d=\"M 0 0 M112.39 1450.24 Q108.779 1450.24 106.95 1453.81 Q105.145 1457.35 105.145 1464.48 Q105.145 1471.58 106.95 1475.15 Q108.779 1478.69 112.39 1478.69 Q116.024 1478.69 117.83 1475.15 Q119.658 1471.58 119.658 1464.48 Q119.658 1457.35 117.83 1453.81 Q116.024 1450.24 112.39 1450.24 M112.39 1446.54 Q118.2 1446.54 121.256 1451.14 Q124.334 1455.73 124.334 1464.48 Q124.334 1473.2 121.256 1477.81 Q118.2 1482.39 112.39 1482.39 Q106.58 1482.39 103.501 1477.81 Q100.446 1473.2 100.446 1464.48 Q100.446 1455.73 103.501 1451.14 Q106.58 1446.54 112.39 1446.54 Z\" fill=\"#000000\" fill-rule=\"evenodd\" fill-opacity=\"1\" /><path clip-path=\"url(#clip680)\" d=\"M 0 0 M77.0198 1150.69 Q73.4087 1150.69 71.58 1154.25 Q69.7745 1157.8 69.7745 1164.93 Q69.7745 1172.03 71.58 1175.6 Q73.4087 1179.14 77.0198 1179.14 Q80.6541 1179.14 82.4596 1175.6 Q84.2883 1172.03 84.2883 1164.93 Q84.2883 1157.8 82.4596 1154.25 Q80.6541 1150.69 77.0198 1150.69 M77.0198 1146.99 Q82.83 1146.99 85.8855 1151.59 Q88.9642 1156.18 88.9642 1164.93 Q88.9642 1173.65 85.8855 1178.26 Q82.83 1182.84 77.0198 1182.84 Q71.2097 1182.84 68.131 1178.26 Q65.0754 1173.65 65.0754 1164.93 Q65.0754 1156.18 68.131 1151.59 Q71.2097 1146.99 77.0198 1146.99 Z\" fill=\"#000000\" fill-rule=\"evenodd\" fill-opacity=\"1\" /><path clip-path=\"url(#clip680)\" d=\"M 0 0 M94.0336 1176.29 L98.9179 1176.29 L98.9179 1182.17 L94.0336 1182.17 L94.0336 1176.29 Z\" fill=\"#000000\" fill-rule=\"evenodd\" fill-opacity=\"1\" /><path clip-path=\"url(#clip680)\" d=\"M 0 0 M108.015 1178.24 L124.334 1178.24 L124.334 1182.17 L102.39 1182.17 L102.39 1178.24 Q105.052 1175.48 109.635 1170.85 Q114.242 1166.2 115.422 1164.86 Q117.668 1162.33 118.547 1160.6 Q119.45 1158.84 119.45 1157.15 Q119.45 1154.39 117.506 1152.66 Q115.584 1150.92 112.483 1150.92 Q110.284 1150.92 107.83 1151.68 Q105.399 1152.45 102.622 1154 L102.622 1149.28 Q105.446 1148.14 107.899 1147.56 Q110.353 1146.99 112.39 1146.99 Q117.76 1146.99 120.955 1149.67 Q124.149 1152.36 124.149 1156.85 Q124.149 1158.98 123.339 1160.9 Q122.552 1162.8 120.446 1165.39 Q119.867 1166.06 116.765 1169.28 Q113.663 1172.47 108.015 1178.24 Z\" fill=\"#000000\" fill-rule=\"evenodd\" fill-opacity=\"1\" /><path clip-path=\"url(#clip680)\" d=\"M 0 0 M74.9365 851.139 Q71.3254 851.139 69.4967 854.704 Q67.6912 858.245 67.6912 865.375 Q67.6912 872.481 69.4967 876.046 Q71.3254 879.588 74.9365 879.588 Q78.5707 879.588 80.3763 876.046 Q82.205 872.481 82.205 865.375 Q82.205 858.245 80.3763 854.704 Q78.5707 851.139 74.9365 851.139 M74.9365 847.435 Q80.7467 847.435 83.8022 852.041 Q86.8809 856.625 86.8809 865.375 Q86.8809 874.102 83.8022 878.708 Q80.7467 883.291 74.9365 883.291 Q69.1264 883.291 66.0477 878.708 Q62.9921 874.102 62.9921 865.375 Q62.9921 856.625 66.0477 852.041 Q69.1264 847.435 74.9365 847.435 Z\" fill=\"#000000\" fill-rule=\"evenodd\" fill-opacity=\"1\" /><path clip-path=\"url(#clip680)\" d=\"M 0 0 M91.9503 876.74 L96.8345 876.74 L96.8345 882.62 L91.9503 882.62 L91.9503 876.74 Z\" fill=\"#000000\" fill-rule=\"evenodd\" fill-opacity=\"1\" /><path clip-path=\"url(#clip680)\" d=\"M 0 0 M114.751 852.134 L102.946 870.583 L114.751 870.583 L114.751 852.134 M113.524 848.06 L119.404 848.06 L119.404 870.583 L124.334 870.583 L124.334 874.472 L119.404 874.472 L119.404 882.62 L114.751 882.62 L114.751 874.472 L99.1493 874.472 L99.1493 869.958 L113.524 848.06 Z\" fill=\"#000000\" fill-rule=\"evenodd\" fill-opacity=\"1\" /><path clip-path=\"url(#clip680)\" d=\"M 0 0 M75.2606 551.588 Q71.6495 551.588 69.8208 555.153 Q68.0152 558.694 68.0152 565.824 Q68.0152 572.93 69.8208 576.495 Q71.6495 580.037 75.2606 580.037 Q78.8948 580.037 80.7004 576.495 Q82.5291 572.93 82.5291 565.824 Q82.5291 558.694 80.7004 555.153 Q78.8948 551.588 75.2606 551.588 M75.2606 547.884 Q81.0707 547.884 84.1263 552.491 Q87.205 557.074 87.205 565.824 Q87.205 574.551 84.1263 579.157 Q81.0707 583.74 75.2606 583.74 Q69.4504 583.74 66.3717 579.157 Q63.3162 574.551 63.3162 565.824 Q63.3162 557.074 66.3717 552.491 Q69.4504 547.884 75.2606 547.884 Z\" fill=\"#000000\" fill-rule=\"evenodd\" fill-opacity=\"1\" /><path clip-path=\"url(#clip680)\" d=\"M 0 0 M92.2744 577.19 L97.1586 577.19 L97.1586 583.069 L92.2744 583.069 L92.2744 577.19 Z\" fill=\"#000000\" fill-rule=\"evenodd\" fill-opacity=\"1\" /><path clip-path=\"url(#clip680)\" d=\"M 0 0 M112.807 563.926 Q109.659 563.926 107.807 566.078 Q105.978 568.231 105.978 571.981 Q105.978 575.708 107.807 577.884 Q109.659 580.037 112.807 580.037 Q115.955 580.037 117.783 577.884 Q119.635 575.708 119.635 571.981 Q119.635 568.231 117.783 566.078 Q115.955 563.926 112.807 563.926 M122.089 549.273 L122.089 553.532 Q120.33 552.699 118.524 552.259 Q116.742 551.819 114.983 551.819 Q110.353 551.819 107.899 554.944 Q105.469 558.069 105.122 564.389 Q106.487 562.375 108.547 561.31 Q110.608 560.222 113.084 560.222 Q118.293 560.222 121.302 563.393 Q124.334 566.541 124.334 571.981 Q124.334 577.305 121.186 580.523 Q118.038 583.74 112.807 583.74 Q106.811 583.74 103.64 579.157 Q100.469 574.551 100.469 565.824 Q100.469 557.629 104.358 552.768 Q108.247 547.884 114.797 547.884 Q116.557 547.884 118.339 548.231 Q120.145 548.579 122.089 549.273 Z\" fill=\"#000000\" fill-rule=\"evenodd\" fill-opacity=\"1\" /><path clip-path=\"url(#clip680)\" d=\"M 0 0 M75.5152 252.037 Q71.9041 252.037 70.0754 255.602 Q68.2699 259.143 68.2699 266.273 Q68.2699 273.379 70.0754 276.944 Q71.9041 280.486 75.5152 280.486 Q79.1494 280.486 80.955 276.944 Q82.7837 273.379 82.7837 266.273 Q82.7837 259.143 80.955 255.602 Q79.1494 252.037 75.5152 252.037 M75.5152 248.333 Q81.3254 248.333 84.3809 252.94 Q87.4596 257.523 87.4596 266.273 Q87.4596 275 84.3809 279.606 Q81.3254 284.19 75.5152 284.19 Q69.7051 284.19 66.6264 279.606 Q63.5708 275 63.5708 266.273 Q63.5708 257.523 66.6264 252.94 Q69.7051 248.333 75.5152 248.333 Z\" fill=\"#000000\" fill-rule=\"evenodd\" fill-opacity=\"1\" /><path clip-path=\"url(#clip680)\" d=\"M 0 0 M92.529 277.639 L97.4132 277.639 L97.4132 283.518 L92.529 283.518 L92.529 277.639 Z\" fill=\"#000000\" fill-rule=\"evenodd\" fill-opacity=\"1\" /><path clip-path=\"url(#clip680)\" d=\"M 0 0 M112.483 267.106 Q109.149 267.106 107.228 268.889 Q105.33 270.671 105.33 273.796 Q105.33 276.921 107.228 278.703 Q109.149 280.486 112.483 280.486 Q115.816 280.486 117.737 278.703 Q119.658 276.898 119.658 273.796 Q119.658 270.671 117.737 268.889 Q115.839 267.106 112.483 267.106 M107.807 265.116 Q104.797 264.375 103.108 262.315 Q101.441 260.254 101.441 257.292 Q101.441 253.148 104.381 250.741 Q107.344 248.333 112.483 248.333 Q117.645 248.333 120.584 250.741 Q123.524 253.148 123.524 257.292 Q123.524 260.254 121.834 262.315 Q120.168 264.375 117.182 265.116 Q120.561 265.903 122.436 268.194 Q124.334 270.486 124.334 273.796 Q124.334 278.819 121.256 281.504 Q118.2 284.19 112.483 284.19 Q106.765 284.19 103.686 281.504 Q100.631 278.819 100.631 273.796 Q100.631 270.486 102.529 268.194 Q104.427 265.903 107.807 265.116 M106.094 257.731 Q106.094 260.417 107.76 261.921 Q109.45 263.426 112.483 263.426 Q115.492 263.426 117.182 261.921 Q118.895 260.417 118.895 257.731 Q118.895 255.046 117.182 253.542 Q115.492 252.037 112.483 252.037 Q109.45 252.037 107.76 253.542 Q106.094 255.046 106.094 257.731 Z\" fill=\"#000000\" fill-rule=\"evenodd\" fill-opacity=\"1\" /><path clip-path=\"url(#clip680)\" d=\"M 0 0 M882.156 14.0809 L882.156 22.0612 Q877.497 19.8332 873.365 18.7395 Q869.234 17.6457 865.385 17.6457 Q858.701 17.6457 855.055 20.2383 Q851.45 22.8309 851.45 27.611 Q851.45 31.6214 853.84 33.6873 Q856.271 35.7128 862.995 36.9686 L867.937 37.9813 Q877.092 39.7232 881.427 44.1387 Q885.802 48.5136 885.802 55.8863 Q885.802 64.6767 879.887 69.2137 Q874.014 73.7508 862.631 73.7508 Q858.337 73.7508 853.476 72.7785 Q848.655 71.8063 843.47 69.9024 L843.47 61.4765 Q848.452 64.2716 853.232 65.6895 Q858.013 67.1073 862.631 67.1073 Q869.639 67.1073 873.446 64.3527 Q877.254 61.598 877.254 56.4939 Q877.254 52.0379 874.5 49.5264 Q871.786 47.0148 865.547 45.759 L860.565 44.7868 Q851.41 42.9639 847.318 39.075 Q843.227 35.1862 843.227 28.2591 Q843.227 20.2383 848.857 15.6203 Q854.529 11.0023 864.453 11.0023 Q868.707 11.0023 873.122 11.7719 Q877.538 12.5416 882.156 14.0809 Z\" fill=\"#000000\" fill-rule=\"evenodd\" fill-opacity=\"1\" /><path clip-path=\"url(#clip680)\" d=\"M 0 0 M900.993 14.324 L900.993 27.2059 L916.346 27.2059 L916.346 32.9987 L900.993 32.9987 L900.993 57.6282 Q900.993 63.1779 902.491 64.7578 Q904.031 66.3376 908.689 66.3376 L916.346 66.3376 L916.346 72.576 L908.689 72.576 Q900.061 72.576 896.78 69.3758 Q893.498 66.1351 893.498 57.6282 L893.498 32.9987 L888.03 32.9987 L888.03 27.2059 L893.498 27.2059 L893.498 14.324 L900.993 14.324 Z\" fill=\"#000000\" fill-rule=\"evenodd\" fill-opacity=\"1\" /><path clip-path=\"url(#clip680)\" d=\"M 0 0 M944.783 49.7694 Q935.749 49.7694 932.266 51.8354 Q928.782 53.9013 928.782 58.8839 Q928.782 62.8538 931.374 65.2034 Q934.007 67.5124 938.504 67.5124 Q944.702 67.5124 948.429 63.1374 Q952.196 58.7219 952.196 51.4303 L952.196 49.7694 L944.783 49.7694 M959.65 46.6907 L959.65 72.576 L952.196 72.576 L952.196 65.6895 Q949.644 69.8214 945.836 71.8063 Q942.028 73.7508 936.519 73.7508 Q929.551 73.7508 925.42 69.8619 Q921.328 65.9325 921.328 59.3701 Q921.328 51.7138 926.432 47.825 Q931.577 43.9361 941.745 43.9361 L952.196 43.9361 L952.196 43.2069 Q952.196 38.0623 948.793 35.2672 Q945.431 32.4315 939.314 32.4315 Q935.425 32.4315 931.739 33.3632 Q928.053 34.295 924.65 36.1584 L924.65 29.2718 Q928.741 27.692 932.59 26.9223 Q936.438 26.1121 940.084 26.1121 Q949.928 26.1121 954.789 31.2163 Q959.65 36.3204 959.65 46.6907 Z\" fill=\"#000000\" fill-rule=\"evenodd\" fill-opacity=\"1\" /><path clip-path=\"url(#clip680)\" d=\"M 0 0 M974.841 14.324 L974.841 27.2059 L990.194 27.2059 L990.194 32.9987 L974.841 32.9987 L974.841 57.6282 Q974.841 63.1779 976.339 64.7578 Q977.879 66.3376 982.537 66.3376 L990.194 66.3376 L990.194 72.576 L982.537 72.576 Q973.909 72.576 970.628 69.3758 Q967.346 66.1351 967.346 57.6282 L967.346 32.9987 L961.878 32.9987 L961.878 27.2059 L967.346 27.2059 L967.346 14.324 L974.841 14.324 Z\" fill=\"#000000\" fill-rule=\"evenodd\" fill-opacity=\"1\" /><path clip-path=\"url(#clip680)\" d=\"M 0 0 M998.012 27.2059 L1005.47 27.2059 L1005.47 72.576 L998.012 72.576 L998.012 27.2059 M998.012 9.54393 L1005.47 9.54393 L1005.47 18.9825 L998.012 18.9825 L998.012 9.54393 Z\" fill=\"#000000\" fill-rule=\"evenodd\" fill-opacity=\"1\" /><path clip-path=\"url(#clip680)\" d=\"M 0 0 M1030.86 32.4315 Q1024.87 32.4315 1021.39 37.1306 Q1017.9 41.7891 1017.9 49.9314 Q1017.9 58.0738 1021.34 62.7728 Q1024.83 67.4314 1030.86 67.4314 Q1036.82 67.4314 1040.3 62.7323 Q1043.79 58.0333 1043.79 49.9314 Q1043.79 41.8701 1040.3 37.1711 Q1036.82 32.4315 1030.86 32.4315 M1030.86 26.1121 Q1040.59 26.1121 1046.14 32.4315 Q1051.69 38.7509 1051.69 49.9314 Q1051.69 61.0714 1046.14 67.4314 Q1040.59 73.7508 1030.86 73.7508 Q1021.1 73.7508 1015.55 67.4314 Q1010.04 61.0714 1010.04 49.9314 Q1010.04 38.7509 1015.55 32.4315 Q1021.1 26.1121 1030.86 26.1121 Z\" fill=\"#000000\" fill-rule=\"evenodd\" fill-opacity=\"1\" /><path clip-path=\"url(#clip680)\" d=\"M 0 0 M1097.22 45.1919 L1097.22 72.576 L1089.76 72.576 L1089.76 45.4349 Q1089.76 38.994 1087.25 35.7938 Q1084.74 32.5936 1079.72 32.5936 Q1073.68 32.5936 1070.2 36.4419 Q1066.72 40.2903 1066.72 46.9338 L1066.72 72.576 L1059.22 72.576 L1059.22 27.2059 L1066.72 27.2059 L1066.72 34.2544 Q1069.39 30.163 1072.99 28.1376 Q1076.64 26.1121 1081.38 26.1121 Q1089.2 26.1121 1093.21 30.9732 Q1097.22 35.7938 1097.22 45.1919 Z\" fill=\"#000000\" fill-rule=\"evenodd\" fill-opacity=\"1\" /><path clip-path=\"url(#clip680)\" d=\"M 0 0 M1125.66 49.7694 Q1116.62 49.7694 1113.14 51.8354 Q1109.65 53.9013 1109.65 58.8839 Q1109.65 62.8538 1112.25 65.2034 Q1114.88 67.5124 1119.38 67.5124 Q1125.57 67.5124 1129.3 63.1374 Q1133.07 58.7219 1133.07 51.4303 L1133.07 49.7694 L1125.66 49.7694 M1140.52 46.6907 L1140.52 72.576 L1133.07 72.576 L1133.07 65.6895 Q1130.52 69.8214 1126.71 71.8063 Q1122.9 73.7508 1117.39 73.7508 Q1110.42 73.7508 1106.29 69.8619 Q1102.2 65.9325 1102.2 59.3701 Q1102.2 51.7138 1107.31 47.825 Q1112.45 43.9361 1122.62 43.9361 L1133.07 43.9361 L1133.07 43.2069 Q1133.07 38.0623 1129.67 35.2672 Q1126.3 32.4315 1120.19 32.4315 Q1116.3 32.4315 1112.61 33.3632 Q1108.93 34.295 1105.52 36.1584 L1105.52 29.2718 Q1109.61 27.692 1113.46 26.9223 Q1117.31 26.1121 1120.96 26.1121 Q1130.8 26.1121 1135.66 31.2163 Q1140.52 36.3204 1140.52 46.6907 Z\" fill=\"#000000\" fill-rule=\"evenodd\" fill-opacity=\"1\" /><path clip-path=\"url(#clip680)\" d=\"M 0 0 M1174.63 34.1734 Q1173.38 33.4443 1171.88 33.1202 Q1170.42 32.7556 1168.64 32.7556 Q1162.32 32.7556 1158.91 36.8875 Q1155.55 40.9789 1155.55 48.6757 L1155.55 72.576 L1148.06 72.576 L1148.06 27.2059 L1155.55 27.2059 L1155.55 34.2544 Q1157.9 30.1225 1161.67 28.1376 Q1165.44 26.1121 1170.82 26.1121 Q1171.59 26.1121 1172.52 26.2337 Q1173.46 26.3147 1174.59 26.5172 L1174.63 34.1734 Z\" fill=\"#000000\" fill-rule=\"evenodd\" fill-opacity=\"1\" /><path clip-path=\"url(#clip680)\" d=\"M 0 0 M1201.33 76.7889 Q1198.17 84.8907 1195.17 87.3618 Q1192.17 89.8329 1187.15 89.8329 L1181.19 89.8329 L1181.19 83.5945 L1185.57 83.5945 Q1188.65 83.5945 1190.35 82.1361 Q1192.05 80.6778 1194.12 75.2496 L1195.45 71.8468 L1177.1 27.2059 L1185 27.2059 L1199.18 62.6918 L1213.36 27.2059 L1221.26 27.2059 L1201.33 76.7889 Z\" fill=\"#000000\" fill-rule=\"evenodd\" fill-opacity=\"1\" /><path clip-path=\"url(#clip680)\" d=\"M 0 0 M1285.3 34.0924 L1285.3 9.54393 L1292.76 9.54393 L1292.76 72.576 L1285.3 72.576 L1285.3 65.7705 Q1282.95 69.8214 1279.35 71.8063 Q1275.78 73.7508 1270.76 73.7508 Q1262.54 73.7508 1257.35 67.1883 Q1252.21 60.6258 1252.21 49.9314 Q1252.21 39.2371 1257.35 32.6746 Q1262.54 26.1121 1270.76 26.1121 Q1275.78 26.1121 1279.35 28.0971 Q1282.95 30.0415 1285.3 34.0924 M1259.9 49.9314 Q1259.9 58.1548 1263.26 62.8538 Q1266.67 67.5124 1272.58 67.5124 Q1278.5 67.5124 1281.9 62.8538 Q1285.3 58.1548 1285.3 49.9314 Q1285.3 41.7081 1281.9 37.0496 Q1278.5 32.3505 1272.58 32.3505 Q1266.67 32.3505 1263.26 37.0496 Q1259.9 41.7081 1259.9 49.9314 Z\" fill=\"#000000\" fill-rule=\"evenodd\" fill-opacity=\"1\" /><path clip-path=\"url(#clip680)\" d=\"M 0 0 M1300.57 27.2059 L1308.03 27.2059 L1308.03 72.576 L1300.57 72.576 L1300.57 27.2059 M1300.57 9.54393 L1308.03 9.54393 L1308.03 18.9825 L1300.57 18.9825 L1300.57 9.54393 Z\" fill=\"#000000\" fill-rule=\"evenodd\" fill-opacity=\"1\" /><path clip-path=\"url(#clip680)\" d=\"M 0 0 M1344.77 28.5427 L1344.77 35.5912 Q1341.61 33.9709 1338.21 33.1607 Q1334.8 32.3505 1331.16 32.3505 Q1325.61 32.3505 1322.81 34.0519 Q1320.06 35.7533 1320.06 39.156 Q1320.06 41.7486 1322.04 43.2475 Q1324.03 44.7058 1330.02 46.0426 L1332.58 46.6097 Q1340.52 48.3111 1343.84 51.4303 Q1347.2 54.509 1347.2 60.0587 Q1347.2 66.3781 1342.18 70.0644 Q1337.19 73.7508 1328.44 73.7508 Q1324.8 73.7508 1320.83 73.0216 Q1316.9 72.3329 1312.52 70.9151 L1312.52 63.2184 Q1316.66 65.3654 1320.67 66.4591 Q1324.68 67.5124 1328.61 67.5124 Q1333.87 67.5124 1336.71 65.73 Q1339.54 63.9071 1339.54 60.6258 Q1339.54 57.5877 1337.48 55.9673 Q1335.45 54.3469 1328.53 52.8481 L1325.93 52.2405 Q1319.01 50.7821 1315.93 47.7845 Q1312.85 44.7463 1312.85 39.4801 Q1312.85 33.0797 1317.39 29.5959 Q1321.92 26.1121 1330.27 26.1121 Q1334.4 26.1121 1338.04 26.7198 Q1341.69 27.3274 1344.77 28.5427 Z\" fill=\"#000000\" fill-rule=\"evenodd\" fill-opacity=\"1\" /><path clip-path=\"url(#clip680)\" d=\"M 0 0 M1362.39 14.324 L1362.39 27.2059 L1377.74 27.2059 L1377.74 32.9987 L1362.39 32.9987 L1362.39 57.6282 Q1362.39 63.1779 1363.89 64.7578 Q1365.43 66.3376 1370.09 66.3376 L1377.74 66.3376 L1377.74 72.576 L1370.09 72.576 Q1361.46 72.576 1358.18 69.3758 Q1354.9 66.1351 1354.9 57.6282 L1354.9 32.9987 L1349.43 32.9987 L1349.43 27.2059 L1354.9 27.2059 L1354.9 14.324 L1362.39 14.324 Z\" fill=\"#000000\" fill-rule=\"evenodd\" fill-opacity=\"1\" /><path clip-path=\"url(#clip680)\" d=\"M 0 0 M1411.85 34.1734 Q1410.6 33.4443 1409.1 33.1202 Q1407.64 32.7556 1405.86 32.7556 Q1399.54 32.7556 1396.13 36.8875 Q1392.77 40.9789 1392.77 48.6757 L1392.77 72.576 L1385.28 72.576 L1385.28 27.2059 L1392.77 27.2059 L1392.77 34.2544 Q1395.12 30.1225 1398.89 28.1376 Q1402.66 26.1121 1408.04 26.1121 Q1408.81 26.1121 1409.75 26.2337 Q1410.68 26.3147 1411.81 26.5172 L1411.85 34.1734 Z\" fill=\"#000000\" fill-rule=\"evenodd\" fill-opacity=\"1\" /><path clip-path=\"url(#clip680)\" d=\"M 0 0 M1419.67 27.2059 L1427.12 27.2059 L1427.12 72.576 L1419.67 72.576 L1419.67 27.2059 M1419.67 9.54393 L1427.12 9.54393 L1427.12 18.9825 L1419.67 18.9825 L1419.67 9.54393 Z\" fill=\"#000000\" fill-rule=\"evenodd\" fill-opacity=\"1\" /><path clip-path=\"url(#clip680)\" d=\"M 0 0 M1467.51 49.9314 Q1467.51 41.7081 1464.11 37.0496 Q1460.75 32.3505 1454.83 32.3505 Q1448.92 32.3505 1445.52 37.0496 Q1442.15 41.7081 1442.15 49.9314 Q1442.15 58.1548 1445.52 62.8538 Q1448.92 67.5124 1454.83 67.5124 Q1460.75 67.5124 1464.11 62.8538 Q1467.51 58.1548 1467.51 49.9314 M1442.15 34.0924 Q1444.5 30.0415 1448.07 28.0971 Q1451.67 26.1121 1456.66 26.1121 Q1464.92 26.1121 1470.06 32.6746 Q1475.25 39.2371 1475.25 49.9314 Q1475.25 60.6258 1470.06 67.1883 Q1464.92 73.7508 1456.66 73.7508 Q1451.67 73.7508 1448.07 71.8063 Q1444.5 69.8214 1442.15 65.7705 L1442.15 72.576 L1434.66 72.576 L1434.66 9.54393 L1442.15 9.54393 L1442.15 34.0924 Z\" fill=\"#000000\" fill-rule=\"evenodd\" fill-opacity=\"1\" /><path clip-path=\"url(#clip680)\" d=\"M 0 0 M1482.3 54.671 L1482.3 27.2059 L1489.75 27.2059 L1489.75 54.3874 Q1489.75 60.8284 1492.26 64.0691 Q1494.77 67.2693 1499.8 67.2693 Q1505.83 67.2693 1509.32 63.421 Q1512.84 59.5726 1512.84 52.9291 L1512.84 27.2059 L1520.29 27.2059 L1520.29 72.576 L1512.84 72.576 L1512.84 65.6084 Q1510.13 69.7404 1506.52 71.7658 Q1502.96 73.7508 1498.22 73.7508 Q1490.4 73.7508 1486.35 68.8897 Q1482.3 64.0286 1482.3 54.671 M1501.05 26.1121 L1501.05 26.1121 Z\" fill=\"#000000\" fill-rule=\"evenodd\" fill-opacity=\"1\" /><path clip-path=\"url(#clip680)\" d=\"M 0 0 M1535.49 14.324 L1535.49 27.2059 L1550.84 27.2059 L1550.84 32.9987 L1535.49 32.9987 L1535.49 57.6282 Q1535.49 63.1779 1536.98 64.7578 Q1538.52 66.3376 1543.18 66.3376 L1550.84 66.3376 L1550.84 72.576 L1543.18 72.576 Q1534.55 72.576 1531.27 69.3758 Q1527.99 66.1351 1527.99 57.6282 L1527.99 32.9987 L1522.52 32.9987 L1522.52 27.2059 L1527.99 27.2059 L1527.99 14.324 L1535.49 14.324 Z\" fill=\"#000000\" fill-rule=\"evenodd\" fill-opacity=\"1\" /><path clip-path=\"url(#clip680)\" d=\"M 0 0 M1558.66 27.2059 L1566.11 27.2059 L1566.11 72.576 L1558.66 72.576 L1558.66 27.2059 M1558.66 9.54393 L1566.11 9.54393 L1566.11 18.9825 L1558.66 18.9825 L1558.66 9.54393 Z\" fill=\"#000000\" fill-rule=\"evenodd\" fill-opacity=\"1\" /><path clip-path=\"url(#clip680)\" d=\"M 0 0 M1591.51 32.4315 Q1585.51 32.4315 1582.03 37.1306 Q1578.55 41.7891 1578.55 49.9314 Q1578.55 58.0738 1581.99 62.7728 Q1585.47 67.4314 1591.51 67.4314 Q1597.46 67.4314 1600.95 62.7323 Q1604.43 58.0333 1604.43 49.9314 Q1604.43 41.8701 1600.95 37.1711 Q1597.46 32.4315 1591.51 32.4315 M1591.51 26.1121 Q1601.23 26.1121 1606.78 32.4315 Q1612.33 38.7509 1612.33 49.9314 Q1612.33 61.0714 1606.78 67.4314 Q1601.23 73.7508 1591.51 73.7508 Q1581.75 73.7508 1576.2 67.4314 Q1570.69 61.0714 1570.69 49.9314 Q1570.69 38.7509 1576.2 32.4315 Q1581.75 26.1121 1591.51 26.1121 Z\" fill=\"#000000\" fill-rule=\"evenodd\" fill-opacity=\"1\" /><path clip-path=\"url(#clip680)\" d=\"M 0 0 M1657.86 45.1919 L1657.86 72.576 L1650.41 72.576 L1650.41 45.4349 Q1650.41 38.994 1647.9 35.7938 Q1645.39 32.5936 1640.36 32.5936 Q1634.33 32.5936 1630.84 36.4419 Q1627.36 40.2903 1627.36 46.9338 L1627.36 72.576 L1619.87 72.576 L1619.87 27.2059 L1627.36 27.2059 L1627.36 34.2544 Q1630.03 30.163 1633.64 28.1376 Q1637.28 26.1121 1642.02 26.1121 Q1649.84 26.1121 1653.85 30.9732 Q1657.86 35.7938 1657.86 45.1919 Z\" fill=\"#000000\" fill-rule=\"evenodd\" fill-opacity=\"1\" /><polyline clip-path=\"url(#clip682)\" style=\"stroke:#009af9; stroke-width:8; stroke-opacity:1; fill:none\" points=\"\n",
       "  210.724,1447.87 222.815,1447.24 234.906,1446.32 246.997,1445.52 259.087,1445.2 271.178,1444.72 283.269,1443.94 295.36,1443.55 307.451,1442.46 319.542,1442.11 \n",
       "  331.633,1441.41 343.724,1440.52 355.815,1440.16 367.906,1439.91 379.997,1439.01 392.088,1438.77 404.179,1437.47 416.27,1437.14 428.361,1436.67 440.452,1435.5 \n",
       "  452.543,1434.49 464.634,1433.8 476.725,1433.34 488.815,1432.41 500.906,1431.41 512.997,1430.65 525.088,1429.95 537.179,1429.46 549.27,1428.33 561.361,1427.72 \n",
       "  573.452,1427.26 585.543,1426.13 597.634,1424.82 609.725,1424.16 621.816,1423.25 633.907,1422 645.998,1421.02 658.089,1419.83 670.18,1419.11 682.271,1417.84 \n",
       "  694.362,1417.03 706.453,1416.02 718.543,1415.24 730.634,1413.99 742.725,1413.43 754.816,1412.06 766.907,1410.81 778.998,1409.9 791.089,1409.32 803.18,1407.73 \n",
       "  815.271,1406.7 827.362,1406.04 839.453,1404.57 851.544,1403.89 863.635,1401.55 875.726,1400.54 887.817,1399.18 899.908,1398.48 911.999,1396.91 924.09,1395.21 \n",
       "  936.181,1393.86 948.271,1393.03 960.362,1391.78 972.453,1389.47 984.544,1388.15 996.635,1387.38 1008.73,1386.35 1020.82,1385.06 1032.91,1382.76 1045,1382.01 \n",
       "  1057.09,1380.99 1069.18,1379.94 1081.27,1377.98 1093.36,1376.49 1105.45,1375.75 1117.54,1372.96 1129.64,1372.13 1141.73,1371.29 1153.82,1370.44 1165.91,1368.25 \n",
       "  1178,1367.31 1190.09,1365.51 1202.18,1363.13 1214.27,1361.97 1226.36,1360.08 1238.45,1359.13 1250.55,1356.76 1262.64,1356.06 1274.73,1354.4 1286.82,1351.94 \n",
       "  1298.91,1351.13 1311,1348.88 1323.09,1346.76 1335.18,1344.83 1347.27,1342.96 1359.36,1342.19 1371.45,1340.56 1383.55,1339.76 1395.64,1337.34 1407.73,1335.71 \n",
       "  1419.82,1335.02 1431.91,1333.55 1444,1332.35 1456.09,1329.36 1468.18,1328.38 1480.27,1327.17 1492.36,1326.24 1504.46,1323.29 1516.55,1322.48 1528.64,1321.42 \n",
       "  1540.73,1320.66 1552.82,1318.21 1564.91,1317.51 1577,1316.53 1589.09,1313.67 1601.18,1311.51 1613.27,1310.76 1625.36,1308.13 1637.46,1307.57 1649.55,1306.82 \n",
       "  1661.64,1304.2 1673.73,1303.64 1685.82,1302.93 1697.91,1300.15 1710,1299.6 1722.09,1295.82 1734.18,1295.34 1746.27,1292.39 1758.36,1291.95 1770.46,1289.57 \n",
       "  1782.55,1289.14 1794.64,1287.2 1806.73,1286.84 1818.82,1285.18 1830.91,1284.88 1843,1283.48 1855.09,1283.19 1867.18,1281.74 1879.27,1280.47 1891.37,1279.32 \n",
       "  1903.46,1278.35 1915.55,1277.49 1927.64,1276.74 1939.73,1276.07 1951.82,1275.45 1963.91,1274.96 1976,1274.44 1988.09,1273.95 2000.18,1273.54 2012.27,1273.2 \n",
       "  2024.37,1272.84 2036.46,1272.47 2048.55,1269.08 2060.64,1269.08 2072.73,1269.08 2084.82,1269.08 2096.91,1269.08 2109,1269.08 2121.09,1269.08 2133.18,1269.08 \n",
       "  2145.28,1269.08 2157.37,1269.08 2169.46,1269.08 2181.55,1269.08 2193.64,1269.08 2205.73,1269.08 2217.82,1269.08 2229.91,1269.08 2242,1269.08 2254.09,1269.08 \n",
       "  2266.18,1269.08 2278.28,1269.08 2290.37,1269.08 \n",
       "  \"/>\n",
       "<polyline clip-path=\"url(#clip682)\" style=\"stroke:#e26f46; stroke-width:8; stroke-opacity:1; fill:none\" points=\"\n",
       "  210.724,1367.7 222.815,1367.07 234.906,1366.15 246.997,1365.35 259.087,1365.03 271.178,1364.55 283.269,1363.77 295.36,1363.38 307.451,1362.29 319.542,1361.94 \n",
       "  331.633,1361.24 343.724,1360.35 355.815,1359.99 367.906,1359.74 379.997,1358.84 392.088,1358.6 404.179,1357.3 416.27,1356.97 428.361,1355.98 440.452,1354.01 \n",
       "  452.543,1352.3 464.634,1350.89 476.725,1349.78 488.815,1348.52 500.906,1346.59 512.997,1344.93 525.088,1343.46 537.179,1342.65 549.27,1341.29 561.361,1339.88 \n",
       "  573.452,1338.09 585.543,1336.68 597.634,1334.54 609.725,1332.2 621.816,1329.8 633.907,1326.41 645.998,1324.35 658.089,1321.51 670.18,1319.34 682.271,1316.78 \n",
       "  694.362,1314.05 706.453,1311.77 718.543,1309.5 730.634,1307 742.725,1304.53 754.816,1299.12 766.907,1295.03 778.998,1292.35 791.089,1289.35 803.18,1285.87 \n",
       "  815.271,1282.61 827.362,1279.52 839.453,1274.19 851.544,1271.32 863.635,1266.92 875.726,1261.27 887.817,1256.42 899.908,1253.39 911.999,1249.21 924.09,1241.58 \n",
       "  936.181,1237.51 948.271,1232.13 960.362,1228.45 972.453,1222.28 984.544,1216.09 996.635,1210.99 1008.73,1207.33 1020.82,1195.78 1032.91,1190.15 1045,1184.69 \n",
       "  1057.09,1180.58 1069.18,1174.13 1081.27,1166.89 1093.36,1161.05 1105.45,1157.07 1117.54,1139.61 1129.64,1133.93 1141.73,1129.6 1153.82,1123.35 1165.91,1114.89 \n",
       "  1178,1108.77 1190.09,1103.55 1202.18,1086.23 1214.27,1076.42 1226.36,1069.25 1238.45,1060.85 1250.55,1053.1 1262.64,1047.82 1274.73,1031.34 1286.82,1020.19 \n",
       "  1298.91,1013.06 1311,1003.42 1323.09,994.51 1335.18,973.408 1347.27,962.206 1359.36,954.936 1371.45,944.939 1383.55,936.961 1395.64,915.67 1407.73,904.684 \n",
       "  1419.82,897.769 1431.91,887.43 1444,879.672 1456.09,848.699 1468.18,841.87 1480.27,831.537 1492.36,824.201 1504.46,794.586 1516.55,787.82 1528.64,777.707 \n",
       "  1540.73,770.864 1552.82,742.763 1564.91,736.231 1577,726.512 1589.09,693.05 1601.18,685.381 1613.27,676.103 1625.36,643.672 1637.46,636.67 1649.55,627.525 \n",
       "  1661.64,595.147 1673.73,588.313 1685.82,579.448 1697.91,545.211 1710,538.423 1722.09,491.79 1734.18,485.929 1746.27,449.519 1758.36,444.109 1770.46,414.727 \n",
       "  1782.55,409.388 1794.64,385.52 1806.73,381.084 1818.82,360.628 1830.91,356.908 1843,339.617 1855.09,336.041 1867.18,318.122 1879.27,302.515 1891.37,288.346 \n",
       "  1903.46,276.313 1915.55,265.682 1927.64,256.512 1939.73,248.198 1951.82,240.639 1963.91,234.489 1976,228.153 1988.09,222.137 2000.18,217 2012.27,212.815 \n",
       "  2024.37,208.433 2036.46,203.768 2048.55,162.047 2060.64,162.047 2072.73,162.047 2084.82,162.047 2096.91,162.047 2109,162.047 2121.09,162.047 2133.18,162.047 \n",
       "  2145.28,162.047 2157.37,162.047 2169.46,162.047 2181.55,162.047 2193.64,162.047 2205.73,162.047 2217.82,162.047 2229.91,162.047 2242,162.047 2254.09,162.047 \n",
       "  2266.18,162.047 2278.28,162.047 2290.37,162.047 \n",
       "  \"/>\n",
       "<path clip-path=\"url(#clip680)\" d=\"\n",
       "M221.815 350.345 L521.774 350.345 L521.774 168.905 L221.815 168.905  Z\n",
       "  \" fill=\"#ffffff\" fill-rule=\"evenodd\" fill-opacity=\"1\"/>\n",
       "<polyline clip-path=\"url(#clip680)\" style=\"stroke:#000000; stroke-width:4; stroke-opacity:1; fill:none\" points=\"\n",
       "  221.815,350.345 521.774,350.345 521.774,168.905 221.815,168.905 221.815,350.345 \n",
       "  \"/>\n",
       "<polyline clip-path=\"url(#clip680)\" style=\"stroke:#009af9; stroke-width:4; stroke-opacity:1; fill:none\" points=\"\n",
       "  246.309,229.385 393.27,229.385 \n",
       "  \"/>\n",
       "<path clip-path=\"url(#clip680)\" d=\"M 0 0 M441.791 232.637 L441.791 234.72 L422.208 234.72 Q422.486 239.118 424.847 241.433 Q427.231 243.725 431.467 243.725 Q433.921 243.725 436.213 243.123 Q438.527 242.521 440.796 241.317 L440.796 245.345 Q438.504 246.317 436.097 246.827 Q433.69 247.336 431.213 247.336 Q425.009 247.336 421.375 243.725 Q417.764 240.114 417.764 233.956 Q417.764 227.591 421.19 223.864 Q424.639 220.114 430.472 220.114 Q435.703 220.114 438.736 223.493 Q441.791 226.85 441.791 232.637 M437.532 231.387 Q437.486 227.892 435.565 225.808 Q433.666 223.725 430.518 223.725 Q426.953 223.725 424.801 225.739 Q422.671 227.753 422.347 231.41 L437.532 231.387 Z\" fill=\"#000000\" fill-rule=\"evenodd\" fill-opacity=\"1\" /><path clip-path=\"url(#clip680)\" d=\"M 0 0 M446.444 212.105 L451.12 212.105 L451.12 242.729 L467.949 242.729 L467.949 246.665 L446.444 246.665 L446.444 212.105 Z\" fill=\"#000000\" fill-rule=\"evenodd\" fill-opacity=\"1\" /><polyline clip-path=\"url(#clip680)\" style=\"stroke:#e26f46; stroke-width:4; stroke-opacity:1; fill:none\" points=\"\n",
       "  246.309,289.865 393.27,289.865 \n",
       "  \"/>\n",
       "<path clip-path=\"url(#clip680)\" d=\"M 0 0 M441.791 293.117 L441.791 295.2 L422.208 295.2 Q422.486 299.598 424.847 301.913 Q427.231 304.205 431.467 304.205 Q433.921 304.205 436.213 303.603 Q438.527 303.001 440.796 301.797 L440.796 305.825 Q438.504 306.797 436.097 307.307 Q433.69 307.816 431.213 307.816 Q425.009 307.816 421.375 304.205 Q417.764 300.594 417.764 294.436 Q417.764 288.071 421.19 284.344 Q424.639 280.594 430.472 280.594 Q435.703 280.594 438.736 283.973 Q441.791 287.33 441.791 293.117 M437.532 291.867 Q437.486 288.372 435.565 286.288 Q433.666 284.205 430.518 284.205 Q426.953 284.205 424.801 286.219 Q422.671 288.233 422.347 291.89 L437.532 291.867 Z\" fill=\"#000000\" fill-rule=\"evenodd\" fill-opacity=\"1\" /><path clip-path=\"url(#clip680)\" d=\"M 0 0 M446.444 272.585 L451.12 272.585 L451.12 286.751 L468.111 286.751 L468.111 272.585 L472.787 272.585 L472.787 307.145 L468.111 307.145 L468.111 290.686 L451.12 290.686 L451.12 307.145 L446.444 307.145 L446.444 272.585 Z\" fill=\"#000000\" fill-rule=\"evenodd\" fill-opacity=\"1\" /></svg>\n"
      ]
     },
     "execution_count": 21,
     "metadata": {},
     "output_type": "execute_result"
    }
   ],
   "source": [
    "# Plot rescaled distribution Ψ\n",
    "# Ψ could not 'sum' to 1 after the update\n",
    "scale = sum(Ψ[end, :])\n",
    "F = Ψ ./ scale\n",
    "\n",
    "# Unconstrained\n",
    "p3 = plot(A, F, linewidth = 2, title = \"Stationary distribution\", label = [\"eL\" \"eH\"], legend =:topleft)\n",
    "\n",
    "# Constrained to endogenous a_UpperBar\n",
    "p3B = plot(A[1:aUB+20], F[1:aUB+20,:], linewidth = 2, \n",
    "    title = \"Stationary distribution\", label = [\"eL\" \"eH\"], legend =:topleft)"
   ]
  },
  {
   "cell_type": "code",
   "execution_count": null,
   "metadata": {},
   "outputs": [],
   "source": []
  }
 ],
 "metadata": {
  "kernelspec": {
   "display_name": "Julia 1.5.1",
   "language": "julia",
   "name": "julia-1.5"
  },
  "language_info": {
   "file_extension": ".jl",
   "mimetype": "application/julia",
   "name": "julia",
   "version": "1.5.1"
  }
 },
 "nbformat": 4,
 "nbformat_minor": 4
}
